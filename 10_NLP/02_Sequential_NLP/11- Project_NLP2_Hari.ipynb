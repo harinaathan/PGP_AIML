{
 "cells": [
  {
   "cell_type": "markdown",
   "id": "19b9f90c",
   "metadata": {},
   "source": [
    "# Natural Language Processing"
   ]
  },
  {
   "cell_type": "markdown",
   "id": "c67daba4",
   "metadata": {},
   "source": [
    "## Project by Hari"
   ]
  },
  {
   "cell_type": "markdown",
   "id": "e25d0d6b",
   "metadata": {},
   "source": [
    "## Part A"
   ]
  },
  {
   "cell_type": "markdown",
   "id": "d630a70a",
   "metadata": {},
   "source": [
    "**DOMAIN:** Digital content and entertainment industry<br>\n",
    "**• CONTEXT:** The objective of this project is to build a text classi ication model that analyses the customer's sentiments based on their reviews in the IMDB database. The model uses a complex deep learning model to build an embedding layer followed by a classi ication algorithm to analyse the sentiment of the customers.<br>\n",
    "**• DATA DESCRIPTION:** The Dataset of 50,000 movie reviews from IMDB, labelled by sentiment (positive/negative). Reviews have been preprocessed, and each review is encoded as a sequence of word indexes (integers). For convenience, the words are indexed by their frequency in the dataset, meaning the for that has index 1 is the most frequent word. Use the irst 20 words from each review to speed up training, using a max vocabulary size of 10,000. As a convention, \"0\" does not stand for a speci ic word, but instead is used to encode any unknown word.<br>\n",
    "**• PROJECT OBJECTIVE:** To Build a sequential NLP classi ier which can use input text parameters to determine the\n",
    "customer sentiments.<br>"
   ]
  },
  {
   "cell_type": "markdown",
   "id": "0543c154",
   "metadata": {},
   "source": [
    "**Steps and tasks:**\n",
    "1. Import and analyse the data set.<br>\n",
    "Hint:\n",
    "- Use `imdb.load_data()` method\n",
    "- Get train and test set\n",
    "- Take 10000 most frequent words"
   ]
  },
  {
   "cell_type": "code",
   "execution_count": 1,
   "id": "18a5ca04",
   "metadata": {},
   "outputs": [],
   "source": [
    "import numpy as np\n",
    "import pandas as pd\n",
    "import datetime, os\n",
    "from tqdm import tqdm\n",
    "from sklearn import metrics\n",
    "import matplotlib.pyplot as plt\n",
    "import seaborn as sns\n",
    "\n",
    "import tensorflow as tf\n",
    "from tensorflow.keras.datasets import imdb\n",
    "from tensorflow.keras.preprocessing import sequence \n",
    "from tensorflow.keras.models import Sequential, load_model\n",
    "from tensorflow.keras.utils import plot_model\n",
    "from tensorflow.keras.layers import Embedding, Dense, LSTM, SpatialDropout1D"
   ]
  },
  {
   "cell_type": "code",
   "execution_count": 2,
   "id": "45b00061",
   "metadata": {},
   "outputs": [],
   "source": [
    "(x_train, y_train), (x_test, y_test) = imdb.load_data(num_words=10000,\n",
    "                                                      oov_char=0)"
   ]
  },
  {
   "cell_type": "code",
   "execution_count": 3,
   "id": "ce1e5912",
   "metadata": {},
   "outputs": [
    {
     "data": {
      "text/plain": [
       "((25000,), (25000,))"
      ]
     },
     "execution_count": 3,
     "metadata": {},
     "output_type": "execute_result"
    }
   ],
   "source": [
    "# review dataset\n",
    "x_train.shape,y_train.shape"
   ]
  },
  {
   "cell_type": "code",
   "execution_count": 4,
   "id": "64b2f151",
   "metadata": {},
   "outputs": [
    {
     "data": {
      "text/plain": [
       "((25000,), (25000,))"
      ]
     },
     "execution_count": 4,
     "metadata": {},
     "output_type": "execute_result"
    }
   ],
   "source": [
    "x_test.shape,y_test.shape"
   ]
  },
  {
   "cell_type": "markdown",
   "id": "f973277b",
   "metadata": {},
   "source": [
    "**Steps and tasks:**<br>\n",
    "2. Perform relevant sequence adding on the data."
   ]
  },
  {
   "cell_type": "markdown",
   "id": "b7f0314a",
   "metadata": {},
   "source": [
    "let us truncate the review to first 20 characters to speed up training"
   ]
  },
  {
   "cell_type": "markdown",
   "id": "14839934",
   "metadata": {},
   "source": [
    "irrespective of review word lengths, all should been truncated to 20 length, and if necessary padded with ZEROs for shorter reviews"
   ]
  },
  {
   "cell_type": "code",
   "execution_count": 5,
   "id": "6b903e20",
   "metadata": {},
   "outputs": [],
   "source": [
    "x_train = sequence.pad_sequences(x_train, maxlen=20)\n",
    "x_test = sequence.pad_sequences(x_test, maxlen=20)"
   ]
  },
  {
   "cell_type": "markdown",
   "id": "4b4388c8",
   "metadata": {},
   "source": [
    "**Steps and tasks:**<br>\n",
    "3. Perform following data analysis:<br>\n",
    "• Print shape of features and labels<br>\n",
    "• Print value of any one feature and it's label<br>"
   ]
  },
  {
   "cell_type": "code",
   "execution_count": 6,
   "id": "8a8cb5df",
   "metadata": {},
   "outputs": [
    {
     "data": {
      "text/plain": [
       "((25000, 20), (25000,))"
      ]
     },
     "execution_count": 6,
     "metadata": {},
     "output_type": "execute_result"
    }
   ],
   "source": [
    "# review dataset\n",
    "x_train.shape,y_train.shape"
   ]
  },
  {
   "cell_type": "code",
   "execution_count": 7,
   "id": "91e796f9",
   "metadata": {},
   "outputs": [],
   "source": [
    "y_train = y_train.reshape((-1,1))\n",
    "y_test = y_test.reshape((-1,1))"
   ]
  },
  {
   "cell_type": "code",
   "execution_count": 8,
   "id": "065650c6",
   "metadata": {},
   "outputs": [
    {
     "data": {
      "text/plain": [
       "((25000, 20), (25000, 1), (25000, 20), (25000, 1))"
      ]
     },
     "execution_count": 8,
     "metadata": {},
     "output_type": "execute_result"
    }
   ],
   "source": [
    "x_train.shape,y_train.shape,x_test.shape,y_test.shape"
   ]
  },
  {
   "cell_type": "code",
   "execution_count": 9,
   "id": "4058c4ad",
   "metadata": {},
   "outputs": [
    {
     "data": {
      "text/plain": [
       "(0, 9999, 0, 9999)"
      ]
     },
     "execution_count": 9,
     "metadata": {},
     "output_type": "execute_result"
    }
   ],
   "source": [
    "# review properties of the dataset\n",
    "np.min(x_train),np.max(x_train),np.min(x_test),np.max(x_test)"
   ]
  },
  {
   "cell_type": "code",
   "execution_count": 10,
   "id": "2f2e28d1",
   "metadata": {},
   "outputs": [
    {
     "data": {
      "text/plain": [
       "(array([0, 1]), array([0, 1]))"
      ]
     },
     "execution_count": 10,
     "metadata": {},
     "output_type": "execute_result"
    }
   ],
   "source": [
    "np.unique(y_train),np.unique(y_test)"
   ]
  },
  {
   "cell_type": "code",
   "execution_count": 11,
   "id": "b3e72804",
   "metadata": {},
   "outputs": [
    {
     "name": "stdout",
     "output_type": "stream",
     "text": [
      "\u001b[1mFEATURES:\u001b[0m\n",
      "[  10   21   13 2303  386    7  149   14   20   17   94   55  221    8\n",
      "   67   89   78   70  142   79]\n",
      "\u001b[1mLABEL\u001b[0m\n",
      "[0]\n"
     ]
    }
   ],
   "source": [
    "index = np.random.randint(0,len(x_train),size=1)[0]\n",
    "print('\\033[1m'+\"FEATURES:\"+'\\033[0m')\n",
    "print(x_train[index])\n",
    "print('\\033[1m'+\"LABEL\"+'\\033[0m')\n",
    "print(y_train[index])"
   ]
  },
  {
   "cell_type": "markdown",
   "id": "36e8d4e2",
   "metadata": {},
   "source": [
    "**Steps and tasks:**<br>\n",
    "4. Decode the feature value to get original sentence"
   ]
  },
  {
   "cell_type": "code",
   "execution_count": 12,
   "id": "ab6891dc",
   "metadata": {},
   "outputs": [],
   "source": [
    "# lookup dictionaries\n",
    "w2id = imdb.get_word_index()\n",
    "w2id.update({'not_in_here':0})\n",
    "id2w = dict(zip(w2id.values(),w2id.keys()))"
   ]
  },
  {
   "cell_type": "code",
   "execution_count": 13,
   "id": "9e66b534",
   "metadata": {},
   "outputs": [
    {
     "name": "stdout",
     "output_type": "stream",
     "text": [
      "\u001b[1mFEATURES:\u001b[0m\n",
      "mel have this to they there's find so james they being quickly i i was with appearance was plays that\n",
      "\u001b[1mLABEL\u001b[0m\n",
      "[1]\n",
      "==================================================================================================== \n",
      "\n",
      "\u001b[1mFEATURES:\u001b[0m\n",
      "time very wars continue hollywood br of down people career was lead loved much main of character some br already\n",
      "\u001b[1mLABEL\u001b[0m\n",
      "[1]\n",
      "==================================================================================================== \n",
      "\n",
      "\u001b[1mFEATURES:\u001b[0m\n",
      "that gorgeous of finest not was well person film that sound probably who not_in_here 0 cast movie be fun under\n",
      "\u001b[1mLABEL\u001b[0m\n",
      "[1]\n",
      "==================================================================================================== \n",
      "\n",
      "\u001b[1mFEATURES:\u001b[0m\n",
      "was well start to was out one in why is time excellent fiction in though like one convincing as you\n",
      "\u001b[1mLABEL\u001b[0m\n",
      "[1]\n",
      "==================================================================================================== \n",
      "\n",
      "\u001b[1mFEATURES:\u001b[0m\n",
      "but of not_in_here to them wife by br any minute note that what have well not then ever man production\n",
      "\u001b[1mLABEL\u001b[0m\n",
      "[1]\n",
      "==================================================================================================== \n",
      "\n"
     ]
    }
   ],
   "source": [
    "index = np.random.randint(0,len(x_train),size=5)\n",
    "for i in index:\n",
    "    sentence = ' '.join([id2w[seq] for seq in x_train[i]])\n",
    "    print('\\033[1m'+\"FEATURES:\"+'\\033[0m')\n",
    "    print(sentence)\n",
    "    print('\\033[1m'+\"LABEL\"+'\\033[0m')\n",
    "    print(y_train[i])\n",
    "    print(\"=\"*100,'\\n')"
   ]
  },
  {
   "cell_type": "markdown",
   "id": "e27740a8",
   "metadata": {},
   "source": [
    "**Steps and tasks:**<br>\n",
    "5. Design, train, tune and test a sequential model.<br>\n",
    "Hint: The aim here Is to import the text, process it such a way that it can be taken as an inout to the ML/NN classi iers. Be\n",
    "analytical and experimental here in trying new approaches to design the best model."
   ]
  },
  {
   "cell_type": "code",
   "execution_count": 14,
   "id": "ba159ca1",
   "metadata": {},
   "outputs": [],
   "source": [
    "nVocab = np.max(x_train)+1 #10000\n",
    "inpSize = x_train.shape [-1]"
   ]
  },
  {
   "cell_type": "code",
   "execution_count": 33,
   "id": "a5805d02",
   "metadata": {},
   "outputs": [],
   "source": [
    "logFile = \"logs/hNet_tuning.har\"\n",
    "logDir = \"logs\""
   ]
  },
  {
   "cell_type": "code",
   "execution_count": 17,
   "id": "d340ee23",
   "metadata": {},
   "outputs": [
    {
     "data": {
      "text/plain": [
       "(54, 5)"
      ]
     },
     "execution_count": 17,
     "metadata": {},
     "output_type": "execute_result"
    }
   ],
   "source": [
    "grid = dict(embd=[8,16,32],\n",
    "            lstmN=[64,96,128],\n",
    "            dOut=[0.2,0.4],\n",
    "            lRate=[0.1,1e-2,1e-3])\n",
    "\n",
    "pCols = list(grid.keys())\n",
    "\n",
    "pGrid = pd.DataFrame(columns=pCols)\n",
    "for gp in [np.array([e,l,d,lr]) \n",
    "           for e in grid[\"embd\"] \n",
    "           for l in grid[\"lstmN\"] \n",
    "           for d in grid[\"dOut\"] \n",
    "           for lr in grid[\"lRate\"]]:\n",
    "    dtmp = pd.DataFrame(gp.reshape(1,-1),columns=pCols)\n",
    "    pGrid = pd.merge(pGrid,dtmp,how='outer',on=pCols)\n",
    "\n",
    "pGrid[\"epoch\"] = np.nan\n",
    "pGrid.shape"
   ]
  },
  {
   "cell_type": "code",
   "execution_count": 18,
   "id": "002d36e8",
   "metadata": {},
   "outputs": [],
   "source": [
    "#let us define a model generating method\n",
    "def senti(gridPoint):\n",
    "    embd = int(gridPoint[\"embd\"])\n",
    "    lstmN = int(gridPoint[\"lstmN\"])\n",
    "    dOut = gridPoint[\"dOut\"]\n",
    "    lr = gridPoint[\"lRate\"]\n",
    "    \n",
    "    global nVocab, inpSize\n",
    "    \n",
    "    # Random consistency seed\n",
    "    np.random.seed(129)\n",
    "    tf.random.set_seed(129)\n",
    "    \n",
    "    # cuDNN requirements for LSTM acceleration\n",
    "    lstmParams = dict(activation = 'tanh',\n",
    "                      recurrent_activation = 'sigmoid',\n",
    "                      recurrent_dropout = 0, \n",
    "                      unroll = False, use_bias = True)\n",
    "    # model building\n",
    "    model = Sequential()\n",
    "    model.add(Embedding(nVocab,embd,\n",
    "                        input_length=inpSize,name='Embedding'))\n",
    "    model.add(SpatialDropout1D(dOut,name=\"DropOut\"))\n",
    "    model.add(LSTM(lstmN,dropout=dOut/2,name=\"LSTM\",**lstmParams))\n",
    "    model.add(Dense(1,activation='sigmoid',name=\"Sentiment\"))\n",
    "    \n",
    "    # compile\n",
    "    optim = tf.keras.optimizers.RMSprop(learning_rate=lr)\n",
    "    model.compile(loss='binary_crossentropy', \n",
    "                  optimizer=optim, metrics=[\"accuracy\"])\n",
    "    \n",
    "    return model"
   ]
  },
  {
   "cell_type": "code",
   "execution_count": 31,
   "id": "dcb5c8e7",
   "metadata": {},
   "outputs": [],
   "source": [
    "# fets define a model implementer\n",
    "def runs(mFunc,mName,gIndex,gridPoint,fParams,warmStart=None):\n",
    "    \n",
    "    # Random consistency seed\n",
    "    np.random.seed(129)\n",
    "    tf.random.set_seed(129)\n",
    "    \n",
    "    # create model\n",
    "    model = mFunc(gridPoint)\n",
    "    \n",
    "    global pGrid\n",
    "    \n",
    "    mname = mName + \"_%03d_\"%(gIndex) + datetime.datetime.now().strftime(\"%d%b_%I%M%P\")\n",
    "    \n",
    "    # create tensorboard logs & callbacks\n",
    "    log_dir = os.path.join(logDir, mname)\n",
    "    tensorboard_cb = tf.keras.callbacks.TensorBoard(log_dir, histogram_freq=1, embeddings_freq=1)\n",
    "    \n",
    "    # update params\n",
    "    fParams.update(dict(callbacks=[tensorboard_cb],verbose=0))\n",
    "    \n",
    "    # refit & continue epochs\n",
    "    if warmStart!=None:\n",
    "        model.load_weights(warmStart)\n",
    "        \n",
    "    # fit the model\n",
    "    with tf.device('/device:GPU:0'):\n",
    "        logger = model.fit(**fParams)\n",
    "        \n",
    "    # record results to pGrid\n",
    "    pGrid.loc[gIndex,'epoch'] = len(logger.history.get('loss'))\n",
    "    for key in logger.history.keys():\n",
    "        pGrid.loc[gIndex,key] = logger.history.get(key)[-1]\n",
    "        \n",
    "    return model"
   ]
  },
  {
   "cell_type": "code",
   "execution_count": 20,
   "id": "b497fb0b",
   "metadata": {},
   "outputs": [
    {
     "data": {
      "text/plain": [
       "{'embd': 8.0, 'lstmN': 64.0, 'dOut': 0.4, 'lRate': 0.1, 'epoch': nan}"
      ]
     },
     "execution_count": 20,
     "metadata": {},
     "output_type": "execute_result"
    }
   ],
   "source": [
    "# lets try a model at grid point 3 (arbitraily chosen)\n",
    "dict(pGrid.iloc[3])"
   ]
  },
  {
   "cell_type": "code",
   "execution_count": 21,
   "id": "09581881",
   "metadata": {},
   "outputs": [
    {
     "name": "stderr",
     "output_type": "stream",
     "text": [
      "2022-06-24 22:18:51.175006: I tensorflow/stream_executor/cuda/cuda_gpu_executor.cc:936] successful NUMA node read from SysFS had negative value (-1), but there must be at least one NUMA node, so returning NUMA node zero\n",
      "2022-06-24 22:18:51.203722: I tensorflow/stream_executor/cuda/cuda_gpu_executor.cc:936] successful NUMA node read from SysFS had negative value (-1), but there must be at least one NUMA node, so returning NUMA node zero\n",
      "2022-06-24 22:18:51.203874: I tensorflow/stream_executor/cuda/cuda_gpu_executor.cc:936] successful NUMA node read from SysFS had negative value (-1), but there must be at least one NUMA node, so returning NUMA node zero\n"
     ]
    },
    {
     "name": "stdout",
     "output_type": "stream",
     "text": [
      "Model: \"sequential\"\n",
      "_________________________________________________________________\n",
      " Layer (type)                Output Shape              Param #   \n",
      "=================================================================\n",
      " Embedding (Embedding)       (None, 20, 8)             80000     \n",
      "                                                                 \n",
      " DropOut (SpatialDropout1D)  (None, 20, 8)             0         \n",
      "                                                                 \n",
      " LSTM (LSTM)                 (None, 64)                18688     \n",
      "                                                                 \n",
      " Sentiment (Dense)           (None, 1)                 65        \n",
      "                                                                 \n",
      "=================================================================\n",
      "Total params: 98,753\n",
      "Trainable params: 98,753\n",
      "Non-trainable params: 0\n",
      "_________________________________________________________________\n"
     ]
    },
    {
     "name": "stderr",
     "output_type": "stream",
     "text": [
      "2022-06-24 22:18:51.204762: I tensorflow/core/platform/cpu_feature_guard.cc:151] This TensorFlow binary is optimized with oneAPI Deep Neural Network Library (oneDNN) to use the following CPU instructions in performance-critical operations:  AVX2 FMA\n",
      "To enable them in other operations, rebuild TensorFlow with the appropriate compiler flags.\n",
      "2022-06-24 22:18:51.205285: I tensorflow/stream_executor/cuda/cuda_gpu_executor.cc:936] successful NUMA node read from SysFS had negative value (-1), but there must be at least one NUMA node, so returning NUMA node zero\n",
      "2022-06-24 22:18:51.205423: I tensorflow/stream_executor/cuda/cuda_gpu_executor.cc:936] successful NUMA node read from SysFS had negative value (-1), but there must be at least one NUMA node, so returning NUMA node zero\n",
      "2022-06-24 22:18:51.205531: I tensorflow/stream_executor/cuda/cuda_gpu_executor.cc:936] successful NUMA node read from SysFS had negative value (-1), but there must be at least one NUMA node, so returning NUMA node zero\n",
      "2022-06-24 22:18:51.679114: I tensorflow/stream_executor/cuda/cuda_gpu_executor.cc:936] successful NUMA node read from SysFS had negative value (-1), but there must be at least one NUMA node, so returning NUMA node zero\n",
      "2022-06-24 22:18:51.679286: I tensorflow/stream_executor/cuda/cuda_gpu_executor.cc:936] successful NUMA node read from SysFS had negative value (-1), but there must be at least one NUMA node, so returning NUMA node zero\n",
      "2022-06-24 22:18:51.679404: I tensorflow/stream_executor/cuda/cuda_gpu_executor.cc:936] successful NUMA node read from SysFS had negative value (-1), but there must be at least one NUMA node, so returning NUMA node zero\n",
      "2022-06-24 22:18:51.679503: I tensorflow/core/common_runtime/gpu/gpu_device.cc:1525] Created device /job:localhost/replica:0/task:0/device:GPU:0 with 2990 MB memory:  -> device: 0, name: Quadro P1000, pci bus id: 0000:01:00.0, compute capability: 6.1\n"
     ]
    },
    {
     "data": {
      "text/plain": [
       "None"
      ]
     },
     "metadata": {},
     "output_type": "display_data"
    },
    {
     "data": {
      "image/png": "[encoded data removed]",
      "text/plain": [
       "<IPython.core.display.Image object>"
      ]
     },
     "execution_count": 21,
     "metadata": {},
     "output_type": "execute_result"
    }
   ],
   "source": [
    "# trial model\n",
    "s1 = senti(dict(pGrid.iloc[3]))\n",
    "display(s1.summary())\n",
    "plot_model(s1,show_shapes=True)"
   ]
  },
  {
   "cell_type": "code",
   "execution_count": 22,
   "id": "e16255ea",
   "metadata": {},
   "outputs": [
    {
     "name": "stderr",
     "output_type": "stream",
     "text": [
      "2022-06-24 22:18:53.963214: I tensorflow/stream_executor/cuda/cuda_dnn.cc:368] Loaded cuDNN version 8400\n"
     ]
    },
    {
     "name": "stdout",
     "output_type": "stream",
     "text": [
      "CPU times: user 27.2 s, sys: 2.75 s, total: 30 s\n",
      "Wall time: 17.3 s\n"
     ]
    }
   ],
   "source": [
    "%%time\n",
    "# trial run (base model)\n",
    "fParams = dict(x=x_train,y=y_train,steps_per_epoch=200,\n",
    "                 batch_size=32,epochs=20,validation_steps=100,\n",
    "                 validation_data=(x_test,y_test))\n",
    "s1 = runs(senti,\"base\",3,dict(pGrid.iloc[3]),fParams)"
   ]
  },
  {
   "cell_type": "code",
   "execution_count": 23,
   "id": "73965057",
   "metadata": {},
   "outputs": [
    {
     "name": "stderr",
     "output_type": "stream",
     "text": [
      "hyperTuning: 100%|██████████████████████████████| 12/12 [03:23<00:00, 16.92s/it]\n"
     ]
    }
   ],
   "source": [
    "# Random consistency seed\n",
    "np.random.seed(129)\n",
    "tf.random.set_seed(129)\n",
    " \n",
    "index = np.random.choice(list(pGrid.loc[pGrid.epoch.isna()].index),12,replace=False)\n",
    "\n",
    "fParams = dict(x=x_train,y=y_train,steps_per_epoch=200,\n",
    "                 batch_size=32,epochs=20,validation_steps=100,\n",
    "                 validation_data=(x_test,y_test))\n",
    "\n",
    "for i in tqdm(index,desc=\"hyperTuning\"):\n",
    "    sClf = runs(senti,\"tune\",i,dict(pGrid.iloc[i]),fParams)"
   ]
  },
  {
   "cell_type": "code",
   "execution_count": 24,
   "id": "deea5722",
   "metadata": {},
   "outputs": [
    {
     "data": {
      "text/html": [
       "<div>\n",
       "<style scoped>\n",
       "    .dataframe tbody tr th:only-of-type {\n",
       "        vertical-align: middle;\n",
       "    }\n",
       "\n",
       "    .dataframe tbody tr th {\n",
       "        vertical-align: top;\n",
       "    }\n",
       "\n",
       "    .dataframe thead th {\n",
       "        text-align: right;\n",
       "    }\n",
       "</style>\n",
       "<table border=\"1\" class=\"dataframe\">\n",
       "  <thead>\n",
       "    <tr style=\"text-align: right;\">\n",
       "      <th></th>\n",
       "      <th>embd</th>\n",
       "      <th>lstmN</th>\n",
       "      <th>dOut</th>\n",
       "      <th>lRate</th>\n",
       "      <th>epoch</th>\n",
       "      <th>loss</th>\n",
       "      <th>accuracy</th>\n",
       "      <th>val_loss</th>\n",
       "      <th>val_accuracy</th>\n",
       "    </tr>\n",
       "  </thead>\n",
       "  <tbody>\n",
       "    <tr>\n",
       "      <th>1</th>\n",
       "      <td>8.0</td>\n",
       "      <td>64.0</td>\n",
       "      <td>0.2</td>\n",
       "      <td>0.010</td>\n",
       "      <td>20.0</td>\n",
       "      <td>0.376099</td>\n",
       "      <td>0.827008</td>\n",
       "      <td>0.509478</td>\n",
       "      <td>0.772187</td>\n",
       "    </tr>\n",
       "    <tr>\n",
       "      <th>11</th>\n",
       "      <td>8.0</td>\n",
       "      <td>96.0</td>\n",
       "      <td>0.4</td>\n",
       "      <td>0.001</td>\n",
       "      <td>20.0</td>\n",
       "      <td>0.442896</td>\n",
       "      <td>0.797522</td>\n",
       "      <td>0.488761</td>\n",
       "      <td>0.770312</td>\n",
       "    </tr>\n",
       "    <tr>\n",
       "      <th>8</th>\n",
       "      <td>8.0</td>\n",
       "      <td>96.0</td>\n",
       "      <td>0.2</td>\n",
       "      <td>0.001</td>\n",
       "      <td>20.0</td>\n",
       "      <td>0.411427</td>\n",
       "      <td>0.814147</td>\n",
       "      <td>0.493900</td>\n",
       "      <td>0.769687</td>\n",
       "    </tr>\n",
       "    <tr>\n",
       "      <th>50</th>\n",
       "      <td>32.0</td>\n",
       "      <td>128.0</td>\n",
       "      <td>0.2</td>\n",
       "      <td>0.001</td>\n",
       "      <td>20.0</td>\n",
       "      <td>0.385342</td>\n",
       "      <td>0.821205</td>\n",
       "      <td>0.488715</td>\n",
       "      <td>0.769063</td>\n",
       "    </tr>\n",
       "    <tr>\n",
       "      <th>52</th>\n",
       "      <td>32.0</td>\n",
       "      <td>128.0</td>\n",
       "      <td>0.4</td>\n",
       "      <td>0.010</td>\n",
       "      <td>20.0</td>\n",
       "      <td>0.376295</td>\n",
       "      <td>0.836104</td>\n",
       "      <td>0.501850</td>\n",
       "      <td>0.767812</td>\n",
       "    </tr>\n",
       "  </tbody>\n",
       "</table>\n",
       "</div>"
      ],
      "text/plain": [
       "    embd  lstmN  dOut  lRate  epoch      loss  accuracy  val_loss  \\\n",
       "1    8.0   64.0   0.2  0.010   20.0  0.376099  0.827008  0.509478   \n",
       "11   8.0   96.0   0.4  0.001   20.0  0.442896  0.797522  0.488761   \n",
       "8    8.0   96.0   0.2  0.001   20.0  0.411427  0.814147  0.493900   \n",
       "50  32.0  128.0   0.2  0.001   20.0  0.385342  0.821205  0.488715   \n",
       "52  32.0  128.0   0.4  0.010   20.0  0.376295  0.836104  0.501850   \n",
       "\n",
       "    val_accuracy  \n",
       "1       0.772187  \n",
       "11      0.770312  \n",
       "8       0.769687  \n",
       "50      0.769063  \n",
       "52      0.767812  "
      ]
     },
     "execution_count": 24,
     "metadata": {},
     "output_type": "execute_result"
    }
   ],
   "source": [
    "# lets review the results\n",
    "pGrid.loc[pGrid.epoch.isna()!=True].sort_values(by=\"val_accuracy\",ascending=False).head()"
   ]
  },
  {
   "cell_type": "code",
   "execution_count": 25,
   "id": "7505cba0",
   "metadata": {},
   "outputs": [
    {
     "name": "stdout",
     "output_type": "stream",
     "text": [
      "CPU times: user 1min 51s, sys: 11.3 s, total: 2min 3s\n",
      "Wall time: 1min 6s\n"
     ]
    }
   ],
   "source": [
    "%%time\n",
    "# lets pick the best model and train on complete dataset\n",
    "i = pGrid.loc[pGrid.epoch.isna()!=True].sort_values(by=\"val_accuracy\",ascending=False).index[0]\n",
    "gp = dict(pGrid.iloc[i])\n",
    "fParams = dict(x=x_train,y=y_train,batch_size=32,\n",
    "               epochs=20,validation_data=(x_test,y_test))\n",
    "SentiCLF = runs(senti,\"FINAL\",i,gp,fParams)"
   ]
  },
  {
   "cell_type": "code",
   "execution_count": 26,
   "id": "9faf9cae",
   "metadata": {},
   "outputs": [],
   "source": [
    "# parameterize overfitting\n",
    "pGrid[\"overFit\"] = pGrid.apply(lambda row: row[\"val_accuracy\"]-row[\"accuracy\"],axis=1)"
   ]
  },
  {
   "cell_type": "code",
   "execution_count": 27,
   "id": "0f5b0a4f",
   "metadata": {},
   "outputs": [
    {
     "data": {
      "text/html": [
       "<div>\n",
       "<style scoped>\n",
       "    .dataframe tbody tr th:only-of-type {\n",
       "        vertical-align: middle;\n",
       "    }\n",
       "\n",
       "    .dataframe tbody tr th {\n",
       "        vertical-align: top;\n",
       "    }\n",
       "\n",
       "    .dataframe thead th {\n",
       "        text-align: right;\n",
       "    }\n",
       "</style>\n",
       "<table border=\"1\" class=\"dataframe\">\n",
       "  <thead>\n",
       "    <tr style=\"text-align: right;\">\n",
       "      <th></th>\n",
       "      <th>embd</th>\n",
       "      <th>lstmN</th>\n",
       "      <th>dOut</th>\n",
       "      <th>lRate</th>\n",
       "      <th>epoch</th>\n",
       "      <th>loss</th>\n",
       "      <th>accuracy</th>\n",
       "      <th>val_loss</th>\n",
       "      <th>val_accuracy</th>\n",
       "      <th>overFit</th>\n",
       "    </tr>\n",
       "  </thead>\n",
       "  <tbody>\n",
       "    <tr>\n",
       "      <th>42</th>\n",
       "      <td>32.0</td>\n",
       "      <td>96.0</td>\n",
       "      <td>0.2</td>\n",
       "      <td>0.100</td>\n",
       "      <td>20.0</td>\n",
       "      <td>0.800294</td>\n",
       "      <td>0.503921</td>\n",
       "      <td>0.800210</td>\n",
       "      <td>0.530000</td>\n",
       "      <td>0.026079</td>\n",
       "    </tr>\n",
       "    <tr>\n",
       "      <th>12</th>\n",
       "      <td>8.0</td>\n",
       "      <td>128.0</td>\n",
       "      <td>0.2</td>\n",
       "      <td>0.100</td>\n",
       "      <td>20.0</td>\n",
       "      <td>0.857168</td>\n",
       "      <td>0.503450</td>\n",
       "      <td>0.798900</td>\n",
       "      <td>0.519687</td>\n",
       "      <td>0.016237</td>\n",
       "    </tr>\n",
       "    <tr>\n",
       "      <th>3</th>\n",
       "      <td>8.0</td>\n",
       "      <td>64.0</td>\n",
       "      <td>0.4</td>\n",
       "      <td>0.100</td>\n",
       "      <td>20.0</td>\n",
       "      <td>0.765087</td>\n",
       "      <td>0.503450</td>\n",
       "      <td>0.761148</td>\n",
       "      <td>0.505313</td>\n",
       "      <td>0.001862</td>\n",
       "    </tr>\n",
       "    <tr>\n",
       "      <th>11</th>\n",
       "      <td>8.0</td>\n",
       "      <td>96.0</td>\n",
       "      <td>0.4</td>\n",
       "      <td>0.001</td>\n",
       "      <td>20.0</td>\n",
       "      <td>0.442896</td>\n",
       "      <td>0.797522</td>\n",
       "      <td>0.488761</td>\n",
       "      <td>0.770312</td>\n",
       "      <td>-0.027209</td>\n",
       "    </tr>\n",
       "    <tr>\n",
       "      <th>5</th>\n",
       "      <td>8.0</td>\n",
       "      <td>64.0</td>\n",
       "      <td>0.4</td>\n",
       "      <td>0.001</td>\n",
       "      <td>20.0</td>\n",
       "      <td>0.440620</td>\n",
       "      <td>0.796895</td>\n",
       "      <td>0.486981</td>\n",
       "      <td>0.767187</td>\n",
       "      <td>-0.029707</td>\n",
       "    </tr>\n",
       "  </tbody>\n",
       "</table>\n",
       "</div>"
      ],
      "text/plain": [
       "    embd  lstmN  dOut  lRate  epoch      loss  accuracy  val_loss  \\\n",
       "42  32.0   96.0   0.2  0.100   20.0  0.800294  0.503921  0.800210   \n",
       "12   8.0  128.0   0.2  0.100   20.0  0.857168  0.503450  0.798900   \n",
       "3    8.0   64.0   0.4  0.100   20.0  0.765087  0.503450  0.761148   \n",
       "11   8.0   96.0   0.4  0.001   20.0  0.442896  0.797522  0.488761   \n",
       "5    8.0   64.0   0.4  0.001   20.0  0.440620  0.796895  0.486981   \n",
       "\n",
       "    val_accuracy   overFit  \n",
       "42      0.530000  0.026079  \n",
       "12      0.519687  0.016237  \n",
       "3       0.505313  0.001862  \n",
       "11      0.770312 -0.027209  \n",
       "5       0.767187 -0.029707  "
      ]
     },
     "execution_count": 27,
     "metadata": {},
     "output_type": "execute_result"
    }
   ],
   "source": [
    "# review based on overfitting\n",
    "pGrid.loc[pGrid.epoch.isna()!=True].sort_values(by=\"overFit\",ascending=False).head()"
   ]
  },
  {
   "cell_type": "code",
   "execution_count": 28,
   "id": "ad88da32",
   "metadata": {},
   "outputs": [
    {
     "name": "stdout",
     "output_type": "stream",
     "text": [
      "CPU times: user 1min 52s, sys: 11.4 s, total: 2min 4s\n",
      "Wall time: 1min 6s\n"
     ]
    }
   ],
   "source": [
    "%%time\n",
    "# lets pick the model with least overfitting & train on full dataset\n",
    "j = pGrid.loc[pGrid.epoch.isna()!=True].sort_values(by=\"overFit\",ascending=False).index[0]\n",
    "gp = dict(pGrid.iloc[j])\n",
    "fParams = dict(x=x_train,y=y_train,batch_size=32,\n",
    "               epochs=20,validation_data=(x_test,y_test))\n",
    "SentiCLF2 = runs(senti,\"FINAL2\",j,gp,fParams)"
   ]
  },
  {
   "cell_type": "code",
   "execution_count": 29,
   "id": "1c1a7fdc",
   "metadata": {},
   "outputs": [
    {
     "data": {
      "text/html": [
       "<div>\n",
       "<style scoped>\n",
       "    .dataframe tbody tr th:only-of-type {\n",
       "        vertical-align: middle;\n",
       "    }\n",
       "\n",
       "    .dataframe tbody tr th {\n",
       "        vertical-align: top;\n",
       "    }\n",
       "\n",
       "    .dataframe thead th {\n",
       "        text-align: right;\n",
       "    }\n",
       "</style>\n",
       "<table border=\"1\" class=\"dataframe\">\n",
       "  <thead>\n",
       "    <tr style=\"text-align: right;\">\n",
       "      <th></th>\n",
       "      <th>embd</th>\n",
       "      <th>lstmN</th>\n",
       "      <th>dOut</th>\n",
       "      <th>lRate</th>\n",
       "      <th>epoch</th>\n",
       "      <th>loss</th>\n",
       "      <th>accuracy</th>\n",
       "      <th>val_loss</th>\n",
       "      <th>val_accuracy</th>\n",
       "      <th>overFit</th>\n",
       "    </tr>\n",
       "  </thead>\n",
       "  <tbody>\n",
       "    <tr>\n",
       "      <th>1</th>\n",
       "      <td>8.0</td>\n",
       "      <td>64.0</td>\n",
       "      <td>0.2</td>\n",
       "      <td>0.01</td>\n",
       "      <td>20.0</td>\n",
       "      <td>0.325285</td>\n",
       "      <td>0.86320</td>\n",
       "      <td>0.528382</td>\n",
       "      <td>0.75892</td>\n",
       "      <td>-0.10428</td>\n",
       "    </tr>\n",
       "    <tr>\n",
       "      <th>42</th>\n",
       "      <td>32.0</td>\n",
       "      <td>96.0</td>\n",
       "      <td>0.2</td>\n",
       "      <td>0.10</td>\n",
       "      <td>20.0</td>\n",
       "      <td>0.774462</td>\n",
       "      <td>0.53988</td>\n",
       "      <td>0.756163</td>\n",
       "      <td>0.56720</td>\n",
       "      <td>0.02732</td>\n",
       "    </tr>\n",
       "  </tbody>\n",
       "</table>\n",
       "</div>"
      ],
      "text/plain": [
       "    embd  lstmN  dOut  lRate  epoch      loss  accuracy  val_loss  \\\n",
       "1    8.0   64.0   0.2   0.01   20.0  0.325285   0.86320  0.528382   \n",
       "42  32.0   96.0   0.2   0.10   20.0  0.774462   0.53988  0.756163   \n",
       "\n",
       "    val_accuracy  overFit  \n",
       "1        0.75892 -0.10428  \n",
       "42       0.56720  0.02732  "
      ]
     },
     "execution_count": 29,
     "metadata": {},
     "output_type": "execute_result"
    }
   ],
   "source": [
    "# update & review results\n",
    "pGrid[\"overFit\"] = pGrid.apply(lambda row: row[\"val_accuracy\"]-row[\"accuracy\"],axis=1)\n",
    "pGrid.iloc[[i,j]]"
   ]
  },
  {
   "cell_type": "code",
   "execution_count": 30,
   "id": "f309f0e1",
   "metadata": {},
   "outputs": [],
   "source": [
    "# choose the better one\n",
    "if pGrid.loc[i,[\"val_accuracy\"]].values[0] > pGrid.loc[j,[\"val_accuracy\"]].values[0]:\n",
    "    fModel = SentiCLF\n",
    "else:\n",
    "    fModel = SentiCLF2"
   ]
  },
  {
   "cell_type": "markdown",
   "id": "1ab5bbe9",
   "metadata": {},
   "source": [
    "while only a slight improvement is found in validation accuracy between last 2 full model runs<br>\n",
    "all models fairly perform for the given limitiations of 10000 vocabulary & document cap of 20 lengths<br>\n",
    "lets use the last model to predict sentiment for few documents"
   ]
  },
  {
   "cell_type": "markdown",
   "id": "4369ba81",
   "metadata": {},
   "source": [
    "**Steps and tasks:**<br>\n",
    "6. Use the designed model to print the prediction on any one sample."
   ]
  },
  {
   "cell_type": "code",
   "execution_count": 31,
   "id": "15e6170b",
   "metadata": {},
   "outputs": [
    {
     "name": "stdout",
     "output_type": "stream",
     "text": [
      "\u001b[1mFEATURES:\u001b[0m\n",
      "i i was painful in can as on cast not how watching part in smoking some to realistic of material\n",
      "\u001b[1mTRUE LABEL\u001b[0m\n",
      "[0]\n",
      "\u001b[1mPREDICTED LABEL\u001b[0m\n",
      "[0]\n",
      "==================================================================================================== \n",
      "\n",
      "\u001b[1mFEATURES:\u001b[0m\n",
      "way film becoming sustain in of difficult boasts better in negative not_in_here even by this could've bollywood bit that still\n",
      "\u001b[1mTRUE LABEL\u001b[0m\n",
      "[0]\n",
      "\u001b[1mPREDICTED LABEL\u001b[0m\n",
      "[0]\n",
      "==================================================================================================== \n",
      "\n",
      "\u001b[1mFEATURES:\u001b[0m\n",
      "it's his as it these is hoping you in change to time done unfortunately make am i'll to italian since\n",
      "\u001b[1mTRUE LABEL\u001b[0m\n",
      "[1]\n",
      "\u001b[1mPREDICTED LABEL\u001b[0m\n",
      "[1]\n",
      "==================================================================================================== \n",
      "\n",
      "\u001b[1mFEATURES:\u001b[0m\n",
      "film room coup boyle not_in_here not_in_here legend to adolescent not_in_here give cinema are in lost not_in_here are of not_in_here nemesis\n",
      "\u001b[1mTRUE LABEL\u001b[0m\n",
      "[1]\n",
      "\u001b[1mPREDICTED LABEL\u001b[0m\n",
      "[1]\n",
      "==================================================================================================== \n",
      "\n",
      "\u001b[1mFEATURES:\u001b[0m\n",
      "just is cena of once prior of fundamental kelly from single we offense movie of father up without wwii '\n",
      "\u001b[1mTRUE LABEL\u001b[0m\n",
      "[0]\n",
      "\u001b[1mPREDICTED LABEL\u001b[0m\n",
      "[1]\n",
      "==================================================================================================== \n",
      "\n"
     ]
    }
   ],
   "source": [
    "index = np.random.randint(0,len(x_test),size=5)\n",
    "pred = (fModel.predict(x_test[index])>0.5)*1\n",
    "for j,i in enumerate(index):\n",
    "    sentence = ' '.join([id2w[seq] for seq in x_test[i]])\n",
    "    print('\\033[1m'+\"FEATURES:\"+'\\033[0m')\n",
    "    print(sentence)\n",
    "    print('\\033[1m'+\"TRUE LABEL\"+'\\033[0m')\n",
    "    print(y_train[i])\n",
    "    print('\\033[1m'+\"PREDICTED LABEL\"+'\\033[0m')\n",
    "    print(pred[j])\n",
    "    print(\"=\"*100,'\\n')"
   ]
  },
  {
   "cell_type": "markdown",
   "id": "6ea573bb",
   "metadata": {},
   "source": [
    "## Part B"
   ]
  },
  {
   "cell_type": "markdown",
   "id": "fd7415f1",
   "metadata": {},
   "source": [
    "**DOMAIN:** Social media analytics<br>\n",
    "**• CONTEXT:** Past studies in Sarcasm Detection mostly make use of Twitter datasets collected using hashtag based supervision but such datasets are noisy in terms of labels and language. Furthermore, many tweets are replies to other tweets and detecting sarcasm in these requires the availability of contextual tweets.In this hands-on project, the goal is to build a model to detect whether a sentence is sarcastic or not, using Bidirectional LSTMs.<br>\n",
    "**• DATA DESCRIPTION:**<br>\n",
    "The dataset is collected from two news websites, theonion.com and huf ingtonpost.com. This new dataset has the following advantages over the existing Twitter datasets: Since news headlines are written by professionals in a formal manner, there are no spelling mistakes and informal usage. This reduces the sparsity and also increases the chance of inding pre-trained embeddings. Furthermore, since the sole purpose of TheOnion is to publish sarcastic news, we get high-quality labels with much less noise as compared to Twitter datasets. Unlike tweets that reply to other tweets, the news headlines obtained are self-contained. This would help us in teasing apart the real sarcastic elements<br>\n",
    "**Content:** Each record consists of three attributes:<br>\n",
    "**is_sarcastic:** 1 if the record is sarcastic otherwise 0<br>\n",
    "**headline:** the headline of the news article<br>\n",
    "**article_link:** link to the original news article. Useful in collecting supplementary data<br>\n",
    "Reference: https://github.com/rishabhmisra/News-Headlines-Dataset-For-Sarcasm-Detection<br>\n",
    "**• PROJECT OBJECTIVE:** Build a sequential NLP classifier which can use input text parameters to determine the customer sentiments."
   ]
  },
  {
   "cell_type": "markdown",
   "id": "31c01db4",
   "metadata": {},
   "source": [
    "**Steps and tasks:**<br>\n",
    "1. Read and explore the data"
   ]
  },
  {
   "cell_type": "code",
   "execution_count": 2,
   "id": "2409a7a9",
   "metadata": {},
   "outputs": [],
   "source": [
    "import json\n",
    "from tensorflow.keras.models import Model\n",
    "from tensorflow.keras.layers import LSTM, Embedding, Dense, Input\n",
    "from tensorflow.keras.layers import Dropout, Bidirectional, GRU\n",
    "\n",
    "import re, emoji, nltk, html\n",
    "from num2words import num2words\n",
    "from string import punctuation\n",
    "from nltk.corpus import stopwords\n",
    "from nltk.stem import WordNetLemmatizer\n",
    "from nltk import word_tokenize, pos_tag \n",
    "from string import punctuation\n",
    "from sklearn.model_selection import train_test_split\n",
    "from keras.preprocessing import text, sequence"
   ]
  },
  {
   "cell_type": "code",
   "execution_count": 3,
   "id": "86101fb8",
   "metadata": {},
   "outputs": [
    {
     "data": {
      "text/html": [
       "<div>\n",
       "<style scoped>\n",
       "    .dataframe tbody tr th:only-of-type {\n",
       "        vertical-align: middle;\n",
       "    }\n",
       "\n",
       "    .dataframe tbody tr th {\n",
       "        vertical-align: top;\n",
       "    }\n",
       "\n",
       "    .dataframe thead th {\n",
       "        text-align: right;\n",
       "    }\n",
       "</style>\n",
       "<table border=\"1\" class=\"dataframe\">\n",
       "  <thead>\n",
       "    <tr style=\"text-align: right;\">\n",
       "      <th></th>\n",
       "      <th>is_sarcastic</th>\n",
       "      <th>headline</th>\n",
       "      <th>article_link</th>\n",
       "    </tr>\n",
       "  </thead>\n",
       "  <tbody>\n",
       "    <tr>\n",
       "      <th>0</th>\n",
       "      <td>1</td>\n",
       "      <td>thirtysomething scientists unveil doomsday clo...</td>\n",
       "      <td>https://www.theonion.com/thirtysomething-scien...</td>\n",
       "    </tr>\n",
       "    <tr>\n",
       "      <th>1</th>\n",
       "      <td>0</td>\n",
       "      <td>dem rep. totally nails why congress is falling...</td>\n",
       "      <td>https://www.huffingtonpost.com/entry/donna-edw...</td>\n",
       "    </tr>\n",
       "    <tr>\n",
       "      <th>2</th>\n",
       "      <td>0</td>\n",
       "      <td>eat your veggies: 9 deliciously different recipes</td>\n",
       "      <td>https://www.huffingtonpost.com/entry/eat-your-...</td>\n",
       "    </tr>\n",
       "    <tr>\n",
       "      <th>3</th>\n",
       "      <td>1</td>\n",
       "      <td>inclement weather prevents liar from getting t...</td>\n",
       "      <td>https://local.theonion.com/inclement-weather-p...</td>\n",
       "    </tr>\n",
       "    <tr>\n",
       "      <th>4</th>\n",
       "      <td>1</td>\n",
       "      <td>mother comes pretty close to using word 'strea...</td>\n",
       "      <td>https://www.theonion.com/mother-comes-pretty-c...</td>\n",
       "    </tr>\n",
       "  </tbody>\n",
       "</table>\n",
       "</div>"
      ],
      "text/plain": [
       "   is_sarcastic                                           headline  \\\n",
       "0             1  thirtysomething scientists unveil doomsday clo...   \n",
       "1             0  dem rep. totally nails why congress is falling...   \n",
       "2             0  eat your veggies: 9 deliciously different recipes   \n",
       "3             1  inclement weather prevents liar from getting t...   \n",
       "4             1  mother comes pretty close to using word 'strea...   \n",
       "\n",
       "                                        article_link  \n",
       "0  https://www.theonion.com/thirtysomething-scien...  \n",
       "1  https://www.huffingtonpost.com/entry/donna-edw...  \n",
       "2  https://www.huffingtonpost.com/entry/eat-your-...  \n",
       "3  https://local.theonion.com/inclement-weather-p...  \n",
       "4  https://www.theonion.com/mother-comes-pretty-c...  "
      ]
     },
     "execution_count": 3,
     "metadata": {},
     "output_type": "execute_result"
    }
   ],
   "source": [
    "news = pd.read_json(\"Sarcasm_Headlines_Dataset.json\",lines=True)\n",
    "news.head()"
   ]
  },
  {
   "cell_type": "code",
   "execution_count": 4,
   "id": "e66ff17f",
   "metadata": {},
   "outputs": [
    {
     "data": {
      "text/plain": [
       "(28619, 3)"
      ]
     },
     "execution_count": 4,
     "metadata": {},
     "output_type": "execute_result"
    }
   ],
   "source": [
    "# review the data properties\n",
    "news.shape"
   ]
  },
  {
   "cell_type": "code",
   "execution_count": 5,
   "id": "babc9576",
   "metadata": {},
   "outputs": [
    {
     "name": "stdout",
     "output_type": "stream",
     "text": [
      "<class 'pandas.core.frame.DataFrame'>\n",
      "RangeIndex: 28619 entries, 0 to 28618\n",
      "Data columns (total 3 columns):\n",
      " #   Column        Non-Null Count  Dtype \n",
      "---  ------        --------------  ----- \n",
      " 0   is_sarcastic  28619 non-null  int64 \n",
      " 1   headline      28619 non-null  object\n",
      " 2   article_link  28619 non-null  object\n",
      "dtypes: int64(1), object(2)\n",
      "memory usage: 670.9+ KB\n"
     ]
    }
   ],
   "source": [
    "news.info()"
   ]
  },
  {
   "cell_type": "code",
   "execution_count": 6,
   "id": "c1da6418",
   "metadata": {},
   "outputs": [
    {
     "data": {
      "text/plain": [
       "is_sarcastic    0\n",
       "headline        0\n",
       "article_link    0\n",
       "dtype: int64"
      ]
     },
     "execution_count": 6,
     "metadata": {},
     "output_type": "execute_result"
    }
   ],
   "source": [
    "# check for null/nan values\n",
    "news.isna().sum()"
   ]
  },
  {
   "cell_type": "code",
   "execution_count": 7,
   "id": "4befdafc",
   "metadata": {},
   "outputs": [
    {
     "data": {
      "text/plain": [
       "0    14985\n",
       "1    13634\n",
       "Name: is_sarcastic, dtype: int64"
      ]
     },
     "execution_count": 7,
     "metadata": {},
     "output_type": "execute_result"
    }
   ],
   "source": [
    "# check for support of sentiment classes\n",
    "news.is_sarcastic.value_counts()"
   ]
  },
  {
   "cell_type": "code",
   "execution_count": 8,
   "id": "75ab40e7",
   "metadata": {},
   "outputs": [
    {
     "name": "stderr",
     "output_type": "stream",
     "text": [
      "wordCount: 100%|██████████████████████| 28619/28619 [00:00<00:00, 436940.70it/s]\n"
     ]
    }
   ],
   "source": [
    "# count total words & vocabulary in headlines\n",
    "vocab = set()\n",
    "wordCount = 0\n",
    "def wCount(doc):\n",
    "    global wordCount,vocab\n",
    "    doc = doc.split()\n",
    "    vocab.update(doc)\n",
    "    wordCount+=len(doc)\n",
    "\n",
    "tqdm.pandas(desc=\"wordCount\")\n",
    "news.headline.progress_apply(lambda x: wCount(x));"
   ]
  },
  {
   "cell_type": "code",
   "execution_count": 9,
   "id": "5d1b88fa",
   "metadata": {},
   "outputs": [
    {
     "data": {
      "text/plain": [
       "(38234, 287620)"
      ]
     },
     "execution_count": 9,
     "metadata": {},
     "output_type": "execute_result"
    }
   ],
   "source": [
    "# counts\n",
    "len(vocab),wordCount"
   ]
  },
  {
   "cell_type": "markdown",
   "id": "e31f6d01",
   "metadata": {},
   "source": [
    "**Steps and tasks:**<br>\n",
    "2. Retain relevant columns<br>\n",
    "3. Get length of each sentence"
   ]
  },
  {
   "cell_type": "code",
   "execution_count": 10,
   "id": "7dbc68e8",
   "metadata": {},
   "outputs": [],
   "source": [
    "# drop article link\n",
    "news.drop([\"article_link\"],axis=1,inplace=True)"
   ]
  },
  {
   "cell_type": "code",
   "execution_count": 11,
   "id": "74d230f2",
   "metadata": {},
   "outputs": [
    {
     "name": "stderr",
     "output_type": "stream",
     "text": [
      "wordLengths: 100%|████████████████████| 28619/28619 [00:00<00:00, 415868.80it/s]\n"
     ]
    }
   ],
   "source": [
    "tqdm.pandas(desc=\"wordLengths\")\n",
    "news[\"wordLength\"] = news.headline.progress_apply(lambda x: len(x.split()))"
   ]
  },
  {
   "cell_type": "code",
   "execution_count": 12,
   "id": "bb000351",
   "metadata": {
    "scrolled": true
   },
   "outputs": [
    {
     "data": {
      "text/plain": [
       "count    28619.000000\n",
       "mean        10.049967\n",
       "std          3.388307\n",
       "min          2.000000\n",
       "50%         10.000000\n",
       "90%         14.000000\n",
       "91%         14.000000\n",
       "92%         15.000000\n",
       "93%         15.000000\n",
       "94%         15.000000\n",
       "95%         16.000000\n",
       "96%         16.000000\n",
       "97%         17.000000\n",
       "98%         17.000000\n",
       "99%         19.000000\n",
       "max        151.000000\n",
       "Name: wordLength, dtype: float64"
      ]
     },
     "execution_count": 12,
     "metadata": {},
     "output_type": "execute_result"
    }
   ],
   "source": [
    "news.wordLength.describe(percentiles=np.arange(0.9,1,0.01))"
   ]
  },
  {
   "cell_type": "markdown",
   "id": "6947d908",
   "metadata": {},
   "source": [
    "upto 99% of the headlines are less than 20 words long"
   ]
  },
  {
   "cell_type": "markdown",
   "id": "4a33565c",
   "metadata": {},
   "source": [
    "**Steps and tasks:**<br>\n",
    "4. Define parameters<br>\n",
    "6. Create features and labels<br>\n",
    "7. Get vocabulary size<br>\n",
    "8. Create a weight matrix using GloVe embeddings<br>"
   ]
  },
  {
   "cell_type": "code",
   "execution_count": 13,
   "id": "959d0821",
   "metadata": {},
   "outputs": [],
   "source": [
    "# prerequisites\n",
    "# sWords = stopwords.words('english') + list(punctuation)\n",
    "lemma = WordNetLemmatizer().lemmatize\n",
    "\n",
    "lemmaPOS = {p:'v' for p in ['VB','VBD','VBG','VBN','VBP','VBZ']}\n",
    "lemmaPOS.update({p:'a' for p in ['JJ','JJR','JJS']})\n",
    "lemmaPOS.update({p:'r' for p in ['RB','RBR','RBS']})\n",
    "        \n",
    "def wordy(doc):\n",
    "    \"\"\"parse & process each document\"\"\"\n",
    "    \n",
    "    # convert all html escape characters\n",
    "    doc = html.unescape(doc)\n",
    "    \n",
    "    # demojize:convert emojies to word expressions & return \n",
    "    doc = emoji.demojize(doc,delimiters=(\" \",\" \"))\n",
    "    \n",
    "    # convert numbers to words\n",
    "    for match in re.findall(r'([0-9]+[\\.]{0,1}[0-9])|([0-9])',doc):\n",
    "        match = np.sort(np.array(match))[-1]\n",
    "        doc = re.sub(match,' '+num2words(match)+' ',doc)\n",
    "        \n",
    "    # remove any remaining non-alphabets\n",
    "    doc = re.sub(r'[^a-zA-Z\\s]','',doc)\n",
    "    \n",
    "    # tokenize\n",
    "    # POS tagging\n",
    "    wordTags = pos_tag(word_tokenize(doc))\n",
    "    \n",
    "    # ignore stop words\n",
    "    # cast to lowercase\n",
    "    # lemmatize\n",
    "    words = np.array([lemma(word.lower(),lemmaPOS.get(tag,'n')) for (word,tag) in wordTags])\n",
    "    \n",
    "    return ' '.join(words)"
   ]
  },
  {
   "cell_type": "code",
   "execution_count": 14,
   "id": "2eb668e4",
   "metadata": {},
   "outputs": [
    {
     "data": {
      "text/plain": [
       "'ten bad provision in the republican appropriation bill'"
      ]
     },
     "execution_count": 14,
     "metadata": {},
     "output_type": "execute_result"
    }
   ],
   "source": [
    "# try wordy\n",
    "wordy(news.headline[234])"
   ]
  },
  {
   "cell_type": "code",
   "execution_count": 15,
   "id": "68ae6a66",
   "metadata": {},
   "outputs": [
    {
     "name": "stderr",
     "output_type": "stream",
     "text": [
      "wordy: 100%|████████████████████████████| 28619/28619 [00:17<00:00, 1646.13it/s]\n"
     ]
    }
   ],
   "source": [
    "# extract tokenized words\n",
    "tqdm.pandas(desc=\"wordy\")\n",
    "news[\"cleaned\"] = news.headline.progress_apply(lambda x: wordy(x))"
   ]
  },
  {
   "cell_type": "code",
   "execution_count": 16,
   "id": "1ce4545c",
   "metadata": {},
   "outputs": [],
   "source": [
    "X = news.cleaned.values\n",
    "Y = news.is_sarcastic.values\n",
    "X_train, X_test, y_train, y_test = train_test_split(X,Y,\n",
    "                                                    test_size=0.2,random_state=129)"
   ]
  },
  {
   "cell_type": "code",
   "execution_count": 17,
   "id": "93366b2b",
   "metadata": {},
   "outputs": [],
   "source": [
    "# limit vocabulary to 10000\n",
    "max_w = 10000\n",
    "tokens = text.Tokenizer(num_words=max_w,oov_token=0)\n",
    "tokens.fit_on_texts(X_train)\n",
    "X_train_seq = tokens.texts_to_sequences(X_train)\n",
    "X_test_seq = tokens.texts_to_sequences(X_test)"
   ]
  },
  {
   "cell_type": "code",
   "execution_count": 18,
   "id": "ae681c7c",
   "metadata": {},
   "outputs": [],
   "source": [
    "# limit document length = 20\n",
    "X_train_sents = sequence.pad_sequences(X_train_seq, maxlen=20)\n",
    "X_test_sents = sequence.pad_sequences(X_test_seq, maxlen=20)"
   ]
  },
  {
   "cell_type": "code",
   "execution_count": 19,
   "id": "c386d90c",
   "metadata": {},
   "outputs": [],
   "source": [
    "# word index\n",
    "w2id = tokens.word_index\n",
    "id2w = dict(zip(w2id.values(),w2id.keys()))"
   ]
  },
  {
   "cell_type": "code",
   "execution_count": 20,
   "id": "2496787a",
   "metadata": {},
   "outputs": [
    {
     "data": {
      "text/plain": [
       "21234"
      ]
     },
     "execution_count": 20,
     "metadata": {},
     "output_type": "execute_result"
    }
   ],
   "source": [
    "# vocab size\n",
    "max(id2w)"
   ]
  },
  {
   "cell_type": "code",
   "execution_count": 21,
   "id": "8a3c65e6",
   "metadata": {},
   "outputs": [
    {
     "name": "stderr",
     "output_type": "stream",
     "text": [
      "100%|█████████████████████████████████| 40000/40000 [00:00<00:00, 123633.51it/s]\n"
     ]
    }
   ],
   "source": [
    "# read GloVe vectors\n",
    "file = open('glove.6B.50d.txt','rt')\n",
    "gloveVec={}\n",
    "for i in tqdm(range(int(40000))):\n",
    "    try:\n",
    "        line = file.readline().split(sep=' ')\n",
    "        gloveVec.update({line[0]:np.array(line[1:], dtype='float32')})\n",
    "    except:\n",
    "        print(line)\n",
    "        break\n",
    "file.close()"
   ]
  },
  {
   "cell_type": "code",
   "execution_count": 22,
   "id": "c317da64",
   "metadata": {},
   "outputs": [
    {
     "name": "stderr",
     "output_type": "stream",
     "text": [
      "<>:5: SyntaxWarning: \"is not\" with a literal. Did you mean \"!=\"?\n",
      "<>:5: SyntaxWarning: \"is not\" with a literal. Did you mean \"!=\"?\n",
      "/tmp/ipykernel_46748/3754826333.py:5: SyntaxWarning: \"is not\" with a literal. Did you mean \"!=\"?\n",
      "  if emb is not 0:\n"
     ]
    }
   ],
   "source": [
    "emb_matrix = np.zeros((max_w,50))\n",
    "for i,w in id2w.items():\n",
    "    if i < max_w:\n",
    "        emb = gloveVec.get(w,0)\n",
    "        if emb is not 0:\n",
    "            emb_matrix[i] = emb"
   ]
  },
  {
   "cell_type": "markdown",
   "id": "db8f868c",
   "metadata": {},
   "source": [
    "**Steps and tasks:**<br>\n",
    "9. Define and compile a Bidirectional LSTM model.<br>\n",
    "10. Fit the model and check the validation accuracy"
   ]
  },
  {
   "cell_type": "code",
   "execution_count": 23,
   "id": "11e44106",
   "metadata": {},
   "outputs": [],
   "source": [
    "# constants\n",
    "nVocab = max_w\n",
    "inpSize = 20\n",
    "embd = 50"
   ]
  },
  {
   "cell_type": "code",
   "execution_count": 24,
   "id": "2d8812b9",
   "metadata": {},
   "outputs": [],
   "source": [
    "#let us define a model generating method\n",
    "def news(gridPoint):\n",
    "    lstmN = int(gridPoint[\"lstmN\"])\n",
    "    dOut = gridPoint[\"dOut\"]\n",
    "    lr = gridPoint[\"lRate\"]\n",
    "    \n",
    "    global nVocab, inpSize, embd, emb_matrix\n",
    "    \n",
    "    # Random consistency seed\n",
    "    np.random.seed(129)\n",
    "    tf.random.set_seed(129)\n",
    "    \n",
    "    # cuDNN requirements for LSTM acceleration\n",
    "    lstmParams = dict(activation = 'tanh',\n",
    "                      recurrent_activation = 'sigmoid',\n",
    "                      recurrent_dropout = 0, \n",
    "                      unroll = False, use_bias = True)\n",
    "    \n",
    "    # model building\n",
    "    model = Sequential()\n",
    "    model.add(Embedding(nVocab,embd,\n",
    "                        input_length=inpSize,name='Embedding'))\n",
    "    model.add(SpatialDropout1D(dOut,name=\"DropOut\"))\n",
    "    model.add(Bidirectional(LSTM(lstmN,dropout=dOut/2,name=\"LSTM\",**lstmParams),name=\"Bidirectional\"))\n",
    "    model.add(Dense(1,activation='sigmoid',name=\"Sentiment\"))\n",
    "    \n",
    "    # GloVe embeddings\n",
    "    model.layers[0].set_weights([emb_matrix])\n",
    "    model.layers[0].trainable = False\n",
    "    \n",
    "    # compile\n",
    "    optim = tf.keras.optimizers.RMSprop(learning_rate=lr)\n",
    "    model.compile(loss='binary_crossentropy', \n",
    "                  optimizer=optim, metrics=[\"accuracy\"])\n",
    "    \n",
    "    return model"
   ]
  },
  {
   "cell_type": "code",
   "execution_count": 25,
   "id": "af837fab",
   "metadata": {},
   "outputs": [
    {
     "data": {
      "text/plain": [
       "(18, 4)"
      ]
     },
     "execution_count": 25,
     "metadata": {},
     "output_type": "execute_result"
    }
   ],
   "source": [
    "grid = dict(lstmN=[64,96,128],\n",
    "            dOut=[0.2,0.4],\n",
    "            lRate=[0.1,1e-2,1e-3])\n",
    "\n",
    "pCols = list(grid.keys())\n",
    "\n",
    "pGrid = pd.DataFrame(columns=pCols)\n",
    "for gp in [np.array([l,d,lr]) \n",
    "           for l in grid[\"lstmN\"] \n",
    "           for d in grid[\"dOut\"] \n",
    "           for lr in grid[\"lRate\"]]:\n",
    "    dtmp = pd.DataFrame(gp.reshape(1,-1),columns=pCols)\n",
    "    pGrid = pd.merge(pGrid,dtmp,how='outer',on=pCols)\n",
    "\n",
    "pGrid[\"epoch\"] = np.nan\n",
    "pGrid.shape"
   ]
  },
  {
   "cell_type": "code",
   "execution_count": 26,
   "id": "48155e4b",
   "metadata": {},
   "outputs": [
    {
     "name": "stderr",
     "output_type": "stream",
     "text": [
      "2022-06-24 23:26:57.274611: I tensorflow/stream_executor/cuda/cuda_gpu_executor.cc:936] successful NUMA node read from SysFS had negative value (-1), but there must be at least one NUMA node, so returning NUMA node zero\n",
      "2022-06-24 23:26:57.311795: I tensorflow/stream_executor/cuda/cuda_gpu_executor.cc:936] successful NUMA node read from SysFS had negative value (-1), but there must be at least one NUMA node, so returning NUMA node zero\n",
      "2022-06-24 23:26:57.311977: I tensorflow/stream_executor/cuda/cuda_gpu_executor.cc:936] successful NUMA node read from SysFS had negative value (-1), but there must be at least one NUMA node, so returning NUMA node zero\n",
      "2022-06-24 23:26:57.312655: I tensorflow/core/platform/cpu_feature_guard.cc:151] This TensorFlow binary is optimized with oneAPI Deep Neural Network Library (oneDNN) to use the following CPU instructions in performance-critical operations:  AVX2 FMA\n",
      "To enable them in other operations, rebuild TensorFlow with the appropriate compiler flags.\n",
      "2022-06-24 23:26:57.313131: I tensorflow/stream_executor/cuda/cuda_gpu_executor.cc:936] successful NUMA node read from SysFS had negative value (-1), but there must be at least one NUMA node, so returning NUMA node zero\n",
      "2022-06-24 23:26:57.313265: I tensorflow/stream_executor/cuda/cuda_gpu_executor.cc:936] successful NUMA node read from SysFS had negative value (-1), but there must be at least one NUMA node, so returning NUMA node zero\n",
      "2022-06-24 23:26:57.313375: I tensorflow/stream_executor/cuda/cuda_gpu_executor.cc:936] successful NUMA node read from SysFS had negative value (-1), but there must be at least one NUMA node, so returning NUMA node zero\n",
      "2022-06-24 23:26:57.738967: I tensorflow/stream_executor/cuda/cuda_gpu_executor.cc:936] successful NUMA node read from SysFS had negative value (-1), but there must be at least one NUMA node, so returning NUMA node zero\n",
      "2022-06-24 23:26:57.739138: I tensorflow/stream_executor/cuda/cuda_gpu_executor.cc:936] successful NUMA node read from SysFS had negative value (-1), but there must be at least one NUMA node, so returning NUMA node zero\n",
      "2022-06-24 23:26:57.739308: I tensorflow/stream_executor/cuda/cuda_gpu_executor.cc:936] successful NUMA node read from SysFS had negative value (-1), but there must be at least one NUMA node, so returning NUMA node zero\n",
      "2022-06-24 23:26:57.739421: I tensorflow/core/common_runtime/gpu/gpu_device.cc:1525] Created device /job:localhost/replica:0/task:0/device:GPU:0 with 2983 MB memory:  -> device: 0, name: Quadro P1000, pci bus id: 0000:01:00.0, compute capability: 6.1\n"
     ]
    },
    {
     "name": "stdout",
     "output_type": "stream",
     "text": [
      "Model: \"sequential\"\n",
      "_________________________________________________________________\n",
      " Layer (type)                Output Shape              Param #   \n",
      "=================================================================\n",
      " Embedding (Embedding)       (None, 20, 50)            500000    \n",
      "                                                                 \n",
      " DropOut (SpatialDropout1D)  (None, 20, 50)            0         \n",
      "                                                                 \n",
      " Bidirectional (Bidirectiona  (None, 256)              183296    \n",
      " l)                                                              \n",
      "                                                                 \n",
      " Sentiment (Dense)           (None, 1)                 257       \n",
      "                                                                 \n",
      "=================================================================\n",
      "Total params: 683,553\n",
      "Trainable params: 183,553\n",
      "Non-trainable params: 500,000\n",
      "_________________________________________________________________\n"
     ]
    },
    {
     "data": {
      "image/png": "[encoded data removed]",
      "text/plain": [
       "<IPython.core.display.Image object>"
      ]
     },
     "execution_count": 26,
     "metadata": {},
     "output_type": "execute_result"
    }
   ],
   "source": [
    "# sample model 12 (arbitrariliy chosen)\n",
    "i = 12\n",
    "gp = dict(pGrid.iloc[i])\n",
    "mdl = news(gp)\n",
    "mdl.summary()\n",
    "plot_model(mdl,show_shapes=True)"
   ]
  },
  {
   "cell_type": "code",
   "execution_count": 34,
   "id": "4fff4adf",
   "metadata": {},
   "outputs": [
    {
     "name": "stderr",
     "output_type": "stream",
     "text": [
      "2022-06-24 23:27:46.372694: I tensorflow/stream_executor/cuda/cuda_dnn.cc:368] Loaded cuDNN version 8400\n"
     ]
    },
    {
     "name": "stdout",
     "output_type": "stream",
     "text": [
      "CPU times: user 42.3 s, sys: 5.02 s, total: 47.4 s\n",
      "Wall time: 27.8 s\n"
     ]
    }
   ],
   "source": [
    "%%time\n",
    "# trial run (base model)\n",
    "fParams = dict(x=X_train_sents,y=y_train,steps_per_epoch=200,\n",
    "                 batch_size=32,epochs=20,validation_steps=100,\n",
    "                 validation_data=(X_test_sents,y_test))\n",
    "n1 = runs(news,\"base\",i,gp,fParams)"
   ]
  },
  {
   "cell_type": "code",
   "execution_count": 35,
   "id": "7be140ac",
   "metadata": {},
   "outputs": [
    {
     "data": {
      "text/html": [
       "<div>\n",
       "<style scoped>\n",
       "    .dataframe tbody tr th:only-of-type {\n",
       "        vertical-align: middle;\n",
       "    }\n",
       "\n",
       "    .dataframe tbody tr th {\n",
       "        vertical-align: top;\n",
       "    }\n",
       "\n",
       "    .dataframe thead th {\n",
       "        text-align: right;\n",
       "    }\n",
       "</style>\n",
       "<table border=\"1\" class=\"dataframe\">\n",
       "  <thead>\n",
       "    <tr style=\"text-align: right;\">\n",
       "      <th></th>\n",
       "      <th>lstmN</th>\n",
       "      <th>dOut</th>\n",
       "      <th>lRate</th>\n",
       "      <th>epoch</th>\n",
       "      <th>loss</th>\n",
       "      <th>accuracy</th>\n",
       "      <th>val_loss</th>\n",
       "      <th>val_accuracy</th>\n",
       "    </tr>\n",
       "  </thead>\n",
       "  <tbody>\n",
       "    <tr>\n",
       "      <th>0</th>\n",
       "      <td>64.0</td>\n",
       "      <td>0.2</td>\n",
       "      <td>0.100</td>\n",
       "      <td>NaN</td>\n",
       "      <td>NaN</td>\n",
       "      <td>NaN</td>\n",
       "      <td>NaN</td>\n",
       "      <td>NaN</td>\n",
       "    </tr>\n",
       "    <tr>\n",
       "      <th>1</th>\n",
       "      <td>64.0</td>\n",
       "      <td>0.2</td>\n",
       "      <td>0.010</td>\n",
       "      <td>NaN</td>\n",
       "      <td>NaN</td>\n",
       "      <td>NaN</td>\n",
       "      <td>NaN</td>\n",
       "      <td>NaN</td>\n",
       "    </tr>\n",
       "    <tr>\n",
       "      <th>2</th>\n",
       "      <td>64.0</td>\n",
       "      <td>0.2</td>\n",
       "      <td>0.001</td>\n",
       "      <td>NaN</td>\n",
       "      <td>NaN</td>\n",
       "      <td>NaN</td>\n",
       "      <td>NaN</td>\n",
       "      <td>NaN</td>\n",
       "    </tr>\n",
       "    <tr>\n",
       "      <th>3</th>\n",
       "      <td>64.0</td>\n",
       "      <td>0.4</td>\n",
       "      <td>0.100</td>\n",
       "      <td>NaN</td>\n",
       "      <td>NaN</td>\n",
       "      <td>NaN</td>\n",
       "      <td>NaN</td>\n",
       "      <td>NaN</td>\n",
       "    </tr>\n",
       "    <tr>\n",
       "      <th>4</th>\n",
       "      <td>64.0</td>\n",
       "      <td>0.4</td>\n",
       "      <td>0.010</td>\n",
       "      <td>NaN</td>\n",
       "      <td>NaN</td>\n",
       "      <td>NaN</td>\n",
       "      <td>NaN</td>\n",
       "      <td>NaN</td>\n",
       "    </tr>\n",
       "    <tr>\n",
       "      <th>5</th>\n",
       "      <td>64.0</td>\n",
       "      <td>0.4</td>\n",
       "      <td>0.001</td>\n",
       "      <td>NaN</td>\n",
       "      <td>NaN</td>\n",
       "      <td>NaN</td>\n",
       "      <td>NaN</td>\n",
       "      <td>NaN</td>\n",
       "    </tr>\n",
       "    <tr>\n",
       "      <th>6</th>\n",
       "      <td>96.0</td>\n",
       "      <td>0.2</td>\n",
       "      <td>0.100</td>\n",
       "      <td>NaN</td>\n",
       "      <td>NaN</td>\n",
       "      <td>NaN</td>\n",
       "      <td>NaN</td>\n",
       "      <td>NaN</td>\n",
       "    </tr>\n",
       "    <tr>\n",
       "      <th>7</th>\n",
       "      <td>96.0</td>\n",
       "      <td>0.2</td>\n",
       "      <td>0.010</td>\n",
       "      <td>NaN</td>\n",
       "      <td>NaN</td>\n",
       "      <td>NaN</td>\n",
       "      <td>NaN</td>\n",
       "      <td>NaN</td>\n",
       "    </tr>\n",
       "    <tr>\n",
       "      <th>8</th>\n",
       "      <td>96.0</td>\n",
       "      <td>0.2</td>\n",
       "      <td>0.001</td>\n",
       "      <td>NaN</td>\n",
       "      <td>NaN</td>\n",
       "      <td>NaN</td>\n",
       "      <td>NaN</td>\n",
       "      <td>NaN</td>\n",
       "    </tr>\n",
       "    <tr>\n",
       "      <th>9</th>\n",
       "      <td>96.0</td>\n",
       "      <td>0.4</td>\n",
       "      <td>0.100</td>\n",
       "      <td>NaN</td>\n",
       "      <td>NaN</td>\n",
       "      <td>NaN</td>\n",
       "      <td>NaN</td>\n",
       "      <td>NaN</td>\n",
       "    </tr>\n",
       "    <tr>\n",
       "      <th>10</th>\n",
       "      <td>96.0</td>\n",
       "      <td>0.4</td>\n",
       "      <td>0.010</td>\n",
       "      <td>NaN</td>\n",
       "      <td>NaN</td>\n",
       "      <td>NaN</td>\n",
       "      <td>NaN</td>\n",
       "      <td>NaN</td>\n",
       "    </tr>\n",
       "    <tr>\n",
       "      <th>11</th>\n",
       "      <td>96.0</td>\n",
       "      <td>0.4</td>\n",
       "      <td>0.001</td>\n",
       "      <td>NaN</td>\n",
       "      <td>NaN</td>\n",
       "      <td>NaN</td>\n",
       "      <td>NaN</td>\n",
       "      <td>NaN</td>\n",
       "    </tr>\n",
       "    <tr>\n",
       "      <th>12</th>\n",
       "      <td>128.0</td>\n",
       "      <td>0.2</td>\n",
       "      <td>0.100</td>\n",
       "      <td>20.0</td>\n",
       "      <td>1.220628</td>\n",
       "      <td>0.517969</td>\n",
       "      <td>1.328101</td>\n",
       "      <td>0.482188</td>\n",
       "    </tr>\n",
       "    <tr>\n",
       "      <th>13</th>\n",
       "      <td>128.0</td>\n",
       "      <td>0.2</td>\n",
       "      <td>0.010</td>\n",
       "      <td>NaN</td>\n",
       "      <td>NaN</td>\n",
       "      <td>NaN</td>\n",
       "      <td>NaN</td>\n",
       "      <td>NaN</td>\n",
       "    </tr>\n",
       "    <tr>\n",
       "      <th>14</th>\n",
       "      <td>128.0</td>\n",
       "      <td>0.2</td>\n",
       "      <td>0.001</td>\n",
       "      <td>NaN</td>\n",
       "      <td>NaN</td>\n",
       "      <td>NaN</td>\n",
       "      <td>NaN</td>\n",
       "      <td>NaN</td>\n",
       "    </tr>\n",
       "    <tr>\n",
       "      <th>15</th>\n",
       "      <td>128.0</td>\n",
       "      <td>0.4</td>\n",
       "      <td>0.100</td>\n",
       "      <td>NaN</td>\n",
       "      <td>NaN</td>\n",
       "      <td>NaN</td>\n",
       "      <td>NaN</td>\n",
       "      <td>NaN</td>\n",
       "    </tr>\n",
       "    <tr>\n",
       "      <th>16</th>\n",
       "      <td>128.0</td>\n",
       "      <td>0.4</td>\n",
       "      <td>0.010</td>\n",
       "      <td>NaN</td>\n",
       "      <td>NaN</td>\n",
       "      <td>NaN</td>\n",
       "      <td>NaN</td>\n",
       "      <td>NaN</td>\n",
       "    </tr>\n",
       "    <tr>\n",
       "      <th>17</th>\n",
       "      <td>128.0</td>\n",
       "      <td>0.4</td>\n",
       "      <td>0.001</td>\n",
       "      <td>NaN</td>\n",
       "      <td>NaN</td>\n",
       "      <td>NaN</td>\n",
       "      <td>NaN</td>\n",
       "      <td>NaN</td>\n",
       "    </tr>\n",
       "  </tbody>\n",
       "</table>\n",
       "</div>"
      ],
      "text/plain": [
       "    lstmN  dOut  lRate  epoch      loss  accuracy  val_loss  val_accuracy\n",
       "0    64.0   0.2  0.100    NaN       NaN       NaN       NaN           NaN\n",
       "1    64.0   0.2  0.010    NaN       NaN       NaN       NaN           NaN\n",
       "2    64.0   0.2  0.001    NaN       NaN       NaN       NaN           NaN\n",
       "3    64.0   0.4  0.100    NaN       NaN       NaN       NaN           NaN\n",
       "4    64.0   0.4  0.010    NaN       NaN       NaN       NaN           NaN\n",
       "5    64.0   0.4  0.001    NaN       NaN       NaN       NaN           NaN\n",
       "6    96.0   0.2  0.100    NaN       NaN       NaN       NaN           NaN\n",
       "7    96.0   0.2  0.010    NaN       NaN       NaN       NaN           NaN\n",
       "8    96.0   0.2  0.001    NaN       NaN       NaN       NaN           NaN\n",
       "9    96.0   0.4  0.100    NaN       NaN       NaN       NaN           NaN\n",
       "10   96.0   0.4  0.010    NaN       NaN       NaN       NaN           NaN\n",
       "11   96.0   0.4  0.001    NaN       NaN       NaN       NaN           NaN\n",
       "12  128.0   0.2  0.100   20.0  1.220628  0.517969  1.328101      0.482188\n",
       "13  128.0   0.2  0.010    NaN       NaN       NaN       NaN           NaN\n",
       "14  128.0   0.2  0.001    NaN       NaN       NaN       NaN           NaN\n",
       "15  128.0   0.4  0.100    NaN       NaN       NaN       NaN           NaN\n",
       "16  128.0   0.4  0.010    NaN       NaN       NaN       NaN           NaN\n",
       "17  128.0   0.4  0.001    NaN       NaN       NaN       NaN           NaN"
      ]
     },
     "execution_count": 35,
     "metadata": {},
     "output_type": "execute_result"
    }
   ],
   "source": [
    "pGrid"
   ]
  },
  {
   "cell_type": "code",
   "execution_count": 36,
   "id": "42b489fb",
   "metadata": {},
   "outputs": [
    {
     "name": "stderr",
     "output_type": "stream",
     "text": [
      "hyperTuning: 100%|██████████████████████████████| 12/12 [04:56<00:00, 24.72s/it]\n"
     ]
    }
   ],
   "source": [
    "# Random consistency seed\n",
    "np.random.seed(129)\n",
    "tf.random.set_seed(129)\n",
    " \n",
    "index = np.random.choice(list(pGrid.loc[pGrid.epoch.isna()].index),12,replace=False)\n",
    "\n",
    "fParams = dict(x=X_train_sents,y=y_train,steps_per_epoch=200,\n",
    "                 batch_size=32,epochs=20,validation_steps=100,\n",
    "                 validation_data=(X_test_sents,y_test))\n",
    "\n",
    "for i in tqdm(index,desc=\"hyperTuning\"):\n",
    "    nClf = runs(news,\"nTune\",i,dict(pGrid.iloc[i]),fParams)"
   ]
  },
  {
   "cell_type": "code",
   "execution_count": 37,
   "id": "535b656a",
   "metadata": {},
   "outputs": [
    {
     "data": {
      "text/html": [
       "<div>\n",
       "<style scoped>\n",
       "    .dataframe tbody tr th:only-of-type {\n",
       "        vertical-align: middle;\n",
       "    }\n",
       "\n",
       "    .dataframe tbody tr th {\n",
       "        vertical-align: top;\n",
       "    }\n",
       "\n",
       "    .dataframe thead th {\n",
       "        text-align: right;\n",
       "    }\n",
       "</style>\n",
       "<table border=\"1\" class=\"dataframe\">\n",
       "  <thead>\n",
       "    <tr style=\"text-align: right;\">\n",
       "      <th></th>\n",
       "      <th>lstmN</th>\n",
       "      <th>dOut</th>\n",
       "      <th>lRate</th>\n",
       "      <th>epoch</th>\n",
       "      <th>loss</th>\n",
       "      <th>accuracy</th>\n",
       "      <th>val_loss</th>\n",
       "      <th>val_accuracy</th>\n",
       "      <th>overFit</th>\n",
       "    </tr>\n",
       "  </thead>\n",
       "  <tbody>\n",
       "    <tr>\n",
       "      <th>0</th>\n",
       "      <td>64.0</td>\n",
       "      <td>0.2</td>\n",
       "      <td>0.100</td>\n",
       "      <td>20.0</td>\n",
       "      <td>0.739778</td>\n",
       "      <td>0.585156</td>\n",
       "      <td>0.663046</td>\n",
       "      <td>0.638438</td>\n",
       "      <td>0.053281</td>\n",
       "    </tr>\n",
       "    <tr>\n",
       "      <th>10</th>\n",
       "      <td>96.0</td>\n",
       "      <td>0.4</td>\n",
       "      <td>0.010</td>\n",
       "      <td>20.0</td>\n",
       "      <td>0.477844</td>\n",
       "      <td>0.767500</td>\n",
       "      <td>0.418665</td>\n",
       "      <td>0.807187</td>\n",
       "      <td>0.039688</td>\n",
       "    </tr>\n",
       "    <tr>\n",
       "      <th>4</th>\n",
       "      <td>64.0</td>\n",
       "      <td>0.4</td>\n",
       "      <td>0.010</td>\n",
       "      <td>20.0</td>\n",
       "      <td>0.474284</td>\n",
       "      <td>0.771094</td>\n",
       "      <td>0.404873</td>\n",
       "      <td>0.806562</td>\n",
       "      <td>0.035469</td>\n",
       "    </tr>\n",
       "    <tr>\n",
       "      <th>3</th>\n",
       "      <td>64.0</td>\n",
       "      <td>0.4</td>\n",
       "      <td>0.100</td>\n",
       "      <td>20.0</td>\n",
       "      <td>0.886616</td>\n",
       "      <td>0.500938</td>\n",
       "      <td>0.757501</td>\n",
       "      <td>0.515312</td>\n",
       "      <td>0.014375</td>\n",
       "    </tr>\n",
       "    <tr>\n",
       "      <th>14</th>\n",
       "      <td>128.0</td>\n",
       "      <td>0.2</td>\n",
       "      <td>0.001</td>\n",
       "      <td>20.0</td>\n",
       "      <td>0.396412</td>\n",
       "      <td>0.818125</td>\n",
       "      <td>0.388313</td>\n",
       "      <td>0.828438</td>\n",
       "      <td>0.010312</td>\n",
       "    </tr>\n",
       "  </tbody>\n",
       "</table>\n",
       "</div>"
      ],
      "text/plain": [
       "    lstmN  dOut  lRate  epoch      loss  accuracy  val_loss  val_accuracy  \\\n",
       "0    64.0   0.2  0.100   20.0  0.739778  0.585156  0.663046      0.638438   \n",
       "10   96.0   0.4  0.010   20.0  0.477844  0.767500  0.418665      0.807187   \n",
       "4    64.0   0.4  0.010   20.0  0.474284  0.771094  0.404873      0.806562   \n",
       "3    64.0   0.4  0.100   20.0  0.886616  0.500938  0.757501      0.515312   \n",
       "14  128.0   0.2  0.001   20.0  0.396412  0.818125  0.388313      0.828438   \n",
       "\n",
       "     overFit  \n",
       "0   0.053281  \n",
       "10  0.039688  \n",
       "4   0.035469  \n",
       "3   0.014375  \n",
       "14  0.010312  "
      ]
     },
     "execution_count": 37,
     "metadata": {},
     "output_type": "execute_result"
    }
   ],
   "source": [
    "# parameterize overfitting\n",
    "pGrid[\"overFit\"] = pGrid.apply(lambda row: row[\"val_accuracy\"]-row[\"accuracy\"],axis=1)\n",
    "# review based on overfitting\n",
    "pGrid.loc[pGrid.epoch.isna()!=True].sort_values(by=\"overFit\",ascending=False).head()"
   ]
  },
  {
   "cell_type": "code",
   "execution_count": 39,
   "id": "919b1756",
   "metadata": {},
   "outputs": [
    {
     "name": "stdout",
     "output_type": "stream",
     "text": [
      "CPU times: user 1min 48s, sys: 13.1 s, total: 2min 2s\n",
      "Wall time: 1min 3s\n"
     ]
    }
   ],
   "source": [
    "%%time\n",
    "# lets pick the model with least overfitting & train on full dataset\n",
    "i = pGrid.loc[pGrid.epoch.isna()!=True].sort_values(by=\"overFit\",ascending=False).index[0]\n",
    "gp = dict(pGrid.iloc[i])\n",
    "fParams = dict(x=X_train_sents,y=y_train,batch_size=32,\n",
    "               epochs=20,validation_data=(X_test_sents,y_test))\n",
    "NewsCLF = runs(news,\"nFINAL\",i,gp,fParams)"
   ]
  },
  {
   "cell_type": "code",
   "execution_count": 40,
   "id": "f71e514c",
   "metadata": {
    "scrolled": true
   },
   "outputs": [
    {
     "data": {
      "text/html": [
       "<div>\n",
       "<style scoped>\n",
       "    .dataframe tbody tr th:only-of-type {\n",
       "        vertical-align: middle;\n",
       "    }\n",
       "\n",
       "    .dataframe tbody tr th {\n",
       "        vertical-align: top;\n",
       "    }\n",
       "\n",
       "    .dataframe thead th {\n",
       "        text-align: right;\n",
       "    }\n",
       "</style>\n",
       "<table border=\"1\" class=\"dataframe\">\n",
       "  <thead>\n",
       "    <tr style=\"text-align: right;\">\n",
       "      <th></th>\n",
       "      <th>lstmN</th>\n",
       "      <th>dOut</th>\n",
       "      <th>lRate</th>\n",
       "      <th>epoch</th>\n",
       "      <th>loss</th>\n",
       "      <th>accuracy</th>\n",
       "      <th>val_loss</th>\n",
       "      <th>val_accuracy</th>\n",
       "      <th>overFit</th>\n",
       "    </tr>\n",
       "  </thead>\n",
       "  <tbody>\n",
       "    <tr>\n",
       "      <th>13</th>\n",
       "      <td>128.0</td>\n",
       "      <td>0.2</td>\n",
       "      <td>0.010</td>\n",
       "      <td>20.0</td>\n",
       "      <td>0.375911</td>\n",
       "      <td>0.834687</td>\n",
       "      <td>0.372078</td>\n",
       "      <td>0.839063</td>\n",
       "      <td>0.004375</td>\n",
       "    </tr>\n",
       "    <tr>\n",
       "      <th>1</th>\n",
       "      <td>64.0</td>\n",
       "      <td>0.2</td>\n",
       "      <td>0.010</td>\n",
       "      <td>20.0</td>\n",
       "      <td>0.374197</td>\n",
       "      <td>0.834063</td>\n",
       "      <td>0.381996</td>\n",
       "      <td>0.829063</td>\n",
       "      <td>-0.005000</td>\n",
       "    </tr>\n",
       "    <tr>\n",
       "      <th>14</th>\n",
       "      <td>128.0</td>\n",
       "      <td>0.2</td>\n",
       "      <td>0.001</td>\n",
       "      <td>20.0</td>\n",
       "      <td>0.396412</td>\n",
       "      <td>0.818125</td>\n",
       "      <td>0.388313</td>\n",
       "      <td>0.828438</td>\n",
       "      <td>0.010312</td>\n",
       "    </tr>\n",
       "    <tr>\n",
       "      <th>2</th>\n",
       "      <td>64.0</td>\n",
       "      <td>0.2</td>\n",
       "      <td>0.001</td>\n",
       "      <td>20.0</td>\n",
       "      <td>0.408778</td>\n",
       "      <td>0.811406</td>\n",
       "      <td>0.405476</td>\n",
       "      <td>0.820000</td>\n",
       "      <td>0.008594</td>\n",
       "    </tr>\n",
       "    <tr>\n",
       "      <th>10</th>\n",
       "      <td>96.0</td>\n",
       "      <td>0.4</td>\n",
       "      <td>0.010</td>\n",
       "      <td>20.0</td>\n",
       "      <td>0.477844</td>\n",
       "      <td>0.767500</td>\n",
       "      <td>0.418665</td>\n",
       "      <td>0.807187</td>\n",
       "      <td>0.039688</td>\n",
       "    </tr>\n",
       "  </tbody>\n",
       "</table>\n",
       "</div>"
      ],
      "text/plain": [
       "    lstmN  dOut  lRate  epoch      loss  accuracy  val_loss  val_accuracy  \\\n",
       "13  128.0   0.2  0.010   20.0  0.375911  0.834687  0.372078      0.839063   \n",
       "1    64.0   0.2  0.010   20.0  0.374197  0.834063  0.381996      0.829063   \n",
       "14  128.0   0.2  0.001   20.0  0.396412  0.818125  0.388313      0.828438   \n",
       "2    64.0   0.2  0.001   20.0  0.408778  0.811406  0.405476      0.820000   \n",
       "10   96.0   0.4  0.010   20.0  0.477844  0.767500  0.418665      0.807187   \n",
       "\n",
       "     overFit  \n",
       "13  0.004375  \n",
       "1  -0.005000  \n",
       "14  0.010312  \n",
       "2   0.008594  \n",
       "10  0.039688  "
      ]
     },
     "execution_count": 40,
     "metadata": {},
     "output_type": "execute_result"
    }
   ],
   "source": [
    "# review based on overfitting\n",
    "pGrid.loc[pGrid.epoch.isna()!=True].sort_values(by=\"val_accuracy\",ascending=False).head()"
   ]
  },
  {
   "cell_type": "code",
   "execution_count": 42,
   "id": "4600369f",
   "metadata": {},
   "outputs": [
    {
     "name": "stdout",
     "output_type": "stream",
     "text": [
      "CPU times: user 1min 56s, sys: 13 s, total: 2min 9s\n",
      "Wall time: 1min 16s\n"
     ]
    }
   ],
   "source": [
    "%%time\n",
    "# lets pick the model with least overfitting & train on full dataset\n",
    "j = pGrid.loc[pGrid.epoch.isna()!=True].sort_values(by=\"val_accuracy\",ascending=False).index[0]\n",
    "gp = dict(pGrid.iloc[j])\n",
    "fParams = dict(x=X_train_sents,y=y_train,batch_size=32,\n",
    "               epochs=20,validation_data=(X_test_sents,y_test))\n",
    "NewsCLF2 = runs(news,\"nFINAL2\",j,gp,fParams)"
   ]
  },
  {
   "cell_type": "code",
   "execution_count": 47,
   "id": "91b089e9",
   "metadata": {},
   "outputs": [],
   "source": [
    "# choose the better one\n",
    "if pGrid.loc[i,[\"val_accuracy\"]].values[0] > pGrid.loc[j,[\"val_accuracy\"]].values[0]:\n",
    "    fModel = NewsCLF\n",
    "else:\n",
    "    fModel = NewsCLF2"
   ]
  },
  {
   "cell_type": "code",
   "execution_count": 50,
   "id": "94d2ec32",
   "metadata": {},
   "outputs": [
    {
     "name": "stdout",
     "output_type": "stream",
     "text": [
      "VALDIATION ACCURACY:  0.8331586122512817\n"
     ]
    }
   ],
   "source": [
    "print(\"VALDIATION ACCURACY: \",fModel.evaluate(X_test_sents,y_test,verbose=0)[1])"
   ]
  }
 ],
 "metadata": {
  "kernelspec": {
   "display_name": "Python 3 (ipykernel)",
   "language": "python",
   "name": "python3"
  },
  "language_info": {
   "codemirror_mode": {
    "name": "ipython",
    "version": 3
   },
   "file_extension": ".py",
   "mimetype": "text/x-python",
   "name": "python",
   "nbconvert_exporter": "python",
   "pygments_lexer": "ipython3",
   "version": "3.9.7"
  }
 },
 "nbformat": 4,
 "nbformat_minor": 5
}
