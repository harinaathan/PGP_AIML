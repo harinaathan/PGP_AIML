{
 "cells": [
  {
   "cell_type": "markdown",
   "id": "0254afa5",
   "metadata": {},
   "source": [
    "# Project - Recommendation Systems\n",
    "## by HARI SAMYNAATH S"
   ]
  },
  {
   "cell_type": "markdown",
   "id": "a2a00028",
   "metadata": {},
   "source": [
    "### User Defined functions / classes and library initiations"
   ]
  },
  {
   "cell_type": "code",
   "execution_count": 1,
   "id": "41835bbc",
   "metadata": {},
   "outputs": [],
   "source": [
    "# dependencies\n",
    "import pandas as pd\n",
    "import os, re\n",
    "from joblib import Parallel, delayed\n",
    "from surprise import Dataset,Reader\n",
    "from surprise.model_selection import train_test_split\n",
    "from surprise.model_selection.validation import cross_validate\n",
    "from surprise.model_selection.search import GridSearchCV\n",
    "from surprise import SVD, KNNWithMeans\n",
    "from surprise import accuracy\n",
    "import numpy as np"
   ]
  },
  {
   "cell_type": "code",
   "execution_count": 2,
   "id": "12260d06",
   "metadata": {},
   "outputs": [],
   "source": [
    "def nulsCount(df):\n",
    "    \"\"\"summarise missing/unexpected values\"\"\"\n",
    "    \n",
    "    d2=pd.DataFrame(columns=[\"NULL\",\"NAN\",\"BLANKS\",\"UNEXP\"])\n",
    "    try:\n",
    "        d2[\"NULL\"] = df.isnull().sum().astype('uint32') # check for null values\n",
    "        d2[\"NAN\"]=df.isna().sum().astype('uint32') # check for NaN\n",
    "        d2[\"BLANKS\"]=df.isin([\"\",\" \"]).sum().astype('uint32') # check for blanks\n",
    "        d2[\"UNEXP\"]=df.isin([\"-\",\"?\",\".\",\"NA\",\"N/A\",\"nan\",\"Unknown\",\"unknown\",\"UNKNOWN\"]).sum().astype('uint32') # check for other unexpected values\n",
    "    except:\n",
    "        pass\n",
    "    d2=d2.loc[(d2[\"NULL\"]!=0) | (d2[\"NAN\"]!=0) | (d2[\"BLANKS\"]!=0) | (d2[\"UNEXP\"]!=0)] # shortlist for the missing values\n",
    "    \n",
    "    # convert to percentages\n",
    "    d2[\"NULL %\"] = d2[\"NULL\"].mul(100/df.shape[0]).round(2)\n",
    "    d2[\"NAN %\"] = d2[\"NAN\"].mul(100/df.shape[0]).round(2)\n",
    "    d2[\"BLANKS %\"] = d2[\"BLANKS\"].mul(100/df.shape[0]).round(2)\n",
    "    d2[\"UNEXP %\"] = d2[\"UNEXP\"].mul(100/df.shape[0]).round(2)\n",
    "    \n",
    "    # rearrange\n",
    "    d2=d2[[\"NULL\",\"NULL %\",\"NAN\",\"NAN %\",\"BLANKS\",\"BLANKS %\",\"UNEXP\",\"UNEXP %\"]]\n",
    "    \n",
    "    if d2.shape[0]==0:\n",
    "        return\n",
    "    else:     \n",
    "        return d2"
   ]
  },
  {
   "cell_type": "markdown",
   "id": "3cfd6395",
   "metadata": {},
   "source": [
    "**DOMAIN:** Smartphone, Electronics<br>\n",
    "**CONTEXT:** India is the second largest market globally for smartphones after China. About 134 million smartphones were sold across India in the year 2017 and is estimated to increase to about 442 million in 2022. India ranked second in the average time spent on mobile web by smartphone users across Asia Paci ic. The combination of very high sales volumes and the average smartphone consumer behaviour has made India a very attractive market for foreign vendors. As per Consumer behaviour, 97% of consumers turn to a search engine when they are buying a product vs. 15% who turn to social media. If a seller succeeds to publish smartphones based on user’s behaviour/choice at the right place, there are 90% chances that user will enquire for the same. This Case Study is targeted to build a recommendation system based on individual consumer’s behaviour or choice.<br>\n",
    "\n",
    "**DATA DESCRIPTION:**<br>\n",
    "• author : name of the person who gave the rating<br>\n",
    "• country : country the person who gave the rating belongs to<br>\n",
    "• data : date of the rating<br>\n",
    "• domain: website from which the rating was taken from<br>\n",
    "• extract: rating content<br>\n",
    "• language: language in which the rating was given<br>\n",
    "• product: name of the product/mobile phone for which the rating was given<br>\n",
    "• score: average rating for the phone<br>\n",
    "• score_max: highest rating given for the phone<br>\n",
    "• source: source from where the rating was taken<br>\n",
    "\n",
    "**PROJECT OBJECTIVE:** We will build a recommendation system using popularity based and collaborative iltering methods to recommend mobile phones to a user which are most popular and personalised respectively."
   ]
  },
  {
   "cell_type": "markdown",
   "id": "ee7a7aa3",
   "metadata": {},
   "source": [
    "**Steps and tasks:**<br>\n",
    "1.Import the necessary libraries and read the provided CSVs as a data frame and perform the below steps.<br>\n",
    "A. Merge all the provided CSVs into one data-frame.<br>"
   ]
  },
  {
   "cell_type": "code",
   "execution_count": 3,
   "id": "ab5904c1",
   "metadata": {},
   "outputs": [
    {
     "data": {
      "text/plain": [
       "['phone_user_review_file_1.csv',\n",
       " 'phone_user_review_file_2.csv',\n",
       " 'phone_user_review_file_3.csv',\n",
       " 'phone_user_review_file_4.csv',\n",
       " 'phone_user_review_file_5.csv',\n",
       " 'phone_user_review_file_6.csv']"
      ]
     },
     "execution_count": 3,
     "metadata": {},
     "output_type": "execute_result"
    }
   ],
   "source": [
    "# lets list down all csv files in the local directory\n",
    "files=[]\n",
    "for i,file in enumerate(os.listdir()): # load all *.xls* files in the work directory\n",
    "    if re.search(\"^~|^.~\",file)==None and not re.search(\".csv$\",file)==None:\n",
    "        files.append(file)\n",
    "files"
   ]
  },
  {
   "cell_type": "code",
   "execution_count": 4,
   "id": "b08eb52a",
   "metadata": {},
   "outputs": [],
   "source": [
    "# read and merge one by one\n",
    "ratings=pd.DataFrame()\n",
    "for file in files:\n",
    "    ratings=pd.concat([ratings,pd.read_csv(file,encoding_errors='ignore')])\n",
    "ratings.reset_index(drop=True,inplace=True)"
   ]
  },
  {
   "cell_type": "code",
   "execution_count": 5,
   "id": "a3489899",
   "metadata": {
    "scrolled": false
   },
   "outputs": [
    {
     "name": "stdout",
     "output_type": "stream",
     "text": [
      "Shape : (1415133, 11)\n"
     ]
    },
    {
     "data": {
      "text/html": [
       "<div>\n",
       "<style scoped>\n",
       "    .dataframe tbody tr th:only-of-type {\n",
       "        vertical-align: middle;\n",
       "    }\n",
       "\n",
       "    .dataframe tbody tr th {\n",
       "        vertical-align: top;\n",
       "    }\n",
       "\n",
       "    .dataframe thead th {\n",
       "        text-align: right;\n",
       "    }\n",
       "</style>\n",
       "<table border=\"1\" class=\"dataframe\">\n",
       "  <thead>\n",
       "    <tr style=\"text-align: right;\">\n",
       "      <th></th>\n",
       "      <th>phone_url</th>\n",
       "      <th>date</th>\n",
       "      <th>lang</th>\n",
       "      <th>country</th>\n",
       "      <th>source</th>\n",
       "      <th>domain</th>\n",
       "      <th>score</th>\n",
       "      <th>score_max</th>\n",
       "      <th>extract</th>\n",
       "      <th>author</th>\n",
       "      <th>product</th>\n",
       "    </tr>\n",
       "  </thead>\n",
       "  <tbody>\n",
       "    <tr>\n",
       "      <th>0</th>\n",
       "      <td>/cellphones/samsung-galaxy-s8/</td>\n",
       "      <td>5/2/2017</td>\n",
       "      <td>en</td>\n",
       "      <td>us</td>\n",
       "      <td>Verizon Wireless</td>\n",
       "      <td>verizonwireless.com</td>\n",
       "      <td>10.0</td>\n",
       "      <td>10.0</td>\n",
       "      <td>As a diehard Samsung fan who has had every Sam...</td>\n",
       "      <td>CarolAnn35</td>\n",
       "      <td>Samsung Galaxy S8</td>\n",
       "    </tr>\n",
       "    <tr>\n",
       "      <th>1</th>\n",
       "      <td>/cellphones/samsung-galaxy-s8/</td>\n",
       "      <td>4/28/2017</td>\n",
       "      <td>en</td>\n",
       "      <td>us</td>\n",
       "      <td>Phone Arena</td>\n",
       "      <td>phonearena.com</td>\n",
       "      <td>10.0</td>\n",
       "      <td>10.0</td>\n",
       "      <td>Love the phone. the phone is sleek and smooth ...</td>\n",
       "      <td>james0923</td>\n",
       "      <td>Samsung Galaxy S8</td>\n",
       "    </tr>\n",
       "    <tr>\n",
       "      <th>2</th>\n",
       "      <td>/cellphones/samsung-galaxy-s8/</td>\n",
       "      <td>5/4/2017</td>\n",
       "      <td>en</td>\n",
       "      <td>us</td>\n",
       "      <td>Amazon</td>\n",
       "      <td>amazon.com</td>\n",
       "      <td>6.0</td>\n",
       "      <td>10.0</td>\n",
       "      <td>Adequate feel. Nice heft. Processor's still sl...</td>\n",
       "      <td>R. Craig</td>\n",
       "      <td>Samsung Galaxy S8 (64GB) G950U 5.8\" 4G LTE Unl...</td>\n",
       "    </tr>\n",
       "    <tr>\n",
       "      <th>3</th>\n",
       "      <td>/cellphones/samsung-galaxy-s8/</td>\n",
       "      <td>5/2/2017</td>\n",
       "      <td>en</td>\n",
       "      <td>us</td>\n",
       "      <td>Samsung</td>\n",
       "      <td>samsung.com</td>\n",
       "      <td>9.2</td>\n",
       "      <td>10.0</td>\n",
       "      <td>Never disappointed. One of the reasons I've be...</td>\n",
       "      <td>Buster2020</td>\n",
       "      <td>Samsung Galaxy S8 64GB (AT&amp;T)</td>\n",
       "    </tr>\n",
       "    <tr>\n",
       "      <th>4</th>\n",
       "      <td>/cellphones/samsung-galaxy-s8/</td>\n",
       "      <td>5/11/2017</td>\n",
       "      <td>en</td>\n",
       "      <td>us</td>\n",
       "      <td>Verizon Wireless</td>\n",
       "      <td>verizonwireless.com</td>\n",
       "      <td>4.0</td>\n",
       "      <td>10.0</td>\n",
       "      <td>I've now found that i'm in a group of people t...</td>\n",
       "      <td>S Ate Mine</td>\n",
       "      <td>Samsung Galaxy S8</td>\n",
       "    </tr>\n",
       "  </tbody>\n",
       "</table>\n",
       "</div>"
      ],
      "text/plain": [
       "                        phone_url       date lang country            source  \\\n",
       "0  /cellphones/samsung-galaxy-s8/   5/2/2017   en      us  Verizon Wireless   \n",
       "1  /cellphones/samsung-galaxy-s8/  4/28/2017   en      us       Phone Arena   \n",
       "2  /cellphones/samsung-galaxy-s8/   5/4/2017   en      us            Amazon   \n",
       "3  /cellphones/samsung-galaxy-s8/   5/2/2017   en      us           Samsung   \n",
       "4  /cellphones/samsung-galaxy-s8/  5/11/2017   en      us  Verizon Wireless   \n",
       "\n",
       "                domain  score  score_max  \\\n",
       "0  verizonwireless.com   10.0       10.0   \n",
       "1       phonearena.com   10.0       10.0   \n",
       "2           amazon.com    6.0       10.0   \n",
       "3          samsung.com    9.2       10.0   \n",
       "4  verizonwireless.com    4.0       10.0   \n",
       "\n",
       "                                             extract       author  \\\n",
       "0  As a diehard Samsung fan who has had every Sam...   CarolAnn35   \n",
       "1  Love the phone. the phone is sleek and smooth ...    james0923   \n",
       "2  Adequate feel. Nice heft. Processor's still sl...     R. Craig   \n",
       "3  Never disappointed. One of the reasons I've be...  Buster2020    \n",
       "4  I've now found that i'm in a group of people t...   S Ate Mine   \n",
       "\n",
       "                                             product  \n",
       "0                                  Samsung Galaxy S8  \n",
       "1                                  Samsung Galaxy S8  \n",
       "2  Samsung Galaxy S8 (64GB) G950U 5.8\" 4G LTE Unl...  \n",
       "3                      Samsung Galaxy S8 64GB (AT&T)  \n",
       "4                                  Samsung Galaxy S8  "
      ]
     },
     "metadata": {},
     "output_type": "display_data"
    }
   ],
   "source": [
    "# review data set\n",
    "print(\"Shape :\",ratings.shape)\n",
    "display(ratings.head())"
   ]
  },
  {
   "cell_type": "markdown",
   "id": "b905a507",
   "metadata": {},
   "source": [
    "**Steps and tasks:**<br>\n",
    "1. B. Explore, understand the Data and share at least 2 observations."
   ]
  },
  {
   "cell_type": "code",
   "execution_count": 6,
   "id": "43aceed2",
   "metadata": {},
   "outputs": [
    {
     "name": "stdout",
     "output_type": "stream",
     "text": [
      "The ratings were given in a total of 22 languages as follows\n",
      "\n",
      "['ar', 'cs', 'da', 'de', 'en', 'es', 'fi', 'fr', 'he', 'hu', 'id', 'it', 'ja', 'ko', 'nl', 'no', 'pl', 'pt', 'ru', 'sv', 'tr', 'zh']\n"
     ]
    }
   ],
   "source": [
    "print(\"The ratings were given in a total of %d languages as follows\\n\"%(ratings.lang.nunique()))\n",
    "print(sorted(ratings.lang.unique()))"
   ]
  },
  {
   "cell_type": "code",
   "execution_count": 7,
   "id": "00661994",
   "metadata": {},
   "outputs": [
    {
     "name": "stdout",
     "output_type": "stream",
     "text": [
      "The ratings were given from 42 different countries as follows\n",
      "\n",
      "['ae', 'ar', 'au', 'be', 'br', 'ca', 'ch', 'cl', 'cn', 'co', 'cz', 'de', 'dk', 'ec', 'es', 'fi', 'fr', 'gb', 'hu', 'id', 'il', 'in', 'it', 'jp', 'kr', 'mx', 'nl', 'no', 'nz', 'pe', 'pl', 'pt', 'ru', 'se', 'sg', 'tr', 'tw', 'ua', 'us', 'uy', 've', 'za']\n"
     ]
    }
   ],
   "source": [
    "print(\"The ratings were given from %d different countries as follows\\n\"%(ratings.country.nunique()))\n",
    "print(sorted(ratings.country.unique()))"
   ]
  },
  {
   "cell_type": "code",
   "execution_count": 8,
   "id": "f9d507c0",
   "metadata": {},
   "outputs": [
    {
     "name": "stdout",
     "output_type": "stream",
     "text": [
      "The ratings were sourced from 331 domains\n"
     ]
    }
   ],
   "source": [
    "print(\"The ratings were sourced from %d domains\"%(ratings.source.nunique()))"
   ]
  },
  {
   "cell_type": "code",
   "execution_count": 9,
   "id": "2c6c0eea",
   "metadata": {},
   "outputs": [
    {
     "name": "stdout",
     "output_type": "stream",
     "text": [
      "The scores range from 0.2 to 10.0\n"
     ]
    }
   ],
   "source": [
    "print(\"The scores range from %.1f to %.1f\"%(ratings.score.min(),ratings.score.max()))"
   ]
  },
  {
   "cell_type": "code",
   "execution_count": 10,
   "id": "e7f0c682",
   "metadata": {},
   "outputs": [
    {
     "name": "stdout",
     "output_type": "stream",
     "text": [
      "The products are expected to be from 166 OEs\n",
      "\n",
      "['acer', 'alcatel', 'amazon', 'amoi', 'amplicom', 'anycool', 'apple', 'archos', 'asus', 'at', 'audiovox', 'auro', 'bang', 'beafon', 'benefon', 'benq', 'binatone', 'bird', 'black', 'blackberry', 'blackview', 'blu', 'bluechip', 'bosch', 'bq', 'casio', 'cat', 'caterpillar', 'cect', 'celkon', 'cubot', 'curitel', 'danger', 'dell', 'denon', 'doogee', 'dopod', 'doro', 'elephone', 'emporia', 'ericsson', 'eten', 'firefly', 'fly', 'fujitsu', 'garmin', 'geemarc', 'general', 'gigabyte', 'gionee', 'google', 'gresso', 'haier', 'hisense', 'hitachi', 'hp', 'htc', 'huawei', 'hummer', 'hyundai', 'i', 'iball', 'iconbit', 'idroid', 'inew', 'infocus', 'innostream', 'inq', 'intermec', 'intex', 'iocean', 'jcb', 'jiayu', 'jolla', 'just5', 'karbonn', 'kazam', 'kyocera', 'latte', 'lava', 'leagoo', 'lenovo', 'lg', 'marshall', 'maxon', 'meitu', 'meizu', 'micromax', 'microsoft', 'mitac', 'mitsubishi', 'mobiado', 'mobistel', 'motorola', 'motorolla', 'mysaga', 'nec', 'neonode', 'netgear', 'nokia', 'o2', 'oneplus', 'oppo', 'orange', 'oukitel', 'palm', 'panasonic', 'pantech', 'pcd', 'pharos', 'philips', 'polaroid', 'porsche', 'prestigio', 'qtek', 'rim', 'rover', 'ruggear', 'runbo', 'sagem', 'samsung', 'sanyo', 'seals', 'sendo', 'sharp', 'siemens', 'sierra', 'sonim', 'sony', 'spv', 'star', 'supersonic', 'svp', 'swissvoice', 't', 'tag', 'tecno', 'telit', 'thl', 'thuraya', 'tiptel', 'toshiba', 'tp', 'ttfone', 'ulefone', 'utstarcom', 'vertu', 'verykool', 'videocon', 'viewsonic', 'vinci', 'vivo', 'vk', 'vodafone', 'vtech', 'wiko', 'wileyfox', 'woxter', 'xcute', 'xiaomi', 'xolo', 'yezz', 'yota', 'yu', 'zopo', 'zte']\n"
     ]
    }
   ],
   "source": [
    "OEMS=ratings[\"phone_url\"].apply(lambda x: str(x).strip().split(sep='/')[2].split(sep='-')[0])\n",
    "print(\"The products are expected to be from %d OEs\\n\"%OEMS.nunique())\n",
    "print(sorted(OEMS.unique()))"
   ]
  },
  {
   "cell_type": "markdown",
   "id": "c658d70a",
   "metadata": {},
   "source": [
    "there are few mis-interpreted OE names (like at and t being separated), the above could be considered as a indicative number"
   ]
  },
  {
   "cell_type": "markdown",
   "id": "1eba8e90",
   "metadata": {},
   "source": [
    "number of source domains are larger than product OEs, which indicates 3rd party seller/reviewer domains as source"
   ]
  },
  {
   "cell_type": "markdown",
   "id": "0da24b0f",
   "metadata": {},
   "source": [
    "**Steps and tasks:**<br>\n",
    "1. C. Round of scores to the nearest integers"
   ]
  },
  {
   "cell_type": "code",
   "execution_count": 11,
   "id": "8a2f9860",
   "metadata": {},
   "outputs": [],
   "source": [
    "# round off\n",
    "ratings.score=ratings['score'].round().astype(int,errors='ignore')"
   ]
  },
  {
   "cell_type": "code",
   "execution_count": 12,
   "id": "1fc8cb1d",
   "metadata": {},
   "outputs": [
    {
     "data": {
      "text/plain": [
       "[0.0, 1.0, 2.0, 3.0, 4.0, 5.0, 6.0, 7.0, 8.0, 9.0, 10.0, nan]"
      ]
     },
     "execution_count": 12,
     "metadata": {},
     "output_type": "execute_result"
    }
   ],
   "source": [
    "# review rounded values\n",
    "sorted(ratings.score.unique())"
   ]
  },
  {
   "cell_type": "markdown",
   "id": "3c36fe53",
   "metadata": {},
   "source": [
    "NANs present, unable to typecast to integers"
   ]
  },
  {
   "cell_type": "markdown",
   "id": "9c996c93",
   "metadata": {},
   "source": [
    "**Steps and tasks:**<br>\n",
    "1. D. Check for missing values. Impute the missing values, if any"
   ]
  },
  {
   "cell_type": "code",
   "execution_count": 13,
   "id": "9a3f75de",
   "metadata": {},
   "outputs": [
    {
     "data": {
      "text/html": [
       "<div>\n",
       "<style scoped>\n",
       "    .dataframe tbody tr th:only-of-type {\n",
       "        vertical-align: middle;\n",
       "    }\n",
       "\n",
       "    .dataframe tbody tr th {\n",
       "        vertical-align: top;\n",
       "    }\n",
       "\n",
       "    .dataframe thead th {\n",
       "        text-align: right;\n",
       "    }\n",
       "</style>\n",
       "<table border=\"1\" class=\"dataframe\">\n",
       "  <thead>\n",
       "    <tr style=\"text-align: right;\">\n",
       "      <th></th>\n",
       "      <th>NULL</th>\n",
       "      <th>NULL %</th>\n",
       "      <th>NAN</th>\n",
       "      <th>NAN %</th>\n",
       "      <th>BLANKS</th>\n",
       "      <th>BLANKS %</th>\n",
       "      <th>UNEXP</th>\n",
       "      <th>UNEXP %</th>\n",
       "    </tr>\n",
       "  </thead>\n",
       "  <tbody>\n",
       "    <tr>\n",
       "      <th>score</th>\n",
       "      <td>63489</td>\n",
       "      <td>4.49</td>\n",
       "      <td>63489</td>\n",
       "      <td>4.49</td>\n",
       "      <td>0</td>\n",
       "      <td>0.0</td>\n",
       "      <td>0</td>\n",
       "      <td>0.00</td>\n",
       "    </tr>\n",
       "    <tr>\n",
       "      <th>score_max</th>\n",
       "      <td>63489</td>\n",
       "      <td>4.49</td>\n",
       "      <td>63489</td>\n",
       "      <td>4.49</td>\n",
       "      <td>0</td>\n",
       "      <td>0.0</td>\n",
       "      <td>0</td>\n",
       "      <td>0.00</td>\n",
       "    </tr>\n",
       "    <tr>\n",
       "      <th>extract</th>\n",
       "      <td>19361</td>\n",
       "      <td>1.37</td>\n",
       "      <td>19361</td>\n",
       "      <td>1.37</td>\n",
       "      <td>0</td>\n",
       "      <td>0.0</td>\n",
       "      <td>109</td>\n",
       "      <td>0.01</td>\n",
       "    </tr>\n",
       "    <tr>\n",
       "      <th>author</th>\n",
       "      <td>63202</td>\n",
       "      <td>4.47</td>\n",
       "      <td>63202</td>\n",
       "      <td>4.47</td>\n",
       "      <td>0</td>\n",
       "      <td>0.0</td>\n",
       "      <td>1888</td>\n",
       "      <td>0.13</td>\n",
       "    </tr>\n",
       "    <tr>\n",
       "      <th>product</th>\n",
       "      <td>1</td>\n",
       "      <td>0.00</td>\n",
       "      <td>1</td>\n",
       "      <td>0.00</td>\n",
       "      <td>0</td>\n",
       "      <td>0.0</td>\n",
       "      <td>0</td>\n",
       "      <td>0.00</td>\n",
       "    </tr>\n",
       "  </tbody>\n",
       "</table>\n",
       "</div>"
      ],
      "text/plain": [
       "            NULL  NULL %    NAN  NAN %  BLANKS  BLANKS %  UNEXP  UNEXP %\n",
       "score      63489    4.49  63489   4.49       0       0.0      0     0.00\n",
       "score_max  63489    4.49  63489   4.49       0       0.0      0     0.00\n",
       "extract    19361    1.37  19361   1.37       0       0.0    109     0.01\n",
       "author     63202    4.47  63202   4.47       0       0.0   1888     0.13\n",
       "product        1    0.00      1   0.00       0       0.0      0     0.00"
      ]
     },
     "execution_count": 13,
     "metadata": {},
     "output_type": "execute_result"
    }
   ],
   "source": [
    "#lets check for missing values\n",
    "nulsCount(ratings)"
   ]
  },
  {
   "cell_type": "code",
   "execution_count": 14,
   "id": "4465df38",
   "metadata": {},
   "outputs": [
    {
     "data": {
      "text/html": [
       "<div>\n",
       "<style scoped>\n",
       "    .dataframe tbody tr th:only-of-type {\n",
       "        vertical-align: middle;\n",
       "    }\n",
       "\n",
       "    .dataframe tbody tr th {\n",
       "        vertical-align: top;\n",
       "    }\n",
       "\n",
       "    .dataframe thead th {\n",
       "        text-align: right;\n",
       "    }\n",
       "</style>\n",
       "<table border=\"1\" class=\"dataframe\">\n",
       "  <thead>\n",
       "    <tr style=\"text-align: right;\">\n",
       "      <th></th>\n",
       "      <th>phone_url</th>\n",
       "      <th>date</th>\n",
       "      <th>lang</th>\n",
       "      <th>country</th>\n",
       "      <th>source</th>\n",
       "      <th>domain</th>\n",
       "      <th>score</th>\n",
       "      <th>score_max</th>\n",
       "      <th>extract</th>\n",
       "      <th>author</th>\n",
       "      <th>product</th>\n",
       "    </tr>\n",
       "  </thead>\n",
       "  <tbody>\n",
       "    <tr>\n",
       "      <th>47004</th>\n",
       "      <td>/cellphones/apple-iphone-6s/</td>\n",
       "      <td>9/16/2015</td>\n",
       "      <td>pt</td>\n",
       "      <td>br</td>\n",
       "      <td>Ofertou</td>\n",
       "      <td>shopping.ofertou.com</td>\n",
       "      <td>10.0</td>\n",
       "      <td>10.0</td>\n",
       "      <td>.</td>\n",
       "      <td>DAVI DA SILVA LIMA</td>\n",
       "      <td>Apple iPhone 6S 16GB</td>\n",
       "    </tr>\n",
       "    <tr>\n",
       "      <th>58721</th>\n",
       "      <td>/cellphones/apple-iphone-se/</td>\n",
       "      <td>5/7/2017</td>\n",
       "      <td>ru</td>\n",
       "      <td>ru</td>\n",
       "      <td>Связной</td>\n",
       "      <td>svyaznoy.ru</td>\n",
       "      <td>NaN</td>\n",
       "      <td>NaN</td>\n",
       "      <td>?</td>\n",
       "      <td>aminatdin@gmail.com</td>\n",
       "      <td>Apple iPhone SE 16GB (розовое золото)</td>\n",
       "    </tr>\n",
       "    <tr>\n",
       "      <th>60478</th>\n",
       "      <td>/cellphones/apple-iphone-se/</td>\n",
       "      <td>5/17/2016</td>\n",
       "      <td>ru</td>\n",
       "      <td>ru</td>\n",
       "      <td>Связной</td>\n",
       "      <td>svyaznoy.ru</td>\n",
       "      <td>NaN</td>\n",
       "      <td>NaN</td>\n",
       "      <td>?</td>\n",
       "      <td>aminatdin@gmail.com</td>\n",
       "      <td>Apple iPhone SE 16GB (серый космос)</td>\n",
       "    </tr>\n",
       "    <tr>\n",
       "      <th>82730</th>\n",
       "      <td>/cellphones/samsung-galaxy-s6-edge-sm-g925f/</td>\n",
       "      <td>5/23/2016</td>\n",
       "      <td>pt</td>\n",
       "      <td>br</td>\n",
       "      <td>Ofertou</td>\n",
       "      <td>shopping.ofertou.com</td>\n",
       "      <td>10.0</td>\n",
       "      <td>10.0</td>\n",
       "      <td>-</td>\n",
       "      <td>e-bit</td>\n",
       "      <td>Samsung Galaxy S6 Edge SM-G925 32GB</td>\n",
       "    </tr>\n",
       "    <tr>\n",
       "      <th>83421</th>\n",
       "      <td>/cellphones/samsung-galaxy-s6-edge-sm-g925f/</td>\n",
       "      <td>11/27/2015</td>\n",
       "      <td>it</td>\n",
       "      <td>it</td>\n",
       "      <td>Dooyoo</td>\n",
       "      <td>dooyoo.it</td>\n",
       "      <td>8.0</td>\n",
       "      <td>10.0</td>\n",
       "      <td>.</td>\n",
       "      <td>ernestogue</td>\n",
       "      <td>Samsung Galaxy S6 Edge G925F 64GB</td>\n",
       "    </tr>\n",
       "  </tbody>\n",
       "</table>\n",
       "</div>"
      ],
      "text/plain": [
       "                                          phone_url        date lang country  \\\n",
       "47004                  /cellphones/apple-iphone-6s/   9/16/2015   pt      br   \n",
       "58721                  /cellphones/apple-iphone-se/    5/7/2017   ru      ru   \n",
       "60478                  /cellphones/apple-iphone-se/   5/17/2016   ru      ru   \n",
       "82730  /cellphones/samsung-galaxy-s6-edge-sm-g925f/   5/23/2016   pt      br   \n",
       "83421  /cellphones/samsung-galaxy-s6-edge-sm-g925f/  11/27/2015   it      it   \n",
       "\n",
       "        source                domain  score  score_max extract  \\\n",
       "47004  Ofertou  shopping.ofertou.com   10.0       10.0       .   \n",
       "58721  Связной           svyaznoy.ru    NaN        NaN       ?   \n",
       "60478  Связной           svyaznoy.ru    NaN        NaN       ?   \n",
       "82730  Ofertou  shopping.ofertou.com   10.0       10.0       -   \n",
       "83421   Dooyoo             dooyoo.it    8.0       10.0       .   \n",
       "\n",
       "                    author                                product  \n",
       "47004   DAVI DA SILVA LIMA                   Apple iPhone 6S 16GB  \n",
       "58721  aminatdin@gmail.com  Apple iPhone SE 16GB (розовое золото)  \n",
       "60478  aminatdin@gmail.com    Apple iPhone SE 16GB (серый космос)  \n",
       "82730                e-bit    Samsung Galaxy S6 Edge SM-G925 32GB  \n",
       "83421           ernestogue      Samsung Galaxy S6 Edge G925F 64GB  "
      ]
     },
     "execution_count": 14,
     "metadata": {},
     "output_type": "execute_result"
    }
   ],
   "source": [
    "# review the unexpected values in extract column\n",
    "ratings.loc[ratings['extract'].isin([\"-\",\"?\",\".\",\"NA\",\"N/A\",\"Unknown\"])].head()"
   ]
  },
  {
   "cell_type": "code",
   "execution_count": 15,
   "id": "78e234fc",
   "metadata": {
    "scrolled": true
   },
   "outputs": [
    {
     "data": {
      "text/html": [
       "<div>\n",
       "<style scoped>\n",
       "    .dataframe tbody tr th:only-of-type {\n",
       "        vertical-align: middle;\n",
       "    }\n",
       "\n",
       "    .dataframe tbody tr th {\n",
       "        vertical-align: top;\n",
       "    }\n",
       "\n",
       "    .dataframe thead th {\n",
       "        text-align: right;\n",
       "    }\n",
       "</style>\n",
       "<table border=\"1\" class=\"dataframe\">\n",
       "  <thead>\n",
       "    <tr style=\"text-align: right;\">\n",
       "      <th></th>\n",
       "      <th>phone_url</th>\n",
       "      <th>date</th>\n",
       "      <th>lang</th>\n",
       "      <th>country</th>\n",
       "      <th>source</th>\n",
       "      <th>domain</th>\n",
       "      <th>score</th>\n",
       "      <th>score_max</th>\n",
       "      <th>extract</th>\n",
       "      <th>author</th>\n",
       "      <th>product</th>\n",
       "    </tr>\n",
       "  </thead>\n",
       "  <tbody>\n",
       "    <tr>\n",
       "      <th>5252</th>\n",
       "      <td>/cellphones/samsung-galaxy-s6-edgeplus/</td>\n",
       "      <td>9/15/2015</td>\n",
       "      <td>fr</td>\n",
       "      <td>fr</td>\n",
       "      <td>Amazon</td>\n",
       "      <td>amazon.fr</td>\n",
       "      <td>6.0</td>\n",
       "      <td>10.0</td>\n",
       "      <td>Qu’écrire de plus que ce qui a déjà été écrit ...</td>\n",
       "      <td>.</td>\n",
       "      <td>Samsung Galaxy S6 Edge Plus Smartphone débloqu...</td>\n",
       "    </tr>\n",
       "    <tr>\n",
       "      <th>15277</th>\n",
       "      <td>/cellphones/samsung-galaxy-s7-edge/</td>\n",
       "      <td>3/1/2017</td>\n",
       "      <td>de</td>\n",
       "      <td>de</td>\n",
       "      <td>Amazon</td>\n",
       "      <td>amazon.de</td>\n",
       "      <td>6.0</td>\n",
       "      <td>10.0</td>\n",
       "      <td>Schön vepackt und auf dem Papier alles, was ma...</td>\n",
       "      <td>.</td>\n",
       "      <td>Samsung Galaxy S7 EDGE Smartphone (5,5 Zoll (1...</td>\n",
       "    </tr>\n",
       "    <tr>\n",
       "      <th>32768</th>\n",
       "      <td>/cellphones/samsung-galaxy-s7-789999/</td>\n",
       "      <td>4/25/2017</td>\n",
       "      <td>nl</td>\n",
       "      <td>be</td>\n",
       "      <td>KIESKEURIG</td>\n",
       "      <td>kieskeurig.be</td>\n",
       "      <td>8.0</td>\n",
       "      <td>10.0</td>\n",
       "      <td>erg mooi en goed toestel, eerst alles goed uit...</td>\n",
       "      <td>.</td>\n",
       "      <td>Samsung Galaxy S7 zwart / 32 GB</td>\n",
       "    </tr>\n",
       "    <tr>\n",
       "      <th>32769</th>\n",
       "      <td>/cellphones/samsung-galaxy-s7-789999/</td>\n",
       "      <td>4/25/2017</td>\n",
       "      <td>nl</td>\n",
       "      <td>nl</td>\n",
       "      <td>KIESKEURIG</td>\n",
       "      <td>kieskeurig.nl</td>\n",
       "      <td>8.0</td>\n",
       "      <td>10.0</td>\n",
       "      <td>erg mooi en goed toestel, eerst alles goed uit...</td>\n",
       "      <td>.</td>\n",
       "      <td>Samsung Galaxy S7 goud, roze / 32 GB</td>\n",
       "    </tr>\n",
       "    <tr>\n",
       "      <th>51238</th>\n",
       "      <td>/cellphones/apple-iphone-7/</td>\n",
       "      <td>11/12/2016</td>\n",
       "      <td>en</td>\n",
       "      <td>gb</td>\n",
       "      <td>Very</td>\n",
       "      <td>very.co.uk</td>\n",
       "      <td>10.0</td>\n",
       "      <td>10.0</td>\n",
       "      <td>Amazing !! I like this very much !! Ease to us...</td>\n",
       "      <td>Unknown</td>\n",
       "      <td>Apple iPhone 7, 32Gb - Rose Gold</td>\n",
       "    </tr>\n",
       "  </tbody>\n",
       "</table>\n",
       "</div>"
      ],
      "text/plain": [
       "                                     phone_url        date lang country  \\\n",
       "5252   /cellphones/samsung-galaxy-s6-edgeplus/   9/15/2015   fr      fr   \n",
       "15277      /cellphones/samsung-galaxy-s7-edge/    3/1/2017   de      de   \n",
       "32768    /cellphones/samsung-galaxy-s7-789999/   4/25/2017   nl      be   \n",
       "32769    /cellphones/samsung-galaxy-s7-789999/   4/25/2017   nl      nl   \n",
       "51238              /cellphones/apple-iphone-7/  11/12/2016   en      gb   \n",
       "\n",
       "           source         domain  score  score_max  \\\n",
       "5252       Amazon      amazon.fr    6.0       10.0   \n",
       "15277      Amazon      amazon.de    6.0       10.0   \n",
       "32768  KIESKEURIG  kieskeurig.be    8.0       10.0   \n",
       "32769  KIESKEURIG  kieskeurig.nl    8.0       10.0   \n",
       "51238        Very     very.co.uk   10.0       10.0   \n",
       "\n",
       "                                                 extract   author  \\\n",
       "5252   Qu’écrire de plus que ce qui a déjà été écrit ...        .   \n",
       "15277  Schön vepackt und auf dem Papier alles, was ma...        .   \n",
       "32768  erg mooi en goed toestel, eerst alles goed uit...        .   \n",
       "32769  erg mooi en goed toestel, eerst alles goed uit...        .   \n",
       "51238  Amazing !! I like this very much !! Ease to us...  Unknown   \n",
       "\n",
       "                                                 product  \n",
       "5252   Samsung Galaxy S6 Edge Plus Smartphone débloqu...  \n",
       "15277  Samsung Galaxy S7 EDGE Smartphone (5,5 Zoll (1...  \n",
       "32768                    Samsung Galaxy S7 zwart / 32 GB  \n",
       "32769               Samsung Galaxy S7 goud, roze / 32 GB  \n",
       "51238                   Apple iPhone 7, 32Gb - Rose Gold  "
      ]
     },
     "execution_count": 15,
     "metadata": {},
     "output_type": "execute_result"
    }
   ],
   "source": [
    "# review the unexpected values in author column\n",
    "ratings.loc[ratings['author'].isin([\"-\",\"?\",\".\",\"NA\",\"N/A\",\"Unknown\"])].head()"
   ]
  },
  {
   "cell_type": "markdown",
   "id": "ceba1c62",
   "metadata": {},
   "source": [
    "Also lets delete the utf8 encoding error characters (given by ?) and any other non alpha numeric characters which gives us no meaning<br>\n",
    "and change the resultant empty author names and extracts to NAN for further imputing"
   ]
  },
  {
   "cell_type": "code",
   "execution_count": 16,
   "id": "f0a5c3a4",
   "metadata": {},
   "outputs": [],
   "source": [
    "# generate a list of special characters EXCEPT whitespace\n",
    "splchr=[chr(i) for i in range(0,32)] # upto before whitespace ascii 32\n",
    "splchr.extend([chr(i) for i in range(33,48)]) # upto before 0 ascii 48\n",
    "splchr.extend([chr(i) for i in range(58,65)]) # upto before A ascii 65\n",
    "splchr.extend([chr(i) for i in range(91,97)]) # upto before a ascii 97\n",
    "splchr.extend([chr(i) for i in range(123,192)]) # rest\n",
    "splchr.extend([chr(215),chr(247)]) # additional\n",
    "splchr=''.join(splchr) # create a word of splchr"
   ]
  },
  {
   "cell_type": "code",
   "execution_count": 17,
   "id": "a8db6ba7",
   "metadata": {},
   "outputs": [],
   "source": [
    "# delete non alphanumeric characters\n",
    "ratings[\"author\"]=ratings[\"author\"].apply(lambda x: re.sub(r'[%s]'%splchr,'',str(x)).strip())\n",
    "ratings[\"extract\"]=ratings[\"extract\"].apply(lambda x: re.sub(r'[%s]'%splchr,'',str(x)).strip())\n",
    "ratings[\"product\"]=ratings[\"product\"].apply(lambda x: re.sub(r'[%s]'%splchr,'',str(x)).strip())"
   ]
  },
  {
   "cell_type": "markdown",
   "id": "457b05a0",
   "metadata": {},
   "source": [
    "lets impute the missing & unxepected values in author and extract columns with meaningful replacements"
   ]
  },
  {
   "cell_type": "code",
   "execution_count": 18,
   "id": "fea89152",
   "metadata": {},
   "outputs": [],
   "source": [
    "ratings.loc[ratings['author'].isin([\"-\",\".\",\"NA\",\"N/A\",\"nan\",\"Unknown\",\"unknown\",\"UNKNOWN\"]),\"author\"]=\"ANONYMOUS\"\n",
    "ratings.loc[ratings['author'].isna(),\"author\"]=\"ANONYMOUS\"\n",
    "ratings.loc[ratings['author'].isin([\"\",\" \"]),\"author\"]=\"ANONYMOUS\""
   ]
  },
  {
   "cell_type": "code",
   "execution_count": 19,
   "id": "5b980c1b",
   "metadata": {},
   "outputs": [],
   "source": [
    "ratings.loc[ratings['extract'].isin([\"-\",\".\",\"NA\",\"N/A\",\"nan\",\"Unknown\",\"unknown\",\"UNKNOWN\"]),\"extract\"]=\"no_comments\"\n",
    "ratings.loc[ratings['extract'].isna(),\"extract\"]=\"no_comments\"\n",
    "ratings.loc[ratings['extract'].isin([\"\",\" \"]),\"extract\"]=\"no_comments\""
   ]
  },
  {
   "cell_type": "code",
   "execution_count": 20,
   "id": "2871ddbc",
   "metadata": {},
   "outputs": [],
   "source": [
    "ratings.loc[ratings['product'].isin([\"-\",\".\",\"NA\",\"N/A\",\"nan\",\"Unknown\",\"unknown\",\"UNKNOWN\"]),\"product\"]=\"no_description\"\n",
    "ratings.loc[ratings['product'].isna(),\"product\"]=\"no_description\"\n",
    "ratings.loc[ratings['product'].isin([\"\",\" \"]),\"product\"]=\"no_description\""
   ]
  },
  {
   "cell_type": "code",
   "execution_count": 21,
   "id": "08b2fe1f",
   "metadata": {
    "scrolled": true
   },
   "outputs": [
    {
     "data": {
      "text/html": [
       "<div>\n",
       "<style scoped>\n",
       "    .dataframe tbody tr th:only-of-type {\n",
       "        vertical-align: middle;\n",
       "    }\n",
       "\n",
       "    .dataframe tbody tr th {\n",
       "        vertical-align: top;\n",
       "    }\n",
       "\n",
       "    .dataframe thead th {\n",
       "        text-align: right;\n",
       "    }\n",
       "</style>\n",
       "<table border=\"1\" class=\"dataframe\">\n",
       "  <thead>\n",
       "    <tr style=\"text-align: right;\">\n",
       "      <th></th>\n",
       "      <th>phone_url</th>\n",
       "      <th>date</th>\n",
       "      <th>lang</th>\n",
       "      <th>country</th>\n",
       "      <th>source</th>\n",
       "      <th>domain</th>\n",
       "      <th>score</th>\n",
       "      <th>score_max</th>\n",
       "      <th>extract</th>\n",
       "      <th>author</th>\n",
       "      <th>product</th>\n",
       "    </tr>\n",
       "  </thead>\n",
       "  <tbody>\n",
       "    <tr>\n",
       "      <th>802795</th>\n",
       "      <td>/cellphones/samsung-galaxy-s-iii/</td>\n",
       "      <td>1/22/2014</td>\n",
       "      <td>de</td>\n",
       "      <td>de</td>\n",
       "      <td>Amazon</td>\n",
       "      <td>amazon.de</td>\n",
       "      <td>10.0</td>\n",
       "      <td>10.0</td>\n",
       "      <td>Bestes Smartphone was ich bisher hatte  öafkdö...</td>\n",
       "      <td>ANONYMOUS</td>\n",
       "      <td>no_description</td>\n",
       "    </tr>\n",
       "  </tbody>\n",
       "</table>\n",
       "</div>"
      ],
      "text/plain": [
       "                                phone_url       date lang country  source  \\\n",
       "802795  /cellphones/samsung-galaxy-s-iii/  1/22/2014   de      de  Amazon   \n",
       "\n",
       "           domain  score  score_max  \\\n",
       "802795  amazon.de   10.0       10.0   \n",
       "\n",
       "                                                  extract     author  \\\n",
       "802795  Bestes Smartphone was ich bisher hatte  öafkdö...  ANONYMOUS   \n",
       "\n",
       "               product  \n",
       "802795  no_description  "
      ]
     },
     "execution_count": 21,
     "metadata": {},
     "output_type": "execute_result"
    }
   ],
   "source": [
    "# review the imputed no_description values in product\n",
    "ratings.loc[ratings[\"product\"]==\"no_description\"]"
   ]
  },
  {
   "cell_type": "markdown",
   "id": "2f3e384d",
   "metadata": {},
   "source": [
    "lets impute the phone model from phone_url"
   ]
  },
  {
   "cell_type": "code",
   "execution_count": 22,
   "id": "c97164e4",
   "metadata": {},
   "outputs": [
    {
     "data": {
      "text/html": [
       "<div>\n",
       "<style scoped>\n",
       "    .dataframe tbody tr th:only-of-type {\n",
       "        vertical-align: middle;\n",
       "    }\n",
       "\n",
       "    .dataframe tbody tr th {\n",
       "        vertical-align: top;\n",
       "    }\n",
       "\n",
       "    .dataframe thead th {\n",
       "        text-align: right;\n",
       "    }\n",
       "</style>\n",
       "<table border=\"1\" class=\"dataframe\">\n",
       "  <thead>\n",
       "    <tr style=\"text-align: right;\">\n",
       "      <th></th>\n",
       "      <th>phone_url</th>\n",
       "      <th>date</th>\n",
       "      <th>lang</th>\n",
       "      <th>country</th>\n",
       "      <th>source</th>\n",
       "      <th>domain</th>\n",
       "      <th>score</th>\n",
       "      <th>score_max</th>\n",
       "      <th>extract</th>\n",
       "      <th>author</th>\n",
       "      <th>product</th>\n",
       "    </tr>\n",
       "  </thead>\n",
       "  <tbody>\n",
       "    <tr>\n",
       "      <th>802795</th>\n",
       "      <td>/cellphones/samsung-galaxy-s-iii/</td>\n",
       "      <td>1/22/2014</td>\n",
       "      <td>de</td>\n",
       "      <td>de</td>\n",
       "      <td>Amazon</td>\n",
       "      <td>amazon.de</td>\n",
       "      <td>10.0</td>\n",
       "      <td>10.0</td>\n",
       "      <td>Bestes Smartphone was ich bisher hatte  öafkdö...</td>\n",
       "      <td>ANONYMOUS</td>\n",
       "      <td>samsung-galaxy-s-iii</td>\n",
       "    </tr>\n",
       "  </tbody>\n",
       "</table>\n",
       "</div>"
      ],
      "text/plain": [
       "                                phone_url       date lang country  source  \\\n",
       "802795  /cellphones/samsung-galaxy-s-iii/  1/22/2014   de      de  Amazon   \n",
       "\n",
       "           domain  score  score_max  \\\n",
       "802795  amazon.de   10.0       10.0   \n",
       "\n",
       "                                                  extract     author  \\\n",
       "802795  Bestes Smartphone was ich bisher hatte  öafkdö...  ANONYMOUS   \n",
       "\n",
       "                     product  \n",
       "802795  samsung-galaxy-s-iii  "
      ]
     },
     "execution_count": 22,
     "metadata": {},
     "output_type": "execute_result"
    }
   ],
   "source": [
    "key=ratings.loc[ratings[\"product\"]==\"no_description\"].index\n",
    "replacement=ratings.values[key,0][0].strip().split('/')[-2]\n",
    "ratings.loc[ratings[\"product\"]==\"no_description\",\"product\"]=replacement\n",
    "ratings.iloc[key]"
   ]
  },
  {
   "cell_type": "code",
   "execution_count": 23,
   "id": "93e53fe0",
   "metadata": {
    "scrolled": false
   },
   "outputs": [
    {
     "data": {
      "text/html": [
       "<div>\n",
       "<style scoped>\n",
       "    .dataframe tbody tr th:only-of-type {\n",
       "        vertical-align: middle;\n",
       "    }\n",
       "\n",
       "    .dataframe tbody tr th {\n",
       "        vertical-align: top;\n",
       "    }\n",
       "\n",
       "    .dataframe thead th {\n",
       "        text-align: right;\n",
       "    }\n",
       "</style>\n",
       "<table border=\"1\" class=\"dataframe\">\n",
       "  <thead>\n",
       "    <tr style=\"text-align: right;\">\n",
       "      <th></th>\n",
       "      <th>NULL</th>\n",
       "      <th>NULL %</th>\n",
       "      <th>NAN</th>\n",
       "      <th>NAN %</th>\n",
       "      <th>BLANKS</th>\n",
       "      <th>BLANKS %</th>\n",
       "      <th>UNEXP</th>\n",
       "      <th>UNEXP %</th>\n",
       "    </tr>\n",
       "  </thead>\n",
       "  <tbody>\n",
       "    <tr>\n",
       "      <th>score</th>\n",
       "      <td>63489</td>\n",
       "      <td>4.49</td>\n",
       "      <td>63489</td>\n",
       "      <td>4.49</td>\n",
       "      <td>0</td>\n",
       "      <td>0.0</td>\n",
       "      <td>0</td>\n",
       "      <td>0.0</td>\n",
       "    </tr>\n",
       "    <tr>\n",
       "      <th>score_max</th>\n",
       "      <td>63489</td>\n",
       "      <td>4.49</td>\n",
       "      <td>63489</td>\n",
       "      <td>4.49</td>\n",
       "      <td>0</td>\n",
       "      <td>0.0</td>\n",
       "      <td>0</td>\n",
       "      <td>0.0</td>\n",
       "    </tr>\n",
       "  </tbody>\n",
       "</table>\n",
       "</div>"
      ],
      "text/plain": [
       "            NULL  NULL %    NAN  NAN %  BLANKS  BLANKS %  UNEXP  UNEXP %\n",
       "score      63489    4.49  63489   4.49       0       0.0      0      0.0\n",
       "score_max  63489    4.49  63489   4.49       0       0.0      0      0.0"
      ]
     },
     "execution_count": 23,
     "metadata": {},
     "output_type": "execute_result"
    }
   ],
   "source": [
    "# review the missing values\n",
    "nulsCount(ratings)"
   ]
  },
  {
   "cell_type": "markdown",
   "id": "7ca96064",
   "metadata": {},
   "source": [
    "lets impute the score & score_max columns subjectively using product information"
   ]
  },
  {
   "cell_type": "code",
   "execution_count": 24,
   "id": "6541b7c8",
   "metadata": {},
   "outputs": [
    {
     "name": "stdout",
     "output_type": "stream",
     "text": [
      "Samsung S5830 Galaxy Ace Black\n",
      "LG U880\n",
      "Lenovo Vibe K4 Note White16GB\n",
      "Asus ZenFone 6 Smartphone Storage 16 GB Nero Italia\n",
      "Nokia E52\n",
      "Apple iPhone 5s Silver 16GB\n",
      "Nokia 113 SIM Free Mobile Phone  Black discontinued by manufacturer\n",
      "Microsoft Lumia 950 DualSIM Smartphone 52 Zoll 132 cm TouchDisplay 32 GB Speicher Windows 10 schwarz\n",
      "Lenovo S60 Grey Dual SIM\n",
      "LG G2  VS980  32GB Android Smartphone  Verizon  GSM  White Certified Refurbished\n"
     ]
    }
   ],
   "source": [
    "for samp in ratings[\"product\"].sample(10):\n",
    "    print(samp)"
   ]
  },
  {
   "cell_type": "markdown",
   "id": "fffd316c",
   "metadata": {},
   "source": [
    "the product columns consists of detiled description about the product<br>\n",
    "hence lets extract phone name from phone_url columns"
   ]
  },
  {
   "cell_type": "code",
   "execution_count": 25,
   "id": "a1d69692",
   "metadata": {
    "scrolled": false
   },
   "outputs": [
    {
     "data": {
      "text/html": [
       "<div>\n",
       "<style scoped>\n",
       "    .dataframe tbody tr th:only-of-type {\n",
       "        vertical-align: middle;\n",
       "    }\n",
       "\n",
       "    .dataframe tbody tr th {\n",
       "        vertical-align: top;\n",
       "    }\n",
       "\n",
       "    .dataframe thead th {\n",
       "        text-align: right;\n",
       "    }\n",
       "</style>\n",
       "<table border=\"1\" class=\"dataframe\">\n",
       "  <thead>\n",
       "    <tr style=\"text-align: right;\">\n",
       "      <th></th>\n",
       "      <th>phone_url</th>\n",
       "      <th>date</th>\n",
       "      <th>lang</th>\n",
       "      <th>country</th>\n",
       "      <th>source</th>\n",
       "      <th>domain</th>\n",
       "      <th>score</th>\n",
       "      <th>score_max</th>\n",
       "      <th>extract</th>\n",
       "      <th>author</th>\n",
       "      <th>product</th>\n",
       "      <th>phone</th>\n",
       "    </tr>\n",
       "  </thead>\n",
       "  <tbody>\n",
       "    <tr>\n",
       "      <th>0</th>\n",
       "      <td>/cellphones/samsung-galaxy-s8/</td>\n",
       "      <td>5/2/2017</td>\n",
       "      <td>en</td>\n",
       "      <td>us</td>\n",
       "      <td>Verizon Wireless</td>\n",
       "      <td>verizonwireless.com</td>\n",
       "      <td>10.0</td>\n",
       "      <td>10.0</td>\n",
       "      <td>As a diehard Samsung fan who has had every Sam...</td>\n",
       "      <td>CarolAnn35</td>\n",
       "      <td>Samsung Galaxy S8</td>\n",
       "      <td>samsung-galaxy-s8</td>\n",
       "    </tr>\n",
       "    <tr>\n",
       "      <th>1</th>\n",
       "      <td>/cellphones/samsung-galaxy-s8/</td>\n",
       "      <td>4/28/2017</td>\n",
       "      <td>en</td>\n",
       "      <td>us</td>\n",
       "      <td>Phone Arena</td>\n",
       "      <td>phonearena.com</td>\n",
       "      <td>10.0</td>\n",
       "      <td>10.0</td>\n",
       "      <td>Love the phone the phone is sleek and smooth a...</td>\n",
       "      <td>james0923</td>\n",
       "      <td>Samsung Galaxy S8</td>\n",
       "      <td>samsung-galaxy-s8</td>\n",
       "    </tr>\n",
       "    <tr>\n",
       "      <th>2</th>\n",
       "      <td>/cellphones/samsung-galaxy-s8/</td>\n",
       "      <td>5/4/2017</td>\n",
       "      <td>en</td>\n",
       "      <td>us</td>\n",
       "      <td>Amazon</td>\n",
       "      <td>amazon.com</td>\n",
       "      <td>6.0</td>\n",
       "      <td>10.0</td>\n",
       "      <td>Adequate feel Nice heft Processors still slugg...</td>\n",
       "      <td>R Craig</td>\n",
       "      <td>Samsung Galaxy S8 64GB G950U 58 4G LTE Unlocke...</td>\n",
       "      <td>samsung-galaxy-s8</td>\n",
       "    </tr>\n",
       "    <tr>\n",
       "      <th>3</th>\n",
       "      <td>/cellphones/samsung-galaxy-s8/</td>\n",
       "      <td>5/2/2017</td>\n",
       "      <td>en</td>\n",
       "      <td>us</td>\n",
       "      <td>Samsung</td>\n",
       "      <td>samsung.com</td>\n",
       "      <td>9.0</td>\n",
       "      <td>10.0</td>\n",
       "      <td>Never disappointed One of the reasons Ive been...</td>\n",
       "      <td>Buster2020</td>\n",
       "      <td>Samsung Galaxy S8 64GB ATT</td>\n",
       "      <td>samsung-galaxy-s8</td>\n",
       "    </tr>\n",
       "    <tr>\n",
       "      <th>4</th>\n",
       "      <td>/cellphones/samsung-galaxy-s8/</td>\n",
       "      <td>5/11/2017</td>\n",
       "      <td>en</td>\n",
       "      <td>us</td>\n",
       "      <td>Verizon Wireless</td>\n",
       "      <td>verizonwireless.com</td>\n",
       "      <td>4.0</td>\n",
       "      <td>10.0</td>\n",
       "      <td>Ive now found that im in a group of people tha...</td>\n",
       "      <td>S Ate Mine</td>\n",
       "      <td>Samsung Galaxy S8</td>\n",
       "      <td>samsung-galaxy-s8</td>\n",
       "    </tr>\n",
       "  </tbody>\n",
       "</table>\n",
       "</div>"
      ],
      "text/plain": [
       "                        phone_url       date lang country            source  \\\n",
       "0  /cellphones/samsung-galaxy-s8/   5/2/2017   en      us  Verizon Wireless   \n",
       "1  /cellphones/samsung-galaxy-s8/  4/28/2017   en      us       Phone Arena   \n",
       "2  /cellphones/samsung-galaxy-s8/   5/4/2017   en      us            Amazon   \n",
       "3  /cellphones/samsung-galaxy-s8/   5/2/2017   en      us           Samsung   \n",
       "4  /cellphones/samsung-galaxy-s8/  5/11/2017   en      us  Verizon Wireless   \n",
       "\n",
       "                domain  score  score_max  \\\n",
       "0  verizonwireless.com   10.0       10.0   \n",
       "1       phonearena.com   10.0       10.0   \n",
       "2           amazon.com    6.0       10.0   \n",
       "3          samsung.com    9.0       10.0   \n",
       "4  verizonwireless.com    4.0       10.0   \n",
       "\n",
       "                                             extract      author  \\\n",
       "0  As a diehard Samsung fan who has had every Sam...  CarolAnn35   \n",
       "1  Love the phone the phone is sleek and smooth a...   james0923   \n",
       "2  Adequate feel Nice heft Processors still slugg...     R Craig   \n",
       "3  Never disappointed One of the reasons Ive been...  Buster2020   \n",
       "4  Ive now found that im in a group of people tha...  S Ate Mine   \n",
       "\n",
       "                                             product              phone  \n",
       "0                                  Samsung Galaxy S8  samsung-galaxy-s8  \n",
       "1                                  Samsung Galaxy S8  samsung-galaxy-s8  \n",
       "2  Samsung Galaxy S8 64GB G950U 58 4G LTE Unlocke...  samsung-galaxy-s8  \n",
       "3                         Samsung Galaxy S8 64GB ATT  samsung-galaxy-s8  \n",
       "4                                  Samsung Galaxy S8  samsung-galaxy-s8  "
      ]
     },
     "execution_count": 25,
     "metadata": {},
     "output_type": "execute_result"
    }
   ],
   "source": [
    "# extract phone name\n",
    "ratings[\"phone\"]=ratings.phone_url.apply(lambda x: x.strip().split('/')[-2])\n",
    "ratings.head()"
   ]
  },
  {
   "cell_type": "code",
   "execution_count": 26,
   "id": "02a748c2",
   "metadata": {},
   "outputs": [],
   "source": [
    "# before scores & score_max based on phone models, lets review the numeric records in text fields\n",
    "# lets collect the records with only numbers in product field (due to non alphanumeral deletion)\n",
    "ratings[\"prod_flag\"]=ratings[\"product\"].apply(lambda x: re.sub(' ','',x).isdecimal())\n",
    "# Lets impute those with phone name\n",
    "ratings.loc[ratings[\"prod_flag\"],\"product\"]=ratings.loc[ratings[\"prod_flag\"],\"phone\"]"
   ]
  },
  {
   "cell_type": "code",
   "execution_count": 27,
   "id": "28acdb66",
   "metadata": {},
   "outputs": [],
   "source": [
    "# lets review the records with only numbers in author field (due to non alphanumeral deletion)\n",
    "ratings[\"auth_flag\"]=ratings[\"author\"].apply(lambda x: re.sub(' ','',x).isdecimal())\n",
    "# lets impute those author names\n",
    "ratings.loc[ratings[\"auth_flag\"],\"author\"]=\"ANONYMOUS\""
   ]
  },
  {
   "cell_type": "code",
   "execution_count": 28,
   "id": "de3b48d5",
   "metadata": {},
   "outputs": [],
   "source": [
    "# lets review the records with only numbers in extract field (due to non alphanumeral deletion)\n",
    "ratings[\"ext_flag\"]=ratings[\"extract\"].apply(lambda x: re.sub(' ','',x).isdecimal())\n",
    "# lets impute those reviews\n",
    "ratings.loc[ratings[\"ext_flag\"],\"extract\"]=\"no_comments\""
   ]
  },
  {
   "cell_type": "code",
   "execution_count": 29,
   "id": "1a628430",
   "metadata": {},
   "outputs": [],
   "source": [
    "def modelwise_imputer(ratings_phone):\n",
    "    phones=[]\n",
    "    ratings_phone['score'].fillna(ratings_phone['score'].mean(),inplace=True)\n",
    "    ratings_phone['score_max'].fillna(ratings_phone['score'].max(),inplace=True)\n",
    "    phones.append(ratings_phone)\n",
    "    return pd.concat(phones)"
   ]
  },
  {
   "cell_type": "code",
   "execution_count": 30,
   "id": "5860d02f",
   "metadata": {},
   "outputs": [
    {
     "name": "stdout",
     "output_type": "stream",
     "text": [
      "Total 5556 tasks planned using Parallel jobs\n"
     ]
    },
    {
     "name": "stderr",
     "output_type": "stream",
     "text": [
      "[Parallel(n_jobs=-1)]: Using backend LokyBackend with 8 concurrent workers.\n",
      "[Parallel(n_jobs=-1)]: Done  39 tasks      | elapsed:    3.8s\n",
      "[Parallel(n_jobs=-1)]: Done 189 tasks      | elapsed:   12.6s\n",
      "[Parallel(n_jobs=-1)]: Done 439 tasks      | elapsed:   27.1s\n",
      "[Parallel(n_jobs=-1)]: Done 789 tasks      | elapsed:   47.0s\n",
      "[Parallel(n_jobs=-1)]: Done 1239 tasks      | elapsed:  1.2min\n",
      "[Parallel(n_jobs=-1)]: Done 1789 tasks      | elapsed:  1.7min\n",
      "[Parallel(n_jobs=-1)]: Done 2439 tasks      | elapsed:  2.3min\n",
      "[Parallel(n_jobs=-1)]: Done 3189 tasks      | elapsed:  3.1min\n",
      "[Parallel(n_jobs=-1)]: Done 4039 tasks      | elapsed:  3.9min\n",
      "[Parallel(n_jobs=-1)]: Done 4989 tasks      | elapsed:  4.8min\n",
      "[Parallel(n_jobs=-1)]: Done 5556 out of 5556 | elapsed:  5.3min finished\n"
     ]
    }
   ],
   "source": [
    "# impute model wise details\n",
    "phones=[]\n",
    "imputed_ratings=pd.DataFrame()\n",
    "phonelist=list(sorted(set(ratings[\"phone\"])))\n",
    "print(\"Total %d tasks planned using Parallel jobs\"%len(phonelist))\n",
    "imputed_ratings=Parallel(n_jobs=-1,pre_dispatch='1.5*n_jobs',verbose=1\n",
    "                        )(delayed(modelwise_imputer\n",
    "                                 )(ratings[ratings[\"phone\"]==phone].copy()\n",
    "                                  ) for phone in phonelist)"
   ]
  },
  {
   "cell_type": "code",
   "execution_count": 31,
   "id": "4ec5254c",
   "metadata": {},
   "outputs": [],
   "source": [
    "# concat the parallel output results\n",
    "ratings_imputed=pd.concat(imputed_ratings)"
   ]
  },
  {
   "cell_type": "code",
   "execution_count": 32,
   "id": "f4297e81",
   "metadata": {},
   "outputs": [
    {
     "data": {
      "text/plain": [
       "(1415133, 15)"
      ]
     },
     "execution_count": 32,
     "metadata": {},
     "output_type": "execute_result"
    }
   ],
   "source": [
    "# review the final result shape\n",
    "ratings_imputed.shape"
   ]
  },
  {
   "cell_type": "code",
   "execution_count": 33,
   "id": "a015078d",
   "metadata": {},
   "outputs": [
    {
     "data": {
      "text/html": [
       "<div>\n",
       "<style scoped>\n",
       "    .dataframe tbody tr th:only-of-type {\n",
       "        vertical-align: middle;\n",
       "    }\n",
       "\n",
       "    .dataframe tbody tr th {\n",
       "        vertical-align: top;\n",
       "    }\n",
       "\n",
       "    .dataframe thead th {\n",
       "        text-align: right;\n",
       "    }\n",
       "</style>\n",
       "<table border=\"1\" class=\"dataframe\">\n",
       "  <thead>\n",
       "    <tr style=\"text-align: right;\">\n",
       "      <th></th>\n",
       "      <th>NULL</th>\n",
       "      <th>NULL %</th>\n",
       "      <th>NAN</th>\n",
       "      <th>NAN %</th>\n",
       "      <th>BLANKS</th>\n",
       "      <th>BLANKS %</th>\n",
       "      <th>UNEXP</th>\n",
       "      <th>UNEXP %</th>\n",
       "    </tr>\n",
       "  </thead>\n",
       "  <tbody>\n",
       "    <tr>\n",
       "      <th>score</th>\n",
       "      <td>57</td>\n",
       "      <td>0.0</td>\n",
       "      <td>57</td>\n",
       "      <td>0.0</td>\n",
       "      <td>0</td>\n",
       "      <td>0.0</td>\n",
       "      <td>0</td>\n",
       "      <td>0.0</td>\n",
       "    </tr>\n",
       "    <tr>\n",
       "      <th>score_max</th>\n",
       "      <td>57</td>\n",
       "      <td>0.0</td>\n",
       "      <td>57</td>\n",
       "      <td>0.0</td>\n",
       "      <td>0</td>\n",
       "      <td>0.0</td>\n",
       "      <td>0</td>\n",
       "      <td>0.0</td>\n",
       "    </tr>\n",
       "  </tbody>\n",
       "</table>\n",
       "</div>"
      ],
      "text/plain": [
       "           NULL  NULL %  NAN  NAN %  BLANKS  BLANKS %  UNEXP  UNEXP %\n",
       "score        57     0.0   57    0.0       0       0.0      0      0.0\n",
       "score_max    57     0.0   57    0.0       0       0.0      0      0.0"
      ]
     },
     "execution_count": 33,
     "metadata": {},
     "output_type": "execute_result"
    }
   ],
   "source": [
    "# review the missing values\n",
    "nulsCount(ratings_imputed)"
   ]
  },
  {
   "cell_type": "markdown",
   "id": "8d8b68bb",
   "metadata": {},
   "source": [
    "these 57 missing values occur due to no reference values for mean and max functions since all records of those phones have missing scores<br>\n",
    "lets review a sample of it"
   ]
  },
  {
   "cell_type": "code",
   "execution_count": 34,
   "id": "f98a92a9",
   "metadata": {},
   "outputs": [
    {
     "data": {
      "text/html": [
       "<div>\n",
       "<style scoped>\n",
       "    .dataframe tbody tr th:only-of-type {\n",
       "        vertical-align: middle;\n",
       "    }\n",
       "\n",
       "    .dataframe tbody tr th {\n",
       "        vertical-align: top;\n",
       "    }\n",
       "\n",
       "    .dataframe thead th {\n",
       "        text-align: right;\n",
       "    }\n",
       "</style>\n",
       "<table border=\"1\" class=\"dataframe\">\n",
       "  <thead>\n",
       "    <tr style=\"text-align: right;\">\n",
       "      <th></th>\n",
       "      <th>phone_url</th>\n",
       "      <th>date</th>\n",
       "      <th>lang</th>\n",
       "      <th>country</th>\n",
       "      <th>source</th>\n",
       "      <th>domain</th>\n",
       "      <th>score</th>\n",
       "      <th>score_max</th>\n",
       "      <th>extract</th>\n",
       "      <th>author</th>\n",
       "      <th>product</th>\n",
       "      <th>phone</th>\n",
       "      <th>prod_flag</th>\n",
       "      <th>auth_flag</th>\n",
       "      <th>ext_flag</th>\n",
       "    </tr>\n",
       "  </thead>\n",
       "  <tbody>\n",
       "    <tr>\n",
       "      <th>1043022</th>\n",
       "      <td>/cellphones/lg-dlite/</td>\n",
       "      <td>6/13/2011</td>\n",
       "      <td>en</td>\n",
       "      <td>us</td>\n",
       "      <td>HandCellPhone</td>\n",
       "      <td>handcellphone.com</td>\n",
       "      <td>NaN</td>\n",
       "      <td>NaN</td>\n",
       "      <td>I like my new phone but can not figure out how...</td>\n",
       "      <td>suzette</td>\n",
       "      <td>LG dLIte</td>\n",
       "      <td>lg-dlite</td>\n",
       "      <td>False</td>\n",
       "      <td>False</td>\n",
       "      <td>False</td>\n",
       "    </tr>\n",
       "  </tbody>\n",
       "</table>\n",
       "</div>"
      ],
      "text/plain": [
       "                     phone_url       date lang country         source  \\\n",
       "1043022  /cellphones/lg-dlite/  6/13/2011   en      us  HandCellPhone   \n",
       "\n",
       "                    domain  score  score_max  \\\n",
       "1043022  handcellphone.com    NaN        NaN   \n",
       "\n",
       "                                                   extract   author   product  \\\n",
       "1043022  I like my new phone but can not figure out how...  suzette  LG dLIte   \n",
       "\n",
       "            phone  prod_flag  auth_flag  ext_flag  \n",
       "1043022  lg-dlite      False      False     False  "
      ]
     },
     "execution_count": 34,
     "metadata": {},
     "output_type": "execute_result"
    }
   ],
   "source": [
    "pick=ratings_imputed.loc[ratings_imputed[\"score\"].isna(),\"phone\"].sample(1)\n",
    "ratings.loc[ratings[\"phone\"]==pick.values[0]]"
   ]
  },
  {
   "cell_type": "markdown",
   "id": "d1c4c16e",
   "metadata": {},
   "source": [
    "from above example, it is proved that there are no ratings available for these phone models<br>\n",
    "hence lets drop those records"
   ]
  },
  {
   "cell_type": "code",
   "execution_count": 35,
   "id": "9be8ca5c",
   "metadata": {},
   "outputs": [],
   "source": [
    "ratings_imputed.dropna(axis=0,inplace=True)"
   ]
  },
  {
   "cell_type": "code",
   "execution_count": 36,
   "id": "b3eac542",
   "metadata": {},
   "outputs": [],
   "source": [
    "# review the missing values\n",
    "nulsCount(ratings_imputed)"
   ]
  },
  {
   "cell_type": "markdown",
   "id": "26f1d3b8",
   "metadata": {},
   "source": [
    "hence the data set is imputed completely"
   ]
  },
  {
   "cell_type": "markdown",
   "id": "d5004e6f",
   "metadata": {},
   "source": [
    "**Steps and tasks:**<br>\n",
    "1. E. Check for duplicate values and remove them, if any."
   ]
  },
  {
   "cell_type": "code",
   "execution_count": 37,
   "id": "1648b393",
   "metadata": {},
   "outputs": [
    {
     "data": {
      "text/plain": [
       "7415"
      ]
     },
     "execution_count": 37,
     "metadata": {},
     "output_type": "execute_result"
    }
   ],
   "source": [
    "#check count of duplicate records\n",
    "ratings_imputed.duplicated().sum()"
   ]
  },
  {
   "cell_type": "code",
   "execution_count": 38,
   "id": "753d3225",
   "metadata": {},
   "outputs": [],
   "source": [
    "drop_index=ratings_imputed.loc[ratings_imputed.duplicated()].index\n",
    "ratings_imputed.drop(drop_index,axis=0,inplace=True)"
   ]
  },
  {
   "cell_type": "code",
   "execution_count": 39,
   "id": "3d38204e",
   "metadata": {
    "scrolled": true
   },
   "outputs": [
    {
     "data": {
      "text/plain": [
       "0"
      ]
     },
     "execution_count": 39,
     "metadata": {},
     "output_type": "execute_result"
    }
   ],
   "source": [
    "#review count of duplicate records\n",
    "ratings_imputed.duplicated().sum()"
   ]
  },
  {
   "cell_type": "markdown",
   "id": "46d6ef89",
   "metadata": {},
   "source": [
    "All duplicated dropped<br><br>\n",
    "since the imputer used mean() function, the scores will have decimal values, lets rounbd it off"
   ]
  },
  {
   "cell_type": "code",
   "execution_count": 40,
   "id": "7b2ebec0",
   "metadata": {},
   "outputs": [],
   "source": [
    "# round off\n",
    "ratings_imputed.score=ratings_imputed['score'].round().astype(int,errors='ignore')"
   ]
  },
  {
   "cell_type": "code",
   "execution_count": 41,
   "id": "0766f638",
   "metadata": {},
   "outputs": [
    {
     "data": {
      "text/plain": [
       "array([ 2, 10,  6,  8,  4,  5,  1,  9,  7,  3,  0])"
      ]
     },
     "execution_count": 41,
     "metadata": {},
     "output_type": "execute_result"
    }
   ],
   "source": [
    "ratings_imputed.score.unique()"
   ]
  },
  {
   "cell_type": "markdown",
   "id": "e887e2b8",
   "metadata": {},
   "source": [
    "**Steps and tasks:**<br>\n",
    "1. F. Keep only 1 Million data samples. Use random state=612."
   ]
  },
  {
   "cell_type": "markdown",
   "id": "6510b110",
   "metadata": {},
   "source": [
    "before selecting samples, lets remove records with 0 ratings, as they add no value to recommender systems"
   ]
  },
  {
   "cell_type": "code",
   "execution_count": 42,
   "id": "6d78c8df",
   "metadata": {},
   "outputs": [
    {
     "data": {
      "text/plain": [
       "[1, 2, 3, 4, 5, 6, 7, 8, 9, 10]"
      ]
     },
     "execution_count": 42,
     "metadata": {},
     "output_type": "execute_result"
    }
   ],
   "source": [
    "shortlist=ratings_imputed.loc[ratings_imputed[\"score\"]!=0]\n",
    "sorted(shortlist.score.unique()) # review scores"
   ]
  },
  {
   "cell_type": "code",
   "execution_count": 43,
   "id": "d8d23daf",
   "metadata": {},
   "outputs": [
    {
     "data": {
      "text/plain": [
       "(1407619, 15)"
      ]
     },
     "execution_count": 43,
     "metadata": {},
     "output_type": "execute_result"
    }
   ],
   "source": [
    "# confirm data size\n",
    "shortlist.shape"
   ]
  },
  {
   "cell_type": "code",
   "execution_count": 44,
   "id": "82ea95d4",
   "metadata": {},
   "outputs": [
    {
     "data": {
      "text/plain": [
       "(1000000, 15)"
      ]
     },
     "execution_count": 44,
     "metadata": {},
     "output_type": "execute_result"
    }
   ],
   "source": [
    "# select 1Million samples\n",
    "shortlist=shortlist.sample(n=1000000,random_state=612)\n",
    "shortlist.shape # review shape"
   ]
  },
  {
   "cell_type": "markdown",
   "id": "6323b25c",
   "metadata": {},
   "source": [
    "**Steps and tasks:**<br>\n",
    "1. G. Drop irrelevant features. Keep features like Author, Product, and Score."
   ]
  },
  {
   "cell_type": "code",
   "execution_count": 45,
   "id": "2d2bdce0",
   "metadata": {},
   "outputs": [
    {
     "data": {
      "text/plain": [
       "Index(['phone_url', 'date', 'lang', 'country', 'source', 'domain', 'score',\n",
       "       'score_max', 'extract', 'author', 'product', 'phone', 'prod_flag',\n",
       "       'auth_flag', 'ext_flag'],\n",
       "      dtype='object')"
      ]
     },
     "execution_count": 45,
     "metadata": {},
     "output_type": "execute_result"
    }
   ],
   "source": [
    "shortlist.columns # review columns"
   ]
  },
  {
   "cell_type": "code",
   "execution_count": 46,
   "id": "3747d818",
   "metadata": {},
   "outputs": [
    {
     "data": {
      "text/html": [
       "<div>\n",
       "<style scoped>\n",
       "    .dataframe tbody tr th:only-of-type {\n",
       "        vertical-align: middle;\n",
       "    }\n",
       "\n",
       "    .dataframe tbody tr th {\n",
       "        vertical-align: top;\n",
       "    }\n",
       "\n",
       "    .dataframe thead th {\n",
       "        text-align: right;\n",
       "    }\n",
       "</style>\n",
       "<table border=\"1\" class=\"dataframe\">\n",
       "  <thead>\n",
       "    <tr style=\"text-align: right;\">\n",
       "      <th></th>\n",
       "      <th>phone_url</th>\n",
       "      <th>date</th>\n",
       "      <th>lang</th>\n",
       "      <th>country</th>\n",
       "      <th>source</th>\n",
       "      <th>domain</th>\n",
       "      <th>score</th>\n",
       "      <th>score_max</th>\n",
       "      <th>extract</th>\n",
       "      <th>author</th>\n",
       "      <th>product</th>\n",
       "      <th>phone</th>\n",
       "      <th>prod_flag</th>\n",
       "      <th>auth_flag</th>\n",
       "      <th>ext_flag</th>\n",
       "    </tr>\n",
       "  </thead>\n",
       "  <tbody>\n",
       "    <tr>\n",
       "      <th>285852</th>\n",
       "      <td>/cellphones/lg-g4/</td>\n",
       "      <td>7/28/2015</td>\n",
       "      <td>nl</td>\n",
       "      <td>nl</td>\n",
       "      <td>KIESKEURIG</td>\n",
       "      <td>kieskeurig.nl</td>\n",
       "      <td>8</td>\n",
       "      <td>10.0</td>\n",
       "      <td>Ik heb dit toestel nu een paar maanden en hij ...</td>\n",
       "      <td>lndmn</td>\n",
       "      <td>LG G4 H815 wit  32 GB  Overzicht</td>\n",
       "      <td>lg-g4</td>\n",
       "      <td>False</td>\n",
       "      <td>False</td>\n",
       "      <td>False</td>\n",
       "    </tr>\n",
       "    <tr>\n",
       "      <th>292121</th>\n",
       "      <td>/cellphones/alcatel-onetouch-20-04/</td>\n",
       "      <td>1/30/2017</td>\n",
       "      <td>it</td>\n",
       "      <td>it</td>\n",
       "      <td>Amazon</td>\n",
       "      <td>amazon.it</td>\n",
       "      <td>10</td>\n",
       "      <td>10.0</td>\n",
       "      <td>Lho acquistato per mio suocero leggero tasti e...</td>\n",
       "      <td>LUCA C</td>\n",
       "      <td>Alcatel One Touch 2004G Telefono Cellulare GSM...</td>\n",
       "      <td>alcatel-onetouch-20-04</td>\n",
       "      <td>False</td>\n",
       "      <td>False</td>\n",
       "      <td>False</td>\n",
       "    </tr>\n",
       "    <tr>\n",
       "      <th>591361</th>\n",
       "      <td>/cellphones/sony-xperia-m2/</td>\n",
       "      <td>8/7/2014</td>\n",
       "      <td>pt</td>\n",
       "      <td>br</td>\n",
       "      <td>Americanas</td>\n",
       "      <td>americanas.com.br</td>\n",
       "      <td>8</td>\n",
       "      <td>10.0</td>\n",
       "      <td>comprei o aparelho há um mes e estou muito sat...</td>\n",
       "      <td>fabiocastro99</td>\n",
       "      <td>Sony Smartphone Sony Xperia M2 Preto Android 4...</td>\n",
       "      <td>sony-xperia-m2</td>\n",
       "      <td>False</td>\n",
       "      <td>False</td>\n",
       "      <td>False</td>\n",
       "    </tr>\n",
       "    <tr>\n",
       "      <th>887149</th>\n",
       "      <td>/cellphones/apple-iphone-4s/</td>\n",
       "      <td>26/1/2012</td>\n",
       "      <td>de</td>\n",
       "      <td>de</td>\n",
       "      <td>Ciao</td>\n",
       "      <td>ciao.de</td>\n",
       "      <td>6</td>\n",
       "      <td>10.0</td>\n",
       "      <td>Liebe Ciao Leserinnen und Ciao Leser ich mchte...</td>\n",
       "      <td>Yetiritter</td>\n",
       "      <td>Apple iPhone 4S 8GB</td>\n",
       "      <td>apple-iphone-4s</td>\n",
       "      <td>False</td>\n",
       "      <td>False</td>\n",
       "      <td>False</td>\n",
       "    </tr>\n",
       "    <tr>\n",
       "      <th>1182939</th>\n",
       "      <td>/cellphones/lg-kp500/</td>\n",
       "      <td>5/29/2009</td>\n",
       "      <td>en</td>\n",
       "      <td>us</td>\n",
       "      <td>Newegg</td>\n",
       "      <td>newegg.com</td>\n",
       "      <td>8</td>\n",
       "      <td>10.0</td>\n",
       "      <td>Cant wait to open it</td>\n",
       "      <td>Dakotah J</td>\n",
       "      <td>LG Mobile KP500 Black Unlocked GSM Bar phones ...</td>\n",
       "      <td>lg-kp500</td>\n",
       "      <td>False</td>\n",
       "      <td>False</td>\n",
       "      <td>False</td>\n",
       "    </tr>\n",
       "  </tbody>\n",
       "</table>\n",
       "</div>"
      ],
      "text/plain": [
       "                                   phone_url       date lang country  \\\n",
       "285852                    /cellphones/lg-g4/  7/28/2015   nl      nl   \n",
       "292121   /cellphones/alcatel-onetouch-20-04/  1/30/2017   it      it   \n",
       "591361           /cellphones/sony-xperia-m2/   8/7/2014   pt      br   \n",
       "887149          /cellphones/apple-iphone-4s/  26/1/2012   de      de   \n",
       "1182939                /cellphones/lg-kp500/  5/29/2009   en      us   \n",
       "\n",
       "             source             domain  score  score_max  \\\n",
       "285852   KIESKEURIG      kieskeurig.nl      8       10.0   \n",
       "292121       Amazon          amazon.it     10       10.0   \n",
       "591361   Americanas  americanas.com.br      8       10.0   \n",
       "887149         Ciao            ciao.de      6       10.0   \n",
       "1182939      Newegg         newegg.com      8       10.0   \n",
       "\n",
       "                                                   extract         author  \\\n",
       "285852   Ik heb dit toestel nu een paar maanden en hij ...          lndmn   \n",
       "292121   Lho acquistato per mio suocero leggero tasti e...         LUCA C   \n",
       "591361   comprei o aparelho há um mes e estou muito sat...  fabiocastro99   \n",
       "887149   Liebe Ciao Leserinnen und Ciao Leser ich mchte...     Yetiritter   \n",
       "1182939                               Cant wait to open it      Dakotah J   \n",
       "\n",
       "                                                   product  \\\n",
       "285852                    LG G4 H815 wit  32 GB  Overzicht   \n",
       "292121   Alcatel One Touch 2004G Telefono Cellulare GSM...   \n",
       "591361   Sony Smartphone Sony Xperia M2 Preto Android 4...   \n",
       "887149                                 Apple iPhone 4S 8GB   \n",
       "1182939  LG Mobile KP500 Black Unlocked GSM Bar phones ...   \n",
       "\n",
       "                          phone  prod_flag  auth_flag  ext_flag  \n",
       "285852                    lg-g4      False      False     False  \n",
       "292121   alcatel-onetouch-20-04      False      False     False  \n",
       "591361           sony-xperia-m2      False      False     False  \n",
       "887149          apple-iphone-4s      False      False     False  \n",
       "1182939                lg-kp500      False      False     False  "
      ]
     },
     "execution_count": 46,
     "metadata": {},
     "output_type": "execute_result"
    }
   ],
   "source": [
    "shortlist.head()"
   ]
  },
  {
   "cell_type": "markdown",
   "id": "cbe45de4",
   "metadata": {},
   "source": [
    "let us retain the columns score, extract, author and product"
   ]
  },
  {
   "cell_type": "code",
   "execution_count": 47,
   "id": "6a4be631",
   "metadata": {},
   "outputs": [],
   "source": [
    "# reduce the 1Million records with only relevant features\n",
    "df=shortlist[['author','product','score','extract']].copy()\n",
    "df.reset_index(drop=True,inplace=True)"
   ]
  },
  {
   "cell_type": "code",
   "execution_count": 48,
   "id": "ca45cb39",
   "metadata": {},
   "outputs": [
    {
     "data": {
      "text/plain": [
       "(1000000, 4)"
      ]
     },
     "execution_count": 48,
     "metadata": {},
     "output_type": "execute_result"
    }
   ],
   "source": [
    "df.shape"
   ]
  },
  {
   "cell_type": "code",
   "execution_count": 49,
   "id": "f5d61a85",
   "metadata": {},
   "outputs": [
    {
     "data": {
      "text/html": [
       "<div>\n",
       "<style scoped>\n",
       "    .dataframe tbody tr th:only-of-type {\n",
       "        vertical-align: middle;\n",
       "    }\n",
       "\n",
       "    .dataframe tbody tr th {\n",
       "        vertical-align: top;\n",
       "    }\n",
       "\n",
       "    .dataframe thead th {\n",
       "        text-align: right;\n",
       "    }\n",
       "</style>\n",
       "<table border=\"1\" class=\"dataframe\">\n",
       "  <thead>\n",
       "    <tr style=\"text-align: right;\">\n",
       "      <th></th>\n",
       "      <th>author</th>\n",
       "      <th>product</th>\n",
       "      <th>score</th>\n",
       "      <th>extract</th>\n",
       "    </tr>\n",
       "  </thead>\n",
       "  <tbody>\n",
       "    <tr>\n",
       "      <th>0</th>\n",
       "      <td>lndmn</td>\n",
       "      <td>LG G4 H815 wit  32 GB  Overzicht</td>\n",
       "      <td>8</td>\n",
       "      <td>Ik heb dit toestel nu een paar maanden en hij ...</td>\n",
       "    </tr>\n",
       "    <tr>\n",
       "      <th>1</th>\n",
       "      <td>LUCA C</td>\n",
       "      <td>Alcatel One Touch 2004G Telefono Cellulare GSM...</td>\n",
       "      <td>10</td>\n",
       "      <td>Lho acquistato per mio suocero leggero tasti e...</td>\n",
       "    </tr>\n",
       "    <tr>\n",
       "      <th>2</th>\n",
       "      <td>fabiocastro99</td>\n",
       "      <td>Sony Smartphone Sony Xperia M2 Preto Android 4...</td>\n",
       "      <td>8</td>\n",
       "      <td>comprei o aparelho há um mes e estou muito sat...</td>\n",
       "    </tr>\n",
       "    <tr>\n",
       "      <th>3</th>\n",
       "      <td>Yetiritter</td>\n",
       "      <td>Apple iPhone 4S 8GB</td>\n",
       "      <td>6</td>\n",
       "      <td>Liebe Ciao Leserinnen und Ciao Leser ich mchte...</td>\n",
       "    </tr>\n",
       "    <tr>\n",
       "      <th>4</th>\n",
       "      <td>Dakotah J</td>\n",
       "      <td>LG Mobile KP500 Black Unlocked GSM Bar phones ...</td>\n",
       "      <td>8</td>\n",
       "      <td>Cant wait to open it</td>\n",
       "    </tr>\n",
       "  </tbody>\n",
       "</table>\n",
       "</div>"
      ],
      "text/plain": [
       "          author                                            product  score  \\\n",
       "0          lndmn                   LG G4 H815 wit  32 GB  Overzicht      8   \n",
       "1         LUCA C  Alcatel One Touch 2004G Telefono Cellulare GSM...     10   \n",
       "2  fabiocastro99  Sony Smartphone Sony Xperia M2 Preto Android 4...      8   \n",
       "3     Yetiritter                                Apple iPhone 4S 8GB      6   \n",
       "4      Dakotah J  LG Mobile KP500 Black Unlocked GSM Bar phones ...      8   \n",
       "\n",
       "                                             extract  \n",
       "0  Ik heb dit toestel nu een paar maanden en hij ...  \n",
       "1  Lho acquistato per mio suocero leggero tasti e...  \n",
       "2  comprei o aparelho há um mes e estou muito sat...  \n",
       "3  Liebe Ciao Leserinnen und Ciao Leser ich mchte...  \n",
       "4                               Cant wait to open it  "
      ]
     },
     "execution_count": 49,
     "metadata": {},
     "output_type": "execute_result"
    }
   ],
   "source": [
    "df.head()"
   ]
  },
  {
   "cell_type": "markdown",
   "id": "f883da69",
   "metadata": {},
   "source": [
    "**Steps and tasks:**<br>\n",
    "2. Answer the following questions.<br>\n",
    "A. Identify the most rated <del><i>features</i></del> products"
   ]
  },
  {
   "cell_type": "code",
   "execution_count": 50,
   "id": "c80b1c24",
   "metadata": {},
   "outputs": [
    {
     "name": "stdout",
     "output_type": "stream",
     "text": [
      "The Lenovo Vibe K4 Note White16GB cellphone have been rated the most frequently at 3759 times\n",
      "The mean score secured by the above model is 7\n"
     ]
    }
   ],
   "source": [
    "# the most rated product in terms of frequency of ratings\n",
    "freq=df[\"product\"].value_counts()\n",
    "print(\"The %s cellphone have been rated the most frequently at %d times\"%(freq.index[0],freq[0]))\n",
    "print(\"The mean score secured by the above model is %d\"%(df.loc[df[\"product\"]==freq.index[0],\"score\"].mean()))"
   ]
  },
  {
   "cell_type": "code",
   "execution_count": 51,
   "id": "c00b1473",
   "metadata": {},
   "outputs": [
    {
     "data": {
      "text/html": [
       "<div>\n",
       "<style scoped>\n",
       "    .dataframe tbody tr th:only-of-type {\n",
       "        vertical-align: middle;\n",
       "    }\n",
       "\n",
       "    .dataframe tbody tr th {\n",
       "        vertical-align: top;\n",
       "    }\n",
       "\n",
       "    .dataframe thead th {\n",
       "        text-align: right;\n",
       "    }\n",
       "</style>\n",
       "<table border=\"1\" class=\"dataframe\">\n",
       "  <thead>\n",
       "    <tr style=\"text-align: right;\">\n",
       "      <th></th>\n",
       "      <th>score</th>\n",
       "      <th>count</th>\n",
       "    </tr>\n",
       "    <tr>\n",
       "      <th>product</th>\n",
       "      <th></th>\n",
       "      <th></th>\n",
       "    </tr>\n",
       "  </thead>\n",
       "  <tbody>\n",
       "    <tr>\n",
       "      <th>Samsung Galaxy Note5</th>\n",
       "      <td>10.0</td>\n",
       "      <td>147</td>\n",
       "    </tr>\n",
       "    <tr>\n",
       "      <th>Motorola Smartphone Motorola Moto G Dual Chip Desbloqueado TIM Android 43 Tela 45 8GB 3G WiFi Câmera 5MP  Preto</th>\n",
       "      <td>10.0</td>\n",
       "      <td>129</td>\n",
       "    </tr>\n",
       "    <tr>\n",
       "      <th>Motorola Smartphone Motorola Moto X Desbloqueado Preto Android 422 Câmera 10MP e Frontal 2MP Memória Interna de 16GB GSM</th>\n",
       "      <td>10.0</td>\n",
       "      <td>125</td>\n",
       "    </tr>\n",
       "    <tr>\n",
       "      <th>Samsung Smartphone Dual Chip Samsung Galaxy SIII Duos Desbloqueado Claro Azul Android 41 3GWiFi Câmera 5MP</th>\n",
       "      <td>10.0</td>\n",
       "      <td>124</td>\n",
       "    </tr>\n",
       "    <tr>\n",
       "      <th>Samsung Smartphone Dual Chip Samsung Galaxy SIII Duos Desbloqueado Claro Azul Android 41 3GWiFi Cmera 5MP</th>\n",
       "      <td>10.0</td>\n",
       "      <td>118</td>\n",
       "    </tr>\n",
       "    <tr>\n",
       "      <th>Samsung Smartphone Galaxy Win Duos Branco Desbloqueado Dual Chip Câmera 5MP Processador Quad Core 12 Ghz Android 41 3G Wi Fi e Memória 8GB</th>\n",
       "      <td>10.0</td>\n",
       "      <td>113</td>\n",
       "    </tr>\n",
       "    <tr>\n",
       "      <th>Motorola Smartphone Motorola Novo Moto G DTV Colors Dual Chip XT 1069 Desbloqueado Android 44 Tela 5 16GB 3G WiFi Câmera de 8MP  Preto</th>\n",
       "      <td>10.0</td>\n",
       "      <td>110</td>\n",
       "    </tr>\n",
       "    <tr>\n",
       "      <th>Nokia Smartphone Nokia Lumia 520 Desbloqueado Oi Preto Windows Phone 8 Câmera 5MP 3G WiFi Memória Interna 8G GPS</th>\n",
       "      <td>10.0</td>\n",
       "      <td>107</td>\n",
       "    </tr>\n",
       "    <tr>\n",
       "      <th>Apple iPhone 4S Branco 8GB  Apple</th>\n",
       "      <td>10.0</td>\n",
       "      <td>99</td>\n",
       "    </tr>\n",
       "    <tr>\n",
       "      <th>LG 514 Optimus One P503</th>\n",
       "      <td>10.0</td>\n",
       "      <td>47</td>\n",
       "    </tr>\n",
       "  </tbody>\n",
       "</table>\n",
       "</div>"
      ],
      "text/plain": [
       "                                                    score  count\n",
       "product                                                         \n",
       "Samsung Galaxy Note5                                 10.0    147\n",
       "Motorola Smartphone Motorola Moto G Dual Chip D...   10.0    129\n",
       "Motorola Smartphone Motorola Moto X Desbloquead...   10.0    125\n",
       "Samsung Smartphone Dual Chip Samsung Galaxy SII...   10.0    124\n",
       "Samsung Smartphone Dual Chip Samsung Galaxy SII...   10.0    118\n",
       "Samsung Smartphone Galaxy Win Duos Branco Desbl...   10.0    113\n",
       "Motorola Smartphone Motorola Novo Moto G DTV Co...   10.0    110\n",
       "Nokia Smartphone Nokia Lumia 520 Desbloqueado O...   10.0    107\n",
       "Apple iPhone 4S Branco 8GB  Apple                    10.0     99\n",
       "LG 514 Optimus One P503                              10.0     47"
      ]
     },
     "execution_count": 51,
     "metadata": {},
     "output_type": "execute_result"
    }
   ],
   "source": [
    "# the most rated product in terms of highest mean score\n",
    "toprated=pd.DataFrame(df.groupby(by=\"product\")[\"score\"].mean())\n",
    "toprated[\"count\"]=df.groupby(by=\"product\")[\"score\"].count()\n",
    "toprated.reset_index(inplace=True)\n",
    "toprated.set_index('product',inplace=True)\n",
    "toprated.sort_values(by=[\"score\",\"count\"],ascending=False).head(10) # displaying top 10 for simplicity"
   ]
  },
  {
   "cell_type": "markdown",
   "id": "78154ee8",
   "metadata": {},
   "source": [
    "**Steps and tasks:**<br>\n",
    "2. B. Identify the users with most number of reviews."
   ]
  },
  {
   "cell_type": "code",
   "execution_count": 52,
   "id": "d81667d2",
   "metadata": {},
   "outputs": [
    {
     "data": {
      "text/plain": [
       "Amazon Customer    54620\n",
       "Cliente Amazon     13723\n",
       "ebit                5944\n",
       "Client dAmazon      5450\n",
       "Amazon Kunde        3410\n",
       "einer Kundin        1837\n",
       "einem Kunden        1337\n",
       "Александр            706\n",
       "David                681\n",
       "Marco                656\n",
       "Name: author, dtype: int64"
      ]
     },
     "execution_count": 52,
     "metadata": {},
     "output_type": "execute_result"
    }
   ],
   "source": [
    "# review are provided in the extract columns\n",
    "# extracts with no_comments are not to be considered as reviews by the user, as they were imputted values\n",
    "# ensure not to include ANONYMOUS author as it is imputed value\n",
    "# lets display the top 10 users with maximum number of reviews\n",
    "df.loc[(df[\"extract\"]!=\"no_comments\"\n",
    "       ) & ~(df[\"author\"].str.upper().isin([\"ANONYMOUS\"])),\"author\"].value_counts().head(10)"
   ]
  },
  {
   "cell_type": "markdown",
   "id": "2a4c3c95",
   "metadata": {},
   "source": [
    "**Steps and tasks:**<br>\n",
    "2. C. Select the data with products having more than 50 ratings and users who have given more than 50 ratings. Report the shape of the final dataset."
   ]
  },
  {
   "cell_type": "code",
   "execution_count": 53,
   "id": "a2980911",
   "metadata": {},
   "outputs": [],
   "source": [
    "# shortlist users (authors) with more than 50 ratings\n",
    "# ensure not to include ANONYMOUS author as it is imputed value\n",
    "top_users=df.loc[~df[\"author\"].str.upper().isin([\"ANONYMOUS\"]),\"author\"].value_counts() \n",
    "top_users=list(top_users.loc[top_users>50].index)"
   ]
  },
  {
   "cell_type": "code",
   "execution_count": 54,
   "id": "94d4de6e",
   "metadata": {},
   "outputs": [],
   "source": [
    "# shortlist products with more than 50 ratings\n",
    "top_products=df[\"product\"].value_counts()\n",
    "top_products=list(top_products.loc[top_products>50].index)"
   ]
  },
  {
   "cell_type": "code",
   "execution_count": 55,
   "id": "103f5b30",
   "metadata": {},
   "outputs": [
    {
     "data": {
      "text/html": [
       "<div>\n",
       "<style scoped>\n",
       "    .dataframe tbody tr th:only-of-type {\n",
       "        vertical-align: middle;\n",
       "    }\n",
       "\n",
       "    .dataframe tbody tr th {\n",
       "        vertical-align: top;\n",
       "    }\n",
       "\n",
       "    .dataframe thead th {\n",
       "        text-align: right;\n",
       "    }\n",
       "</style>\n",
       "<table border=\"1\" class=\"dataframe\">\n",
       "  <thead>\n",
       "    <tr style=\"text-align: right;\">\n",
       "      <th></th>\n",
       "      <th>author</th>\n",
       "      <th>product</th>\n",
       "      <th>score</th>\n",
       "      <th>extract</th>\n",
       "    </tr>\n",
       "  </thead>\n",
       "  <tbody>\n",
       "    <tr>\n",
       "      <th>31</th>\n",
       "      <td>Amazon Customer</td>\n",
       "      <td>Samsung Galaxy Grand Prime Dual Sim Factory Un...</td>\n",
       "      <td>8</td>\n",
       "      <td>Really good phone for the money</td>\n",
       "    </tr>\n",
       "    <tr>\n",
       "      <th>32</th>\n",
       "      <td>carlo</td>\n",
       "      <td>elephone P8000 Smartphone 4G FDDLTE 64bit MTK6...</td>\n",
       "      <td>6</td>\n",
       "      <td>Prodotto buono  Batteria super ma ha un proble...</td>\n",
       "    </tr>\n",
       "    <tr>\n",
       "      <th>76</th>\n",
       "      <td>Amazon Customer</td>\n",
       "      <td>Apple iPhone 6 Plus 128GB Factory Unlocked GSM...</td>\n",
       "      <td>10</td>\n",
       "      <td>Phone as good as brand new</td>\n",
       "    </tr>\n",
       "    <tr>\n",
       "      <th>79</th>\n",
       "      <td>Amazon Customer</td>\n",
       "      <td>OnePlus 3T Soft Gold 6GB RAM  64GB memory</td>\n",
       "      <td>10</td>\n",
       "      <td>OP3T is way too cool and premium for its price...</td>\n",
       "    </tr>\n",
       "    <tr>\n",
       "      <th>87</th>\n",
       "      <td>Cliente Amazon</td>\n",
       "      <td>Motorola Moto G 3 Generación  Carcasa Oficial ...</td>\n",
       "      <td>8</td>\n",
       "      <td>El artículo llegó un día antes y cumple mis es...</td>\n",
       "    </tr>\n",
       "  </tbody>\n",
       "</table>\n",
       "</div>"
      ],
      "text/plain": [
       "             author                                            product  score  \\\n",
       "31  Amazon Customer  Samsung Galaxy Grand Prime Dual Sim Factory Un...      8   \n",
       "32            carlo  elephone P8000 Smartphone 4G FDDLTE 64bit MTK6...      6   \n",
       "76  Amazon Customer  Apple iPhone 6 Plus 128GB Factory Unlocked GSM...     10   \n",
       "79  Amazon Customer          OnePlus 3T Soft Gold 6GB RAM  64GB memory     10   \n",
       "87   Cliente Amazon  Motorola Moto G 3 Generación  Carcasa Oficial ...      8   \n",
       "\n",
       "                                              extract  \n",
       "31                    Really good phone for the money  \n",
       "32  Prodotto buono  Batteria super ma ha un proble...  \n",
       "76                         Phone as good as brand new  \n",
       "79  OP3T is way too cool and premium for its price...  \n",
       "87  El artículo llegó un día antes y cumple mis es...  "
      ]
     },
     "execution_count": 55,
     "metadata": {},
     "output_type": "execute_result"
    }
   ],
   "source": [
    "# short list records matching above lists\n",
    "top_records=df.loc[(df[\"author\"].isin(top_users)) & (df[\"product\"].isin(top_products))]\n",
    "top_records.head()"
   ]
  },
  {
   "cell_type": "code",
   "execution_count": 56,
   "id": "6a6b0f16",
   "metadata": {},
   "outputs": [
    {
     "data": {
      "text/plain": [
       "(98732, 4)"
      ]
     },
     "execution_count": 56,
     "metadata": {},
     "output_type": "execute_result"
    }
   ],
   "source": [
    "# shape of top_records\n",
    "top_records.shape"
   ]
  },
  {
   "cell_type": "markdown",
   "id": "08432702",
   "metadata": {},
   "source": [
    "**Steps and tasks:**<br>\n",
    "3. Build a popularity based model and recommend top 5 mobile phones."
   ]
  },
  {
   "cell_type": "code",
   "execution_count": 57,
   "id": "e3483b12",
   "metadata": {},
   "outputs": [
    {
     "name": "stdout",
     "output_type": "stream",
     "text": [
      "The following mobile phones\n",
      "1) Sony Ericsson W200i\n",
      "2) Samsung Smartphone Samsung Galaxy Win Duos Dual Chip Desbloqueado Android 41\n",
      "3) Samsung Galaxy S3 mini I8190 Smartphone 102 cm 4 Zoll AMOLED Display DualCore 1GHz 1GB RAM 5 Megapixel Kamera Android 41 sapphireblack\n",
      "4) Huawei Vision U8850\n",
      "5) Virgin HTC Desire 510 A11 Blue Virgin Mobile\n",
      "are the popular ones with ratings as [10.0, 10.0, 10.0, 10.0, 10.0] respectively\n"
     ]
    }
   ],
   "source": [
    "# model building and shortlist\n",
    "popular5=top_records.groupby('product')['score'].mean().sort_values(ascending=False).head(5)\n",
    "\n",
    "# display results\n",
    "print(\"The following mobile phones\")\n",
    "for i,key in enumerate(popular5.index):\n",
    "    print(i+1,key,sep=') ',end='\\n')\n",
    "print(\"are the popular ones with ratings as\",list(popular5),\"respectively\")"
   ]
  },
  {
   "cell_type": "markdown",
   "id": "0eaa89f2",
   "metadata": {},
   "source": [
    "**Steps and tasks:**<br>\n",
    "4. Build a collaborative filtering model using SVD.<br>\n",
    "You can use SVD from surprise or build it from scratch<br>\n",
    "(Note: Incase you’re building it from scratch you can limit your data points to 5000 samples if you face memory issues).<br>\n",
    "Build a collaborative iltering model using kNNWithMeans from surprise.<br>\n",
    "You can try both user-based and item-based model."
   ]
  },
  {
   "cell_type": "code",
   "execution_count": 58,
   "id": "1b08bd15",
   "metadata": {},
   "outputs": [],
   "source": [
    "# export pandas dataframe to surprice data type\n",
    "reader = Reader(rating_scale=(1, 10))\n",
    "data = Dataset.load_from_df(top_records[[\"author\",\"product\",\"score\"]],reader)\n",
    "# split train test data\n",
    "trainset, testset = train_test_split(data, test_size=.25,random_state=612)"
   ]
  },
  {
   "cell_type": "code",
   "execution_count": 59,
   "id": "1efc8df3",
   "metadata": {},
   "outputs": [
    {
     "name": "stdout",
     "output_type": "stream",
     "text": [
      "CPU times: user 2.83 s, sys: 0 ns, total: 2.83 s\n",
      "Wall time: 2.83 s\n"
     ]
    },
    {
     "data": {
      "text/plain": [
       "<surprise.prediction_algorithms.matrix_factorization.SVD at 0x7f59809aea30>"
      ]
     },
     "execution_count": 59,
     "metadata": {},
     "output_type": "execute_result"
    }
   ],
   "source": [
    "%%time\n",
    "# Collaborative Filtering based recommender using Singular Value Decomposition\n",
    "svd_cf = SVD()\n",
    "svd_cf.fit(trainset)"
   ]
  },
  {
   "cell_type": "code",
   "execution_count": 60,
   "id": "c812bf30",
   "metadata": {},
   "outputs": [
    {
     "name": "stdout",
     "output_type": "stream",
     "text": [
      "Computing the msd similarity matrix...\n",
      "Done computing similarity matrix.\n",
      "CPU times: user 250 ms, sys: 0 ns, total: 250 ms\n",
      "Wall time: 248 ms\n"
     ]
    },
    {
     "data": {
      "text/plain": [
       "<surprise.prediction_algorithms.knns.KNNWithMeans at 0x7f598923c580>"
      ]
     },
     "execution_count": 60,
     "metadata": {},
     "output_type": "execute_result"
    }
   ],
   "source": [
    "%%time\n",
    "# user-user Collaborative Filtering based recommender using KNN with Means\n",
    "knn_user = KNNWithMeans(sim_options={ 'user_based': True})\n",
    "knn_user.fit(trainset)"
   ]
  },
  {
   "cell_type": "code",
   "execution_count": 61,
   "id": "4e8a49a1",
   "metadata": {},
   "outputs": [
    {
     "name": "stdout",
     "output_type": "stream",
     "text": [
      "Computing the msd similarity matrix...\n",
      "Done computing similarity matrix.\n",
      "CPU times: user 23.1 s, sys: 164 ms, total: 23.2 s\n",
      "Wall time: 23.1 s\n"
     ]
    },
    {
     "data": {
      "text/plain": [
       "<surprise.prediction_algorithms.knns.KNNWithMeans at 0x7f598923c070>"
      ]
     },
     "execution_count": 61,
     "metadata": {},
     "output_type": "execute_result"
    }
   ],
   "source": [
    "%%time\n",
    "# user-user Collaborative Filtering based recommender using KNN with Means\n",
    "knn_item = KNNWithMeans(sim_options={ 'user_based': False})\n",
    "knn_item.fit(trainset)"
   ]
  },
  {
   "cell_type": "markdown",
   "id": "13414578",
   "metadata": {},
   "source": [
    "**Steps and tasks:**<br>\n",
    "5. Evaluate the collaborative model. Print RMSE value."
   ]
  },
  {
   "cell_type": "code",
   "execution_count": 62,
   "id": "6a92617d",
   "metadata": {},
   "outputs": [
    {
     "name": "stdout",
     "output_type": "stream",
     "text": [
      "SVD CF\n",
      "RMSE: 2.6718\n",
      "CPU times: user 155 ms, sys: 8 ms, total: 163 ms\n",
      "Wall time: 160 ms\n"
     ]
    },
    {
     "data": {
      "text/plain": [
       "2.6718174625773377"
      ]
     },
     "execution_count": 62,
     "metadata": {},
     "output_type": "execute_result"
    }
   ],
   "source": [
    "%%time\n",
    "print(\"SVD CF\")\n",
    "accuracy.rmse(svd_cf.test(testset));"
   ]
  },
  {
   "cell_type": "code",
   "execution_count": 63,
   "id": "10159907",
   "metadata": {},
   "outputs": [
    {
     "name": "stdout",
     "output_type": "stream",
     "text": [
      "KNN with Means CF (user-user)\n",
      "RMSE: 2.6970\n",
      "CPU times: user 2.24 s, sys: 7.93 ms, total: 2.24 s\n",
      "Wall time: 2.24 s\n"
     ]
    },
    {
     "data": {
      "text/plain": [
       "2.697022910184829"
      ]
     },
     "execution_count": 63,
     "metadata": {},
     "output_type": "execute_result"
    }
   ],
   "source": [
    "%%time\n",
    "print(\"KNN with Means CF (user-user)\")\n",
    "accuracy.rmse(knn_user.test(testset));"
   ]
  },
  {
   "cell_type": "code",
   "execution_count": 64,
   "id": "4692f7d3",
   "metadata": {},
   "outputs": [
    {
     "name": "stdout",
     "output_type": "stream",
     "text": [
      "KNN with Means CF (item-item)\n",
      "RMSE: 2.7027\n",
      "CPU times: user 2min 12s, sys: 41.4 ms, total: 2min 12s\n",
      "Wall time: 2min 12s\n"
     ]
    },
    {
     "data": {
      "text/plain": [
       "2.702675972271247"
      ]
     },
     "execution_count": 64,
     "metadata": {},
     "output_type": "execute_result"
    }
   ],
   "source": [
    "%%time\n",
    "print(\"KNN with Means CF (item-item)\")\n",
    "accuracy.rmse(knn_item.test(testset));"
   ]
  },
  {
   "cell_type": "markdown",
   "id": "5e928c6a",
   "metadata": {},
   "source": [
    "the KNNWithMeans item-item collaboration filtering algorithm took 10 time longer in modelling and exorbitant time for prediction, despite no significant improvement in accuracy scores, hence lets not use it for further study<br>\n",
    "\n",
    "the KNNWithMeans user-user collaboration filtering based recommender has higher rmse than SVD alogorithm. Hence lets stick to the later"
   ]
  },
  {
   "cell_type": "markdown",
   "id": "21484d59",
   "metadata": {},
   "source": [
    "**Steps and tasks:**<br>\n",
    "6. Predict score (average rating) for test users."
   ]
  },
  {
   "cell_type": "code",
   "execution_count": 65,
   "id": "b51f80d5",
   "metadata": {},
   "outputs": [],
   "source": [
    "# predict\n",
    "pred=svd_cf.test(testset)"
   ]
  },
  {
   "cell_type": "code",
   "execution_count": 66,
   "id": "3a33b60d",
   "metadata": {},
   "outputs": [
    {
     "data": {
      "text/html": [
       "<div>\n",
       "<style scoped>\n",
       "    .dataframe tbody tr th:only-of-type {\n",
       "        vertical-align: middle;\n",
       "    }\n",
       "\n",
       "    .dataframe tbody tr th {\n",
       "        vertical-align: top;\n",
       "    }\n",
       "\n",
       "    .dataframe thead th {\n",
       "        text-align: right;\n",
       "    }\n",
       "</style>\n",
       "<table border=\"1\" class=\"dataframe\">\n",
       "  <thead>\n",
       "    <tr style=\"text-align: right;\">\n",
       "      <th></th>\n",
       "      <th>user</th>\n",
       "      <th>item</th>\n",
       "      <th>score</th>\n",
       "      <th>predicted_score</th>\n",
       "      <th>was_impossible</th>\n",
       "    </tr>\n",
       "  </thead>\n",
       "  <tbody>\n",
       "    <tr>\n",
       "      <th>23703</th>\n",
       "      <td>ebit</td>\n",
       "      <td>Smartphone Asus ZenFone 3 ZE520KL</td>\n",
       "      <td>10.0</td>\n",
       "      <td>9.277715</td>\n",
       "      <td>False</td>\n",
       "    </tr>\n",
       "    <tr>\n",
       "      <th>9704</th>\n",
       "      <td>Amazon Customer</td>\n",
       "      <td>Lenovo Vibe K5 Gold VoLTE update</td>\n",
       "      <td>8.0</td>\n",
       "      <td>7.254228</td>\n",
       "      <td>False</td>\n",
       "    </tr>\n",
       "    <tr>\n",
       "      <th>17327</th>\n",
       "      <td>Cliente Amazon</td>\n",
       "      <td>Huawei P9 Lite Smartphone 52 Full hd 3 GB RAM ...</td>\n",
       "      <td>10.0</td>\n",
       "      <td>9.125428</td>\n",
       "      <td>False</td>\n",
       "    </tr>\n",
       "    <tr>\n",
       "      <th>79</th>\n",
       "      <td>Amazon Customer</td>\n",
       "      <td>Lenovo PHAB Plus Tablet 68 inch 32GB WiFi LTE ...</td>\n",
       "      <td>6.0</td>\n",
       "      <td>6.268403</td>\n",
       "      <td>False</td>\n",
       "    </tr>\n",
       "    <tr>\n",
       "      <th>14002</th>\n",
       "      <td>Amazon Customer</td>\n",
       "      <td>Lenovo Used Lenovo Zuk Z1 Space Grey 64GB</td>\n",
       "      <td>2.0</td>\n",
       "      <td>5.199530</td>\n",
       "      <td>False</td>\n",
       "    </tr>\n",
       "    <tr>\n",
       "      <th>14500</th>\n",
       "      <td>Amazon Customer</td>\n",
       "      <td>Lenovo Used Lenovo Zuk Z1 Space Grey 64GB</td>\n",
       "      <td>2.0</td>\n",
       "      <td>5.199530</td>\n",
       "      <td>False</td>\n",
       "    </tr>\n",
       "    <tr>\n",
       "      <th>9027</th>\n",
       "      <td>Amazon Customer</td>\n",
       "      <td>Nokia 130 Dual SIM Black</td>\n",
       "      <td>6.0</td>\n",
       "      <td>7.312241</td>\n",
       "      <td>False</td>\n",
       "    </tr>\n",
       "    <tr>\n",
       "      <th>9950</th>\n",
       "      <td>Nicole</td>\n",
       "      <td>LG Optimus L90 D415 4G GSM Android Smartphone ...</td>\n",
       "      <td>10.0</td>\n",
       "      <td>7.706359</td>\n",
       "      <td>False</td>\n",
       "    </tr>\n",
       "    <tr>\n",
       "      <th>15991</th>\n",
       "      <td>Алексей</td>\n",
       "      <td>Samsung Galaxy A3 2016</td>\n",
       "      <td>8.0</td>\n",
       "      <td>8.931976</td>\n",
       "      <td>False</td>\n",
       "    </tr>\n",
       "    <tr>\n",
       "      <th>22085</th>\n",
       "      <td>Nico</td>\n",
       "      <td>Blackberry PRIV STV1004 Smartphone 137 cm 54 Z...</td>\n",
       "      <td>4.0</td>\n",
       "      <td>7.793073</td>\n",
       "      <td>False</td>\n",
       "    </tr>\n",
       "    <tr>\n",
       "      <th>19189</th>\n",
       "      <td>Amazon Customer</td>\n",
       "      <td>Lenovo Vibe X3 White 32GB</td>\n",
       "      <td>10.0</td>\n",
       "      <td>6.855569</td>\n",
       "      <td>False</td>\n",
       "    </tr>\n",
       "    <tr>\n",
       "      <th>5425</th>\n",
       "      <td>Amazon Customer</td>\n",
       "      <td>OnePlus 3T Soft Gold 6GB RAM  64GB memory</td>\n",
       "      <td>10.0</td>\n",
       "      <td>8.213559</td>\n",
       "      <td>False</td>\n",
       "    </tr>\n",
       "    <tr>\n",
       "      <th>21235</th>\n",
       "      <td>Cliente de Amazon</td>\n",
       "      <td>Elephone P8000  Smartphone libre Android panta...</td>\n",
       "      <td>6.0</td>\n",
       "      <td>6.907197</td>\n",
       "      <td>False</td>\n",
       "    </tr>\n",
       "    <tr>\n",
       "      <th>8738</th>\n",
       "      <td>Amazon Customer</td>\n",
       "      <td>Motorola Moto G 4th Gen White 16GB  Android 70...</td>\n",
       "      <td>10.0</td>\n",
       "      <td>7.728324</td>\n",
       "      <td>False</td>\n",
       "    </tr>\n",
       "    <tr>\n",
       "      <th>2837</th>\n",
       "      <td>Amazon Customer</td>\n",
       "      <td>Lenovo Used Lenovo Zuk Z1 Space Grey 64GB</td>\n",
       "      <td>2.0</td>\n",
       "      <td>5.199530</td>\n",
       "      <td>False</td>\n",
       "    </tr>\n",
       "    <tr>\n",
       "      <th>13295</th>\n",
       "      <td>Amazon Kunde</td>\n",
       "      <td>Samsung Galaxy S7 EDGE Smartphone 55 Zoll 139 ...</td>\n",
       "      <td>10.0</td>\n",
       "      <td>8.314777</td>\n",
       "      <td>False</td>\n",
       "    </tr>\n",
       "    <tr>\n",
       "      <th>22837</th>\n",
       "      <td>Nicole</td>\n",
       "      <td>LG Electronics P700 Optimus L7 Smartphone 109 ...</td>\n",
       "      <td>6.0</td>\n",
       "      <td>5.720356</td>\n",
       "      <td>False</td>\n",
       "    </tr>\n",
       "    <tr>\n",
       "      <th>10282</th>\n",
       "      <td>Thomas</td>\n",
       "      <td>Microsoft Nokia Lumia 1520 Smartphone 6 Zoll 1...</td>\n",
       "      <td>10.0</td>\n",
       "      <td>9.051837</td>\n",
       "      <td>False</td>\n",
       "    </tr>\n",
       "    <tr>\n",
       "      <th>21143</th>\n",
       "      <td>Amazon Customer</td>\n",
       "      <td>Honor 6X Grey 32GB</td>\n",
       "      <td>10.0</td>\n",
       "      <td>8.002809</td>\n",
       "      <td>False</td>\n",
       "    </tr>\n",
       "    <tr>\n",
       "      <th>8612</th>\n",
       "      <td>Amazon Customer</td>\n",
       "      <td>YU Yuphoria YU5010A BlackSilver</td>\n",
       "      <td>8.0</td>\n",
       "      <td>6.906930</td>\n",
       "      <td>False</td>\n",
       "    </tr>\n",
       "  </tbody>\n",
       "</table>\n",
       "</div>"
      ],
      "text/plain": [
       "                    user                                               item  \\\n",
       "23703               ebit                  Smartphone Asus ZenFone 3 ZE520KL   \n",
       "9704     Amazon Customer                   Lenovo Vibe K5 Gold VoLTE update   \n",
       "17327     Cliente Amazon  Huawei P9 Lite Smartphone 52 Full hd 3 GB RAM ...   \n",
       "79       Amazon Customer  Lenovo PHAB Plus Tablet 68 inch 32GB WiFi LTE ...   \n",
       "14002    Amazon Customer          Lenovo Used Lenovo Zuk Z1 Space Grey 64GB   \n",
       "14500    Amazon Customer          Lenovo Used Lenovo Zuk Z1 Space Grey 64GB   \n",
       "9027     Amazon Customer                           Nokia 130 Dual SIM Black   \n",
       "9950              Nicole  LG Optimus L90 D415 4G GSM Android Smartphone ...   \n",
       "15991            Алексей                             Samsung Galaxy A3 2016   \n",
       "22085               Nico  Blackberry PRIV STV1004 Smartphone 137 cm 54 Z...   \n",
       "19189    Amazon Customer                          Lenovo Vibe X3 White 32GB   \n",
       "5425     Amazon Customer          OnePlus 3T Soft Gold 6GB RAM  64GB memory   \n",
       "21235  Cliente de Amazon  Elephone P8000  Smartphone libre Android panta...   \n",
       "8738     Amazon Customer  Motorola Moto G 4th Gen White 16GB  Android 70...   \n",
       "2837     Amazon Customer          Lenovo Used Lenovo Zuk Z1 Space Grey 64GB   \n",
       "13295       Amazon Kunde  Samsung Galaxy S7 EDGE Smartphone 55 Zoll 139 ...   \n",
       "22837             Nicole  LG Electronics P700 Optimus L7 Smartphone 109 ...   \n",
       "10282             Thomas  Microsoft Nokia Lumia 1520 Smartphone 6 Zoll 1...   \n",
       "21143    Amazon Customer                                 Honor 6X Grey 32GB   \n",
       "8612     Amazon Customer                    YU Yuphoria YU5010A BlackSilver   \n",
       "\n",
       "       score  predicted_score  was_impossible  \n",
       "23703   10.0         9.277715           False  \n",
       "9704     8.0         7.254228           False  \n",
       "17327   10.0         9.125428           False  \n",
       "79       6.0         6.268403           False  \n",
       "14002    2.0         5.199530           False  \n",
       "14500    2.0         5.199530           False  \n",
       "9027     6.0         7.312241           False  \n",
       "9950    10.0         7.706359           False  \n",
       "15991    8.0         8.931976           False  \n",
       "22085    4.0         7.793073           False  \n",
       "19189   10.0         6.855569           False  \n",
       "5425    10.0         8.213559           False  \n",
       "21235    6.0         6.907197           False  \n",
       "8738    10.0         7.728324           False  \n",
       "2837     2.0         5.199530           False  \n",
       "13295   10.0         8.314777           False  \n",
       "22837    6.0         5.720356           False  \n",
       "10282   10.0         9.051837           False  \n",
       "21143   10.0         8.002809           False  \n",
       "8612     8.0         6.906930           False  "
      ]
     },
     "execution_count": 66,
     "metadata": {},
     "output_type": "execute_result"
    }
   ],
   "source": [
    "# lets display the results in a pandas dataframe for readability\n",
    "result=pd.DataFrame(testset,columns=[\"user\",\"item\",\"score\"])\n",
    "result[\"predicted_score\"]=[rec.est for rec in pred] # predicted ratings\n",
    "result[\"was_impossible\"]=[rec.details.get('was_impossible') for rec in pred] # was_impossible\n",
    "result.sample(20)"
   ]
  },
  {
   "cell_type": "markdown",
   "id": "aa908c5d",
   "metadata": {},
   "source": [
    "**Steps and tasks:**<br>\n",
    "7. Report your findings and inferences"
   ]
  },
  {
   "cell_type": "code",
   "execution_count": 67,
   "id": "c3be8cdd",
   "metadata": {},
   "outputs": [
    {
     "data": {
      "text/html": [
       "<div>\n",
       "<style scoped>\n",
       "    .dataframe tbody tr th:only-of-type {\n",
       "        vertical-align: middle;\n",
       "    }\n",
       "\n",
       "    .dataframe tbody tr th {\n",
       "        vertical-align: top;\n",
       "    }\n",
       "\n",
       "    .dataframe thead th {\n",
       "        text-align: right;\n",
       "    }\n",
       "</style>\n",
       "<table border=\"1\" class=\"dataframe\">\n",
       "  <thead>\n",
       "    <tr style=\"text-align: right;\">\n",
       "      <th></th>\n",
       "      <th>user</th>\n",
       "      <th>item</th>\n",
       "      <th>score</th>\n",
       "      <th>predicted_score</th>\n",
       "      <th>was_impossible</th>\n",
       "    </tr>\n",
       "  </thead>\n",
       "  <tbody>\n",
       "  </tbody>\n",
       "</table>\n",
       "</div>"
      ],
      "text/plain": [
       "Empty DataFrame\n",
       "Columns: [user, item, score, predicted_score, was_impossible]\n",
       "Index: []"
      ]
     },
     "execution_count": 67,
     "metadata": {},
     "output_type": "execute_result"
    }
   ],
   "source": [
    "result[result[\"was_impossible\"]]"
   ]
  },
  {
   "cell_type": "markdown",
   "id": "0251a1c2",
   "metadata": {},
   "source": [
    "every record have been systematically predicted"
   ]
  },
  {
   "cell_type": "code",
   "execution_count": 68,
   "id": "39bd64e7",
   "metadata": {},
   "outputs": [
    {
     "data": {
      "text/html": [
       "<div>\n",
       "<style scoped>\n",
       "    .dataframe tbody tr th:only-of-type {\n",
       "        vertical-align: middle;\n",
       "    }\n",
       "\n",
       "    .dataframe tbody tr th {\n",
       "        vertical-align: top;\n",
       "    }\n",
       "\n",
       "    .dataframe thead th {\n",
       "        text-align: right;\n",
       "    }\n",
       "</style>\n",
       "<table border=\"1\" class=\"dataframe\">\n",
       "  <thead>\n",
       "    <tr style=\"text-align: right;\">\n",
       "      <th></th>\n",
       "      <th>user</th>\n",
       "      <th>item</th>\n",
       "      <th>score</th>\n",
       "      <th>predicted_score</th>\n",
       "      <th>was_impossible</th>\n",
       "    </tr>\n",
       "  </thead>\n",
       "  <tbody>\n",
       "    <tr>\n",
       "      <th>11551</th>\n",
       "      <td>Alessio</td>\n",
       "      <td>Lenovo Motorola Moto G LTE Smartphone Display ...</td>\n",
       "      <td>8.0</td>\n",
       "      <td>10.0</td>\n",
       "      <td>False</td>\n",
       "    </tr>\n",
       "    <tr>\n",
       "      <th>9720</th>\n",
       "      <td>Gianluca</td>\n",
       "      <td>Asus ZE551ML2A760WW Smartphone ZenFone 2 Delux...</td>\n",
       "      <td>8.0</td>\n",
       "      <td>10.0</td>\n",
       "      <td>False</td>\n",
       "    </tr>\n",
       "    <tr>\n",
       "      <th>11864</th>\n",
       "      <td>Massimo</td>\n",
       "      <td>Lenovo Motorola Moto G Smartphone 45 pollici d...</td>\n",
       "      <td>8.0</td>\n",
       "      <td>10.0</td>\n",
       "      <td>False</td>\n",
       "    </tr>\n",
       "    <tr>\n",
       "      <th>2683</th>\n",
       "      <td>Massimo</td>\n",
       "      <td>Asus ZenFone 2 Laser 55 Smartphone 16 GB Dual ...</td>\n",
       "      <td>10.0</td>\n",
       "      <td>10.0</td>\n",
       "      <td>False</td>\n",
       "    </tr>\n",
       "    <tr>\n",
       "      <th>5321</th>\n",
       "      <td>Марина</td>\n",
       "      <td>Samsung Galaxy Note5</td>\n",
       "      <td>10.0</td>\n",
       "      <td>10.0</td>\n",
       "      <td>False</td>\n",
       "    </tr>\n",
       "    <tr>\n",
       "      <th>12164</th>\n",
       "      <td>Andrea</td>\n",
       "      <td>Lenovo Motorola Moto G Smartphone 45 pollici d...</td>\n",
       "      <td>10.0</td>\n",
       "      <td>10.0</td>\n",
       "      <td>False</td>\n",
       "    </tr>\n",
       "    <tr>\n",
       "      <th>20764</th>\n",
       "      <td>Marco</td>\n",
       "      <td>Sony Xperia Z3 Compact Smartphone 16 GB Nero I...</td>\n",
       "      <td>10.0</td>\n",
       "      <td>10.0</td>\n",
       "      <td>False</td>\n",
       "    </tr>\n",
       "    <tr>\n",
       "      <th>12340</th>\n",
       "      <td>Marco</td>\n",
       "      <td>Microsoft Nokia Lumia 630 SingleSIM Smartphone...</td>\n",
       "      <td>10.0</td>\n",
       "      <td>10.0</td>\n",
       "      <td>False</td>\n",
       "    </tr>\n",
       "    <tr>\n",
       "      <th>12576</th>\n",
       "      <td>Paolo</td>\n",
       "      <td>Lenovo Motorola Moto G 4G 2 Generazione Smartp...</td>\n",
       "      <td>8.0</td>\n",
       "      <td>10.0</td>\n",
       "      <td>False</td>\n",
       "    </tr>\n",
       "    <tr>\n",
       "      <th>2440</th>\n",
       "      <td>Andrea</td>\n",
       "      <td>Lenovo Motorola Moto G Smartphone 45 pollici d...</td>\n",
       "      <td>10.0</td>\n",
       "      <td>10.0</td>\n",
       "      <td>False</td>\n",
       "    </tr>\n",
       "  </tbody>\n",
       "</table>\n",
       "</div>"
      ],
      "text/plain": [
       "           user                                               item  score  \\\n",
       "11551   Alessio  Lenovo Motorola Moto G LTE Smartphone Display ...    8.0   \n",
       "9720   Gianluca  Asus ZE551ML2A760WW Smartphone ZenFone 2 Delux...    8.0   \n",
       "11864   Massimo  Lenovo Motorola Moto G Smartphone 45 pollici d...    8.0   \n",
       "2683    Massimo  Asus ZenFone 2 Laser 55 Smartphone 16 GB Dual ...   10.0   \n",
       "5321     Марина                               Samsung Galaxy Note5   10.0   \n",
       "12164    Andrea  Lenovo Motorola Moto G Smartphone 45 pollici d...   10.0   \n",
       "20764     Marco  Sony Xperia Z3 Compact Smartphone 16 GB Nero I...   10.0   \n",
       "12340     Marco  Microsoft Nokia Lumia 630 SingleSIM Smartphone...   10.0   \n",
       "12576     Paolo  Lenovo Motorola Moto G 4G 2 Generazione Smartp...    8.0   \n",
       "2440     Andrea  Lenovo Motorola Moto G Smartphone 45 pollici d...   10.0   \n",
       "\n",
       "       predicted_score  was_impossible  \n",
       "11551             10.0           False  \n",
       "9720              10.0           False  \n",
       "11864             10.0           False  \n",
       "2683              10.0           False  \n",
       "5321              10.0           False  \n",
       "12164             10.0           False  \n",
       "20764             10.0           False  \n",
       "12340             10.0           False  \n",
       "12576             10.0           False  \n",
       "2440              10.0           False  "
      ]
     },
     "execution_count": 68,
     "metadata": {},
     "output_type": "execute_result"
    }
   ],
   "source": [
    "# top ten recommendations for the whole of test users\n",
    "result.sort_values(by=['predicted_score'],ascending=False).head(10)"
   ]
  },
  {
   "cell_type": "markdown",
   "id": "9bf1ab70",
   "metadata": {},
   "source": [
    "the top 10 recommendations were actually possessing good ratings, hence a fairly good prediction is arrived"
   ]
  },
  {
   "cell_type": "code",
   "execution_count": 69,
   "id": "85e9f8fa",
   "metadata": {},
   "outputs": [
    {
     "data": {
      "text/html": [
       "<div>\n",
       "<style scoped>\n",
       "    .dataframe tbody tr th:only-of-type {\n",
       "        vertical-align: middle;\n",
       "    }\n",
       "\n",
       "    .dataframe tbody tr th {\n",
       "        vertical-align: top;\n",
       "    }\n",
       "\n",
       "    .dataframe thead th {\n",
       "        text-align: right;\n",
       "    }\n",
       "</style>\n",
       "<table border=\"1\" class=\"dataframe\">\n",
       "  <thead>\n",
       "    <tr style=\"text-align: right;\">\n",
       "      <th></th>\n",
       "      <th>user</th>\n",
       "      <th>item</th>\n",
       "      <th>score</th>\n",
       "      <th>predicted_score</th>\n",
       "      <th>was_impossible</th>\n",
       "    </tr>\n",
       "  </thead>\n",
       "  <tbody>\n",
       "    <tr>\n",
       "      <th>11475</th>\n",
       "      <td>James</td>\n",
       "      <td>APPLE iPhone 7 Plus  Black 128 GB</td>\n",
       "      <td>1.0</td>\n",
       "      <td>10.0</td>\n",
       "      <td>False</td>\n",
       "    </tr>\n",
       "    <tr>\n",
       "      <th>3000</th>\n",
       "      <td>Amazon Kunde</td>\n",
       "      <td>Microsoft Lumia 640 XL DualSIM LTE Smartphone ...</td>\n",
       "      <td>2.0</td>\n",
       "      <td>10.0</td>\n",
       "      <td>False</td>\n",
       "    </tr>\n",
       "    <tr>\n",
       "      <th>3739</th>\n",
       "      <td>Дмитрий</td>\n",
       "      <td>Nokia 101 Premium Black</td>\n",
       "      <td>2.0</td>\n",
       "      <td>10.0</td>\n",
       "      <td>False</td>\n",
       "    </tr>\n",
       "    <tr>\n",
       "      <th>4663</th>\n",
       "      <td>AmazonKunde</td>\n",
       "      <td>Sony Xperia Z1 Compact Smartphone 43 Zoll 109 ...</td>\n",
       "      <td>2.0</td>\n",
       "      <td>10.0</td>\n",
       "      <td>False</td>\n",
       "    </tr>\n",
       "    <tr>\n",
       "      <th>7961</th>\n",
       "      <td>Amazon Kunde</td>\n",
       "      <td>Microsoft Lumia 640 XL DualSIM LTE Smartphone ...</td>\n",
       "      <td>2.0</td>\n",
       "      <td>10.0</td>\n",
       "      <td>False</td>\n",
       "    </tr>\n",
       "    <tr>\n",
       "      <th>17904</th>\n",
       "      <td>Peter</td>\n",
       "      <td>Samsung Galaxy J5 Smartphone 5 Zoll 127 cm Tou...</td>\n",
       "      <td>2.0</td>\n",
       "      <td>10.0</td>\n",
       "      <td>False</td>\n",
       "    </tr>\n",
       "    <tr>\n",
       "      <th>21057</th>\n",
       "      <td>Marco</td>\n",
       "      <td>WIKO Fever 4G Smartphone 16 GB Dual SIM Bianco</td>\n",
       "      <td>2.0</td>\n",
       "      <td>10.0</td>\n",
       "      <td>False</td>\n",
       "    </tr>\n",
       "    <tr>\n",
       "      <th>1093</th>\n",
       "      <td>Massimiliano</td>\n",
       "      <td>Apple iPhone 5C 16GB  sbloccato  blu  ciano</td>\n",
       "      <td>4.0</td>\n",
       "      <td>10.0</td>\n",
       "      <td>False</td>\n",
       "    </tr>\n",
       "    <tr>\n",
       "      <th>2157</th>\n",
       "      <td>Andrea</td>\n",
       "      <td>Asus ZenFone 2 Laser Smartphone Display da 5 1...</td>\n",
       "      <td>4.0</td>\n",
       "      <td>10.0</td>\n",
       "      <td>False</td>\n",
       "    </tr>\n",
       "    <tr>\n",
       "      <th>2878</th>\n",
       "      <td>Daniel</td>\n",
       "      <td>Samsung Galaxy Note 3 Smartphone 145 cm 57 Zol...</td>\n",
       "      <td>4.0</td>\n",
       "      <td>10.0</td>\n",
       "      <td>False</td>\n",
       "    </tr>\n",
       "  </tbody>\n",
       "</table>\n",
       "</div>"
      ],
      "text/plain": [
       "               user                                               item  score  \\\n",
       "11475         James                  APPLE iPhone 7 Plus  Black 128 GB    1.0   \n",
       "3000   Amazon Kunde  Microsoft Lumia 640 XL DualSIM LTE Smartphone ...    2.0   \n",
       "3739        Дмитрий                            Nokia 101 Premium Black    2.0   \n",
       "4663    AmazonKunde  Sony Xperia Z1 Compact Smartphone 43 Zoll 109 ...    2.0   \n",
       "7961   Amazon Kunde  Microsoft Lumia 640 XL DualSIM LTE Smartphone ...    2.0   \n",
       "17904         Peter  Samsung Galaxy J5 Smartphone 5 Zoll 127 cm Tou...    2.0   \n",
       "21057         Marco     WIKO Fever 4G Smartphone 16 GB Dual SIM Bianco    2.0   \n",
       "1093   Massimiliano        Apple iPhone 5C 16GB  sbloccato  blu  ciano    4.0   \n",
       "2157         Andrea  Asus ZenFone 2 Laser Smartphone Display da 5 1...    4.0   \n",
       "2878         Daniel  Samsung Galaxy Note 3 Smartphone 145 cm 57 Zol...    4.0   \n",
       "\n",
       "       predicted_score  was_impossible  \n",
       "11475             10.0           False  \n",
       "3000              10.0           False  \n",
       "3739              10.0           False  \n",
       "4663              10.0           False  \n",
       "7961              10.0           False  \n",
       "17904             10.0           False  \n",
       "21057             10.0           False  \n",
       "1093              10.0           False  \n",
       "2157              10.0           False  \n",
       "2878              10.0           False  "
      ]
     },
     "execution_count": 69,
     "metadata": {},
     "output_type": "execute_result"
    }
   ],
   "source": [
    "# lets counter check for poor predictions\n",
    "result.sort_values(by=['predicted_score','score'],ascending=[False,True]).head(10)"
   ]
  },
  {
   "cell_type": "markdown",
   "id": "98a1e40c",
   "metadata": {},
   "source": [
    "these are certain false predictions which account for the error score"
   ]
  },
  {
   "cell_type": "markdown",
   "id": "fe1b1919",
   "metadata": {},
   "source": [
    "**Steps and tasks:**<br>\n",
    "8. Try and recommend top 5 products for test users."
   ]
  },
  {
   "cell_type": "code",
   "execution_count": 70,
   "id": "481fb702",
   "metadata": {
    "scrolled": false
   },
   "outputs": [
    {
     "data": {
      "text/html": [
       "<div>\n",
       "<style scoped>\n",
       "    .dataframe tbody tr th:only-of-type {\n",
       "        vertical-align: middle;\n",
       "    }\n",
       "\n",
       "    .dataframe tbody tr th {\n",
       "        vertical-align: top;\n",
       "    }\n",
       "\n",
       "    .dataframe thead th {\n",
       "        text-align: right;\n",
       "    }\n",
       "</style>\n",
       "<table border=\"1\" class=\"dataframe\">\n",
       "  <thead>\n",
       "    <tr style=\"text-align: right;\">\n",
       "      <th></th>\n",
       "      <th>user</th>\n",
       "      <th>rec_1</th>\n",
       "      <th>rec_2</th>\n",
       "      <th>rec_3</th>\n",
       "      <th>rec_4</th>\n",
       "      <th>rec_5</th>\n",
       "    </tr>\n",
       "  </thead>\n",
       "  <tbody>\n",
       "    <tr>\n",
       "      <th>28</th>\n",
       "      <td>AmazonKunde</td>\n",
       "      <td>Samsung Galaxy Note 3 Smartphone 145 cm 57 Zol...</td>\n",
       "      <td>Sony Xperia Z1 Compact Smartphone 43 Zoll 109 ...</td>\n",
       "      <td>Samsung Galaxy S4 Active Smartphone 127 cm 5 Z...</td>\n",
       "      <td>Samsung Galaxy S4 Active Smartphone 127 cm 5 Z...</td>\n",
       "      <td>Samsung Galaxy Note II N7100 Smartphone 16GB 1...</td>\n",
       "    </tr>\n",
       "    <tr>\n",
       "      <th>545</th>\n",
       "      <td>stefano</td>\n",
       "      <td>Lenovo Motorola Moto G LTE Smartphone Display ...</td>\n",
       "      <td>LG D802 G2 Smartphone 16 GB Nero Italia</td>\n",
       "      <td>Lenovo Motorola Moto G 4G 2 Generazione Smartp...</td>\n",
       "      <td>Huawei P8 lite Smartphone Display 50 IPS Dual ...</td>\n",
       "      <td>Samsung A500 Galaxy A5 Smartphone 16 GB Nero I...</td>\n",
       "    </tr>\n",
       "    <tr>\n",
       "      <th>153</th>\n",
       "      <td>Giorgio</td>\n",
       "      <td>Asus ZE551ML2A760WW Smartphone ZenFone 2 Delux...</td>\n",
       "      <td>Huawei P9 Lite Smartphone LTE Display 52 FHD P...</td>\n",
       "      <td>Lenovo Motorola Moto G Smartphone Display HD 4...</td>\n",
       "      <td>Lenovo Motorola Moto G 4G 3 Generazione Smartp...</td>\n",
       "      <td>Meizu M2 Note Smartphone 55 Full HD 4G 13MPX D...</td>\n",
       "    </tr>\n",
       "    <tr>\n",
       "      <th>285</th>\n",
       "      <td>Melissa</td>\n",
       "      <td>Samsung Galaxy S6 SMG920F Factory Unlocked Cel...</td>\n",
       "      <td>Samsung Convoy 3 SCHU680 Rugged 3G Cell Phone ...</td>\n",
       "      <td>LG Nexus 5X Unlocked Smartphone  White 32GB US...</td>\n",
       "      <td>Motorola Moto E 2nd Generation Locked Cellphon...</td>\n",
       "      <td>Verizon LG Ally VS740 3G WiFi Camera Android S...</td>\n",
       "    </tr>\n",
       "    <tr>\n",
       "      <th>446</th>\n",
       "      <td>delicate</td>\n",
       "      <td>Nokia E51 Cep Telefonu</td>\n",
       "      <td>Nokia E51 Cep Telefonu</td>\n",
       "      <td>Nokia 6288 Cep Telefonu</td>\n",
       "      <td>Nokia N95 8 GB Cep Telefonu</td>\n",
       "      <td>Nokia 5800 XpressMusic Cep Telefonu</td>\n",
       "    </tr>\n",
       "    <tr>\n",
       "      <th>132</th>\n",
       "      <td>Filippo</td>\n",
       "      <td>Huawei P9 Lite Smartphone LTE Display 52 FHD P...</td>\n",
       "      <td>Lenovo Motorola Moto G Smartphone Display HD 4...</td>\n",
       "      <td>Samsung Galaxy S7 Smartphone 32 GB Nero</td>\n",
       "      <td>Honor 7 Smartphone 4G Display Full HD 52 Polli...</td>\n",
       "      <td>LG D855 G3 Smartphone 32 GB Nero Metallico Italia</td>\n",
       "    </tr>\n",
       "    <tr>\n",
       "      <th>271</th>\n",
       "      <td>Martin</td>\n",
       "      <td>Huawei P9 grijs zwart  32 GB</td>\n",
       "      <td>APPLE iPhone 7  Silver 32 GB</td>\n",
       "      <td>HUAWEI P9 Lite  16 GB Black</td>\n",
       "      <td>HUAWEI P9 Lite  16 GB Black</td>\n",
       "      <td>HTC Desire X Smartphone 1 GHz DualCore Prozess...</td>\n",
       "    </tr>\n",
       "    <tr>\n",
       "      <th>327</th>\n",
       "      <td>Qantas</td>\n",
       "      <td>HTC One X</td>\n",
       "      <td>Huawei Ascend Mate</td>\n",
       "      <td>Huawei Ascend Mate</td>\n",
       "      <td>HTC Windows Phone 8X</td>\n",
       "      <td>Samsung Galaxy Express I8730</td>\n",
       "    </tr>\n",
       "    <tr>\n",
       "      <th>368</th>\n",
       "      <td>Sarah</td>\n",
       "      <td>Huawei P9 grijs zwart  32 GB</td>\n",
       "      <td>Samsung Verizon Samsung Alias 2 U750 No Contra...</td>\n",
       "      <td>Honor 7 Smartphone débloqué 4G Ecran 52 pouces...</td>\n",
       "      <td>Samsung Galaxy S II i9100 DualCore Smartphone ...</td>\n",
       "      <td>Samsung B2100 Solid Extreme Sim Free Mobile Phone</td>\n",
       "    </tr>\n",
       "    <tr>\n",
       "      <th>53</th>\n",
       "      <td>Arun</td>\n",
       "      <td>Asus Zenfone Max ZC550KL6A076IN Black 3GB 32GB</td>\n",
       "      <td>SAMSUNG Galaxy J7  6 New 2016 Edition White 16 GB</td>\n",
       "      <td>OnePlus 3 Graphite 64 GB</td>\n",
       "      <td>Nokia Microsoft Lumia 640 Windows 81 Phone 4G ...</td>\n",
       "      <td>OnePlus X Onyx 16GB</td>\n",
       "    </tr>\n",
       "    <tr>\n",
       "      <th>244</th>\n",
       "      <td>Luciano</td>\n",
       "      <td>LG G4 Smartphone Display IPS 55 QHD Fotocamera...</td>\n",
       "      <td>Nokia Lumia 635 Smartphone 8 GB Nero Italia</td>\n",
       "      <td>Asus ZenFone 2 Laser 55 Smartphone 16 GB Dual ...</td>\n",
       "      <td>Samsung I9505 Galaxy S4 Smartphone 16 GB Italia</td>\n",
       "      <td>Sony Xperia Tipo  Smartphone libre pantalla tá...</td>\n",
       "    </tr>\n",
       "    <tr>\n",
       "      <th>607</th>\n",
       "      <td>Николай</td>\n",
       "      <td>Samsung Galaxy Note5</td>\n",
       "      <td>Sony Xperia Z1 Compact белый</td>\n",
       "      <td>Sony Xperia M белый</td>\n",
       "      <td>Samsung N7100 Galaxy Note II 16GB белый</td>\n",
       "      <td>Sony Xperia Z1 Compact розовый</td>\n",
       "    </tr>\n",
       "    <tr>\n",
       "      <th>398</th>\n",
       "      <td>Un anonyme</td>\n",
       "      <td>Nokia 6230i</td>\n",
       "      <td>Motorola RAZR V3</td>\n",
       "      <td>Motorola RAZR V3</td>\n",
       "      <td>Sony Xperia Z3 Compact</td>\n",
       "      <td>Sony Xperia SP</td>\n",
       "    </tr>\n",
       "    <tr>\n",
       "      <th>291</th>\n",
       "      <td>Mike</td>\n",
       "      <td>LG Electronics Nexus 5 UK Smartphone  Black 16GB</td>\n",
       "      <td>Samsung Galaxy A5 2016 Smartphone 52 Zoll 1322...</td>\n",
       "      <td>LG Dare</td>\n",
       "      <td>Motorola Moto G 4G SIMFree Smartphone  Black 8...</td>\n",
       "      <td>HTC One M7  32GB UK SIMFree Smartphone  Silver...</td>\n",
       "    </tr>\n",
       "    <tr>\n",
       "      <th>169</th>\n",
       "      <td>JC</td>\n",
       "      <td>Huawei Ascend G700 Smartphone 127 cm 5 Zoll To...</td>\n",
       "      <td>Huawei Honor 5X Unlocked Smartphone 16GB Dark ...</td>\n",
       "      <td>Wiko Rainbow Smartphone Bluetooth Android 4 Go...</td>\n",
       "      <td>Apple iPhone 4S 16GB SIMFree  Black</td>\n",
       "      <td>apple Iphone 4 Back glass cover Black</td>\n",
       "    </tr>\n",
       "    <tr>\n",
       "      <th>617</th>\n",
       "      <td>Станислав</td>\n",
       "      <td>Samsung C5212 Duos</td>\n",
       "      <td>Samsung I8190 Galaxy S III mini 8GB серый</td>\n",
       "      <td>Samsung Galaxy S5 SMG900F 16GB синий</td>\n",
       "      <td>Sony Xperia Z черный</td>\n",
       "      <td>Nokia 5800 XpressMusic</td>\n",
       "    </tr>\n",
       "    <tr>\n",
       "      <th>599</th>\n",
       "      <td>Макс</td>\n",
       "      <td>LG X power белый</td>\n",
       "      <td>Samsung I9082 Galaxy Grand Duos белый</td>\n",
       "      <td>Nokia Lumia 920 White</td>\n",
       "      <td>Sony Xperia M черный</td>\n",
       "      <td>Samsung Galaxy S4 GTI9500 16GB черный</td>\n",
       "    </tr>\n",
       "    <tr>\n",
       "      <th>408</th>\n",
       "      <td>Will</td>\n",
       "      <td>Samsung ATIV S</td>\n",
       "      <td>LG Nexus 5X Unlocked Smartphone  White 32GB US...</td>\n",
       "      <td>Motorola Moto G 3rd Generation LTE UK SIMFree ...</td>\n",
       "      <td>Motorola W175</td>\n",
       "      <td>Samsung Galaxy Prevail 1 m820 No Contract Andr...</td>\n",
       "    </tr>\n",
       "    <tr>\n",
       "      <th>518</th>\n",
       "      <td>ozer1299</td>\n",
       "      <td>Nokia E51 Cep Telefonu</td>\n",
       "      <td>Nokia N70 Cep Telefonu SILVER BLACK</td>\n",
       "      <td>Nokia 6288 Cep Telefonu</td>\n",
       "      <td>Nokia 6500 Slide Cep Telefonu</td>\n",
       "      <td>None</td>\n",
       "    </tr>\n",
       "    <tr>\n",
       "      <th>128</th>\n",
       "      <td>Fabrizio</td>\n",
       "      <td>Lenovo Motorola Moto G Smartphone Display HD 4...</td>\n",
       "      <td>Lenovo Motorola Moto G Smartphone 45 pollici d...</td>\n",
       "      <td>Huawei P9 Smartphone LTE Display 52 FHD Memori...</td>\n",
       "      <td>Sony C2105 Xperia L Smartphone Fotocamera 8 Me...</td>\n",
       "      <td>Asus ZenFone 2 Smartphone Schermo da 55 Full H...</td>\n",
       "    </tr>\n",
       "  </tbody>\n",
       "</table>\n",
       "</div>"
      ],
      "text/plain": [
       "            user                                              rec_1  \\\n",
       "28   AmazonKunde  Samsung Galaxy Note 3 Smartphone 145 cm 57 Zol...   \n",
       "545      stefano  Lenovo Motorola Moto G LTE Smartphone Display ...   \n",
       "153      Giorgio  Asus ZE551ML2A760WW Smartphone ZenFone 2 Delux...   \n",
       "285      Melissa  Samsung Galaxy S6 SMG920F Factory Unlocked Cel...   \n",
       "446     delicate                             Nokia E51 Cep Telefonu   \n",
       "132      Filippo  Huawei P9 Lite Smartphone LTE Display 52 FHD P...   \n",
       "271       Martin                       Huawei P9 grijs zwart  32 GB   \n",
       "327       Qantas                                          HTC One X   \n",
       "368        Sarah                       Huawei P9 grijs zwart  32 GB   \n",
       "53          Arun     Asus Zenfone Max ZC550KL6A076IN Black 3GB 32GB   \n",
       "244      Luciano  LG G4 Smartphone Display IPS 55 QHD Fotocamera...   \n",
       "607      Николай                               Samsung Galaxy Note5   \n",
       "398   Un anonyme                                        Nokia 6230i   \n",
       "291         Mike   LG Electronics Nexus 5 UK Smartphone  Black 16GB   \n",
       "169           JC  Huawei Ascend G700 Smartphone 127 cm 5 Zoll To...   \n",
       "617    Станислав                                 Samsung C5212 Duos   \n",
       "599         Макс                                   LG X power белый   \n",
       "408         Will                                     Samsung ATIV S   \n",
       "518     ozer1299                             Nokia E51 Cep Telefonu   \n",
       "128     Fabrizio  Lenovo Motorola Moto G Smartphone Display HD 4...   \n",
       "\n",
       "                                                 rec_2  \\\n",
       "28   Sony Xperia Z1 Compact Smartphone 43 Zoll 109 ...   \n",
       "545            LG D802 G2 Smartphone 16 GB Nero Italia   \n",
       "153  Huawei P9 Lite Smartphone LTE Display 52 FHD P...   \n",
       "285  Samsung Convoy 3 SCHU680 Rugged 3G Cell Phone ...   \n",
       "446                             Nokia E51 Cep Telefonu   \n",
       "132  Lenovo Motorola Moto G Smartphone Display HD 4...   \n",
       "271                       APPLE iPhone 7  Silver 32 GB   \n",
       "327                                 Huawei Ascend Mate   \n",
       "368  Samsung Verizon Samsung Alias 2 U750 No Contra...   \n",
       "53   SAMSUNG Galaxy J7  6 New 2016 Edition White 16 GB   \n",
       "244        Nokia Lumia 635 Smartphone 8 GB Nero Italia   \n",
       "607                       Sony Xperia Z1 Compact белый   \n",
       "398                                   Motorola RAZR V3   \n",
       "291  Samsung Galaxy A5 2016 Smartphone 52 Zoll 1322...   \n",
       "169  Huawei Honor 5X Unlocked Smartphone 16GB Dark ...   \n",
       "617          Samsung I8190 Galaxy S III mini 8GB серый   \n",
       "599              Samsung I9082 Galaxy Grand Duos белый   \n",
       "408  LG Nexus 5X Unlocked Smartphone  White 32GB US...   \n",
       "518                Nokia N70 Cep Telefonu SILVER BLACK   \n",
       "128  Lenovo Motorola Moto G Smartphone 45 pollici d...   \n",
       "\n",
       "                                                 rec_3  \\\n",
       "28   Samsung Galaxy S4 Active Smartphone 127 cm 5 Z...   \n",
       "545  Lenovo Motorola Moto G 4G 2 Generazione Smartp...   \n",
       "153  Lenovo Motorola Moto G Smartphone Display HD 4...   \n",
       "285  LG Nexus 5X Unlocked Smartphone  White 32GB US...   \n",
       "446                            Nokia 6288 Cep Telefonu   \n",
       "132            Samsung Galaxy S7 Smartphone 32 GB Nero   \n",
       "271                        HUAWEI P9 Lite  16 GB Black   \n",
       "327                                 Huawei Ascend Mate   \n",
       "368  Honor 7 Smartphone débloqué 4G Ecran 52 pouces...   \n",
       "53                            OnePlus 3 Graphite 64 GB   \n",
       "244  Asus ZenFone 2 Laser 55 Smartphone 16 GB Dual ...   \n",
       "607                                Sony Xperia M белый   \n",
       "398                                   Motorola RAZR V3   \n",
       "291                                            LG Dare   \n",
       "169  Wiko Rainbow Smartphone Bluetooth Android 4 Go...   \n",
       "617               Samsung Galaxy S5 SMG900F 16GB синий   \n",
       "599                              Nokia Lumia 920 White   \n",
       "408  Motorola Moto G 3rd Generation LTE UK SIMFree ...   \n",
       "518                            Nokia 6288 Cep Telefonu   \n",
       "128  Huawei P9 Smartphone LTE Display 52 FHD Memori...   \n",
       "\n",
       "                                                 rec_4  \\\n",
       "28   Samsung Galaxy S4 Active Smartphone 127 cm 5 Z...   \n",
       "545  Huawei P8 lite Smartphone Display 50 IPS Dual ...   \n",
       "153  Lenovo Motorola Moto G 4G 3 Generazione Smartp...   \n",
       "285  Motorola Moto E 2nd Generation Locked Cellphon...   \n",
       "446                        Nokia N95 8 GB Cep Telefonu   \n",
       "132  Honor 7 Smartphone 4G Display Full HD 52 Polli...   \n",
       "271                        HUAWEI P9 Lite  16 GB Black   \n",
       "327                               HTC Windows Phone 8X   \n",
       "368  Samsung Galaxy S II i9100 DualCore Smartphone ...   \n",
       "53   Nokia Microsoft Lumia 640 Windows 81 Phone 4G ...   \n",
       "244    Samsung I9505 Galaxy S4 Smartphone 16 GB Italia   \n",
       "607            Samsung N7100 Galaxy Note II 16GB белый   \n",
       "398                             Sony Xperia Z3 Compact   \n",
       "291  Motorola Moto G 4G SIMFree Smartphone  Black 8...   \n",
       "169                Apple iPhone 4S 16GB SIMFree  Black   \n",
       "617                               Sony Xperia Z черный   \n",
       "599                               Sony Xperia M черный   \n",
       "408                                      Motorola W175   \n",
       "518                      Nokia 6500 Slide Cep Telefonu   \n",
       "128  Sony C2105 Xperia L Smartphone Fotocamera 8 Me...   \n",
       "\n",
       "                                                 rec_5  \n",
       "28   Samsung Galaxy Note II N7100 Smartphone 16GB 1...  \n",
       "545  Samsung A500 Galaxy A5 Smartphone 16 GB Nero I...  \n",
       "153  Meizu M2 Note Smartphone 55 Full HD 4G 13MPX D...  \n",
       "285  Verizon LG Ally VS740 3G WiFi Camera Android S...  \n",
       "446                Nokia 5800 XpressMusic Cep Telefonu  \n",
       "132  LG D855 G3 Smartphone 32 GB Nero Metallico Italia  \n",
       "271  HTC Desire X Smartphone 1 GHz DualCore Prozess...  \n",
       "327                       Samsung Galaxy Express I8730  \n",
       "368  Samsung B2100 Solid Extreme Sim Free Mobile Phone  \n",
       "53                                 OnePlus X Onyx 16GB  \n",
       "244  Sony Xperia Tipo  Smartphone libre pantalla tá...  \n",
       "607                     Sony Xperia Z1 Compact розовый  \n",
       "398                                     Sony Xperia SP  \n",
       "291  HTC One M7  32GB UK SIMFree Smartphone  Silver...  \n",
       "169              apple Iphone 4 Back glass cover Black  \n",
       "617                             Nokia 5800 XpressMusic  \n",
       "599              Samsung Galaxy S4 GTI9500 16GB черный  \n",
       "408  Samsung Galaxy Prevail 1 m820 No Contract Andr...  \n",
       "518                                               None  \n",
       "128  Asus ZenFone 2 Smartphone Schermo da 55 Full H...  "
      ]
     },
     "execution_count": 70,
     "metadata": {},
     "output_type": "execute_result"
    }
   ],
   "source": [
    "test_users=sorted(set(result[\"user\"])) #obtain user list\n",
    "recommendations=[]\n",
    "for user in test_users:\n",
    "    record=[user]\n",
    "    # obtain top 5 score estimates with top support\n",
    "    record.extend(list(result[result[\"user\"]==user].sort_values(by=[\"predicted_score\"],ascending=False).head(5).item))\n",
    "    recommendations.append(record)\n",
    "recoms=pd.DataFrame(recommendations,columns=[\"user\",\"rec_1\",\"rec_2\",\"rec_3\",\"rec_4\",\"rec_5\"])\n",
    "\n",
    "# display recommendations\n",
    "recoms.sample(20)"
   ]
  },
  {
   "cell_type": "markdown",
   "id": "770147a8",
   "metadata": {},
   "source": [
    "**Steps and tasks:**<br>\n",
    "9. Try other techniques (Example: cross validation) to get better results."
   ]
  },
  {
   "cell_type": "code",
   "execution_count": 71,
   "id": "b65b198a",
   "metadata": {},
   "outputs": [
    {
     "name": "stdout",
     "output_type": "stream",
     "text": [
      "SVD CF\n",
      "RMSE (testset)  2.6718\n"
     ]
    }
   ],
   "source": [
    "# for reference\n",
    "print(\"SVD CF\")\n",
    "print(\"RMSE (testset)  %.4f\"%accuracy.rmse(svd_cf.test(testset),verbose=False))"
   ]
  },
  {
   "cell_type": "code",
   "execution_count": 72,
   "id": "faa1ca34",
   "metadata": {},
   "outputs": [
    {
     "name": "stdout",
     "output_type": "stream",
     "text": [
      "Evaluating RMSE of algorithm SVD on 10 split(s).\n",
      "\n",
      "                  Fold 1  Fold 2  Fold 3  Fold 4  Fold 5  Fold 6  Fold 7  Fold 8  Fold 9  Fold 10 Mean    Std     \n",
      "RMSE (testset)    2.7130  2.6662  2.6260  2.6825  2.6873  2.6580  2.6615  2.6746  2.6890  2.7087  2.6767  0.0243  \n",
      "RMSE (trainset)   2.3226  2.3223  2.3277  2.3196  2.3246  2.3258  2.3235  2.3217  2.3261  2.3164  2.3230  0.0031  \n",
      "Fit time          5.99    6.13    6.17    6.31    6.12    6.18    6.14    6.09    3.76    3.46    5.64    1.02    \n",
      "Test time         0.07    0.08    0.08    0.08    0.08    0.08    0.08    0.08    0.06    0.06    0.08    0.01    \n"
     ]
    }
   ],
   "source": [
    "# lets obtain the cross validation scores for the same algorithm\n",
    "svd_CV = cross_validate(svd_cf, data, measures=[u'rmse'], cv=10, return_train_measures=True,\n",
    "               n_jobs=-1, pre_dispatch=u'2*n_jobs', verbose=True)"
   ]
  },
  {
   "cell_type": "code",
   "execution_count": 73,
   "id": "0fa39324",
   "metadata": {},
   "outputs": [
    {
     "name": "stdout",
     "output_type": "stream",
     "text": [
      "SVD CF Cross Validation scores\n",
      "RMSE (testset)  mean 2.6767 ± 0.0243 at 95% confidence\n"
     ]
    }
   ],
   "source": [
    "# summarise the score\n",
    "print(\"SVD CF Cross Validation scores\")\n",
    "print(\"RMSE (testset)  mean %.4f %s %.4f at 95%% confidence\"%(svd_CV.get('test_rmse').mean(),\n",
    "                                                              chr(177),svd_CV.get('test_rmse').std()))"
   ]
  },
  {
   "cell_type": "code",
   "execution_count": 74,
   "id": "9d43b748",
   "metadata": {},
   "outputs": [
    {
     "data": {
      "text/plain": [
       "0.024321352557053443"
      ]
     },
     "execution_count": 74,
     "metadata": {},
     "output_type": "execute_result"
    }
   ],
   "source": [
    "svd_CV.get('test_rmse').std()"
   ]
  },
  {
   "cell_type": "code",
   "execution_count": 75,
   "id": "53162467",
   "metadata": {},
   "outputs": [],
   "source": [
    "# lets hyper tune our SVD CF recommender\n",
    "param_grid = {'n_factors':[10,50,100,200],\n",
    "              'n_epochs': [5, 10],\n",
    "              'biased':[True,False],\n",
    "              'lr_all': [0.002, 0.005],\n",
    "              'reg_all': [0.02, 0.1, 0.3, 0.6]}\n",
    "\n",
    "gs=GridSearchCV(SVD, param_grid, measures=[u'rmse'], cv=10, n_jobs=-1, pre_dispatch=u'2*n_jobs', joblib_verbose=1)"
   ]
  },
  {
   "cell_type": "code",
   "execution_count": 76,
   "id": "028c79f5",
   "metadata": {},
   "outputs": [
    {
     "name": "stderr",
     "output_type": "stream",
     "text": [
      "[Parallel(n_jobs=-1)]: Using backend LokyBackend with 8 concurrent workers.\n",
      "[Parallel(n_jobs=-1)]: Done  34 tasks      | elapsed:    3.5s\n",
      "[Parallel(n_jobs=-1)]: Done 184 tasks      | elapsed:   18.3s\n",
      "[Parallel(n_jobs=-1)]: Done 434 tasks      | elapsed:   55.5s\n",
      "[Parallel(n_jobs=-1)]: Done 784 tasks      | elapsed:  2.3min\n",
      "[Parallel(n_jobs=-1)]: Done 1234 tasks      | elapsed:  6.0min\n"
     ]
    },
    {
     "name": "stdout",
     "output_type": "stream",
     "text": [
      "CPU times: user 1min 39s, sys: 1.16 s, total: 1min 40s\n",
      "Wall time: 6min 32s\n"
     ]
    },
    {
     "name": "stderr",
     "output_type": "stream",
     "text": [
      "[Parallel(n_jobs=-1)]: Done 1280 out of 1280 | elapsed:  6.5min finished\n"
     ]
    }
   ],
   "source": [
    "%%time\n",
    "gs.fit(data)"
   ]
  },
  {
   "cell_type": "code",
   "execution_count": 77,
   "id": "51f366ef",
   "metadata": {},
   "outputs": [
    {
     "data": {
      "text/plain": [
       "{'rmse': {'n_factors': 10,\n",
       "  'n_epochs': 10,\n",
       "  'biased': True,\n",
       "  'lr_all': 0.005,\n",
       "  'reg_all': 0.1}}"
      ]
     },
     "execution_count": 77,
     "metadata": {},
     "output_type": "execute_result"
    }
   ],
   "source": [
    "# review best parameters\n",
    "gs.best_params"
   ]
  },
  {
   "cell_type": "code",
   "execution_count": 78,
   "id": "3d19a202",
   "metadata": {},
   "outputs": [
    {
     "data": {
      "text/plain": [
       "{'rmse': 2.6069445650029994}"
      ]
     },
     "execution_count": 78,
     "metadata": {},
     "output_type": "execute_result"
    }
   ],
   "source": [
    "# display the best score\n",
    "gs.best_score"
   ]
  },
  {
   "cell_type": "markdown",
   "id": "9dd9168a",
   "metadata": {},
   "source": [
    "the RMSE have improved from 2.67 to 2.60<br>\n",
    "lets us predict the top  recommendations for the test user using best model"
   ]
  },
  {
   "cell_type": "code",
   "execution_count": 79,
   "id": "3195f8d0",
   "metadata": {},
   "outputs": [
    {
     "data": {
      "text/html": [
       "<div>\n",
       "<style scoped>\n",
       "    .dataframe tbody tr th:only-of-type {\n",
       "        vertical-align: middle;\n",
       "    }\n",
       "\n",
       "    .dataframe tbody tr th {\n",
       "        vertical-align: top;\n",
       "    }\n",
       "\n",
       "    .dataframe thead th {\n",
       "        text-align: right;\n",
       "    }\n",
       "</style>\n",
       "<table border=\"1\" class=\"dataframe\">\n",
       "  <thead>\n",
       "    <tr style=\"text-align: right;\">\n",
       "      <th></th>\n",
       "      <th>user</th>\n",
       "      <th>rec_1</th>\n",
       "      <th>rec_2</th>\n",
       "      <th>rec_3</th>\n",
       "      <th>rec_4</th>\n",
       "      <th>rec_5</th>\n",
       "    </tr>\n",
       "  </thead>\n",
       "  <tbody>\n",
       "    <tr>\n",
       "      <th>3</th>\n",
       "      <td>Aaron</td>\n",
       "      <td>APPLE iPhone 7  Silver 32 GB</td>\n",
       "      <td>HTC One M8 Windows 32GB Verizon 4G LTE Smartph...</td>\n",
       "      <td>HTC EVO V 4G Prepaid Android Phone Virgin Mobile</td>\n",
       "      <td>Huawei Ascend G510 Smartphone 114 cm 45 Zoll T...</td>\n",
       "      <td>LG G2 TMobile D801</td>\n",
       "    </tr>\n",
       "    <tr>\n",
       "      <th>516</th>\n",
       "      <td>osmntyr</td>\n",
       "      <td>Nokia E65 Cep Telefonu</td>\n",
       "      <td>Nokia N97 mini Cep Telefonu</td>\n",
       "      <td>None</td>\n",
       "      <td>None</td>\n",
       "      <td>None</td>\n",
       "    </tr>\n",
       "    <tr>\n",
       "      <th>506</th>\n",
       "      <td>miatamania</td>\n",
       "      <td>Nokia N70 Cep Telefonu SILVER BLACK</td>\n",
       "      <td>Nokia E51 Cep Telefonu</td>\n",
       "      <td>Samsung G810 Cep Telefonu</td>\n",
       "      <td>Samsung G810 Cep Telefonu</td>\n",
       "      <td>Samsung G400 Cep Telefonu</td>\n",
       "    </tr>\n",
       "    <tr>\n",
       "      <th>276</th>\n",
       "      <td>Matt</td>\n",
       "      <td>Huawei W1 Stainless Steel Classic Smartwatch w...</td>\n",
       "      <td>Sim Free Apple iPhone 5S 16GB Mobile Phone  Sp...</td>\n",
       "      <td>Honor Huawei Honor 6X Dual Camera Unlocked Sma...</td>\n",
       "      <td>Lenovo Motorola Moto E 2a Generazione Smartpho...</td>\n",
       "      <td>Sim Free Samsung Galaxy S7 Edge Mobile Phone  ...</td>\n",
       "    </tr>\n",
       "    <tr>\n",
       "      <th>266</th>\n",
       "      <td>Marina</td>\n",
       "      <td>Honor 7 Smartphone débloqué 4G Ecran 52 pouces...</td>\n",
       "      <td>Lenovo Moto G4  Smartphone libre Android 55 Fu...</td>\n",
       "      <td>Sony Ericsson Xperia mini pro Smartphone 76 cm...</td>\n",
       "      <td>Nokia Lumia 925</td>\n",
       "      <td>Meizu M3S 16GB Gris libre</td>\n",
       "    </tr>\n",
       "    <tr>\n",
       "      <th>374</th>\n",
       "      <td>Simon</td>\n",
       "      <td>Sim Free Motorola Moto G 4th Generation Mobile...</td>\n",
       "      <td>Sim Free Apple iPhone 5S 16GB Mobile Phone  Sp...</td>\n",
       "      <td>Huawei P8 lite Smartphone Display 50 IPS Dual ...</td>\n",
       "      <td>Samsung Galaxy Note 3</td>\n",
       "      <td>Sony Xperia S White</td>\n",
       "    </tr>\n",
       "    <tr>\n",
       "      <th>464</th>\n",
       "      <td>francisco</td>\n",
       "      <td>Smartphone Motorola Moto X Play XT1563 16GB</td>\n",
       "      <td>Motorola Moto G 3 Generación  Carcasa Oficial ...</td>\n",
       "      <td>Sony Ericsson W380</td>\n",
       "      <td>Samsung Galaxy S7 Edge Factory Unlocked Phone ...</td>\n",
       "      <td>Nokia 2610</td>\n",
       "    </tr>\n",
       "    <tr>\n",
       "      <th>564</th>\n",
       "      <td>Анатолий</td>\n",
       "      <td>Apple iPhone 5s 16GB серебристый</td>\n",
       "      <td>LG KP500 Cookie Gold Limited Edition</td>\n",
       "      <td>Sony Xperia J черный</td>\n",
       "      <td>Samsung Galaxy S4 GTI9500 16GB белый</td>\n",
       "      <td>HTC Desire 620G Dual SIM белоголубой</td>\n",
       "    </tr>\n",
       "    <tr>\n",
       "      <th>52</th>\n",
       "      <td>Anônimo</td>\n",
       "      <td>Sony Smartphone Sony Xperia L Preto Android 41...</td>\n",
       "      <td>Sony Smartphone Sony Xperia L Preto Android 41...</td>\n",
       "      <td>Samsung Smartphone Samsung Galaxy Win Duos Dua...</td>\n",
       "      <td>Samsung Smartphone Samsung Galaxy Win Duos Dua...</td>\n",
       "      <td>Samsung Galaxy S III Mini Desbloqueado Vivo Me...</td>\n",
       "    </tr>\n",
       "    <tr>\n",
       "      <th>544</th>\n",
       "      <td>sozer</td>\n",
       "      <td>Nokia E51 Cep Telefonu</td>\n",
       "      <td>Nokia N95 8 GB Cep Telefonu</td>\n",
       "      <td>Nokia N95 8 GB Cep Telefonu</td>\n",
       "      <td>Nokia 6131 Cep Telefonu</td>\n",
       "      <td>Nokia 6131 Cep Telefonu</td>\n",
       "    </tr>\n",
       "    <tr>\n",
       "      <th>25</th>\n",
       "      <td>Amazon Customer</td>\n",
       "      <td>Honor 7 Smartphone 132 cm 52 Zoll Touchscreen ...</td>\n",
       "      <td>Huawei W1 Stainless Steel Classic Smartwatch w...</td>\n",
       "      <td>Huawei W1 Stainless Steel Classic Smartwatch w...</td>\n",
       "      <td>Huawei W1 Stainless Steel Classic Smartwatch w...</td>\n",
       "      <td>Huawei W1 Stainless Steel Classic Smartwatch w...</td>\n",
       "    </tr>\n",
       "    <tr>\n",
       "      <th>556</th>\n",
       "      <td>zehrabalta</td>\n",
       "      <td>Samsung G810 Cep Telefonu</td>\n",
       "      <td>Samsung G810 Cep Telefonu</td>\n",
       "      <td>Nokia 5630 XpressMusic</td>\n",
       "      <td>Nokia 2630 Cep Telefonu</td>\n",
       "      <td>Samsung U900 1GB Cep Telefonu</td>\n",
       "    </tr>\n",
       "    <tr>\n",
       "      <th>430</th>\n",
       "      <td>bumudur</td>\n",
       "      <td>Nokia E51 Cep Telefonu</td>\n",
       "      <td>Nokia 8800 Arte Cep Telefonu</td>\n",
       "      <td>Nokia N95 Cep Telefonu</td>\n",
       "      <td>Nokia N95 Cep Telefonu</td>\n",
       "      <td>Nokia E65 Cep Telefonu</td>\n",
       "    </tr>\n",
       "    <tr>\n",
       "      <th>369</th>\n",
       "      <td>Scott</td>\n",
       "      <td>Sony Xperia Z3 UK SIMFree Smartphone  Copper</td>\n",
       "      <td>Samsung Galaxy J5 2016 Sim Free Mobile Phone  ...</td>\n",
       "      <td>APPLE iPhone 7  Silver 32 GB</td>\n",
       "      <td>Motorola Moto G 4G 5Inch 2nd Generation UK SIM...</td>\n",
       "      <td>Samsung E2121 SIM Free Mobile Phone</td>\n",
       "    </tr>\n",
       "    <tr>\n",
       "      <th>364</th>\n",
       "      <td>Samuel</td>\n",
       "      <td>Lenovo Motorola Moto G Smartphone Display HD 4...</td>\n",
       "      <td>Huawei Honor 8 32GB Smartphone Unlocked Midnig...</td>\n",
       "      <td>Lenovo Motorola Moto G 4G 2 Generazione Smartp...</td>\n",
       "      <td>Apple iPhone 6s 16 GB US Warranty Unlocked Cel...</td>\n",
       "      <td>Motorola Moto G 3 Generación  Carcasa Oficial ...</td>\n",
       "    </tr>\n",
       "    <tr>\n",
       "      <th>475</th>\n",
       "      <td>javier</td>\n",
       "      <td>Samsung Galaxy J5  Smartphone de 5 Android 4G ...</td>\n",
       "      <td>BQ Aquaris E5 LTE  Smartphone libre Android pa...</td>\n",
       "      <td>Desconocido Xiaomi MI 4  Smartphone libre Andr...</td>\n",
       "      <td>Sony Xperia U  Smartphone libre Android pantal...</td>\n",
       "      <td>Sharp Aquos Crystal Silver Boost Mobile</td>\n",
       "    </tr>\n",
       "    <tr>\n",
       "      <th>487</th>\n",
       "      <td>kyef</td>\n",
       "      <td>Nokia E51 Cep Telefonu</td>\n",
       "      <td>Nokia E51 Cep Telefonu</td>\n",
       "      <td>Nokia 5310 Cep Telefonu</td>\n",
       "      <td>Nokia 5610 Cep Telefonu</td>\n",
       "      <td>Samsung innov8 i8510 Cep Telefonu</td>\n",
       "    </tr>\n",
       "    <tr>\n",
       "      <th>49</th>\n",
       "      <td>Anthony</td>\n",
       "      <td>Sim Free Samsung Galaxy S7 Edge Mobile Phone  ...</td>\n",
       "      <td>Honor Huawei Honor 6X Dual Camera Unlocked Sma...</td>\n",
       "      <td>MOTCB Moto G Black Boost Mobile</td>\n",
       "      <td>APPLE iPhone 7  Silver 32 GB</td>\n",
       "      <td>Apple iPhone 5s ATT Cellphone 16GB Silver</td>\n",
       "    </tr>\n",
       "    <tr>\n",
       "      <th>588</th>\n",
       "      <td>Егор</td>\n",
       "      <td>Sony Xperia L белый</td>\n",
       "      <td>Apple iPhone 5s 16GB серебристый</td>\n",
       "      <td>Apple iPhone 5s 16GB серебристый</td>\n",
       "      <td>Sony Xperia C черный</td>\n",
       "      <td>Apple iPhone SE 16GB розовое золото</td>\n",
       "    </tr>\n",
       "    <tr>\n",
       "      <th>593</th>\n",
       "      <td>Илья</td>\n",
       "      <td>Sony Xperia Z1 Compact белый</td>\n",
       "      <td>Sony Xperia Z1 Compact черный</td>\n",
       "      <td>Apple iPhone 5s 16GB серебристый</td>\n",
       "      <td>Apple iPhone 5s 16GB серебристый</td>\n",
       "      <td>Apple iPhone 5s 16GB серебристый</td>\n",
       "    </tr>\n",
       "  </tbody>\n",
       "</table>\n",
       "</div>"
      ],
      "text/plain": [
       "                user                                              rec_1  \\\n",
       "3              Aaron                       APPLE iPhone 7  Silver 32 GB   \n",
       "516          osmntyr                             Nokia E65 Cep Telefonu   \n",
       "506       miatamania                Nokia N70 Cep Telefonu SILVER BLACK   \n",
       "276             Matt  Huawei W1 Stainless Steel Classic Smartwatch w...   \n",
       "266           Marina  Honor 7 Smartphone débloqué 4G Ecran 52 pouces...   \n",
       "374            Simon  Sim Free Motorola Moto G 4th Generation Mobile...   \n",
       "464        francisco        Smartphone Motorola Moto X Play XT1563 16GB   \n",
       "564         Анатолий                   Apple iPhone 5s 16GB серебристый   \n",
       "52           Anônimo  Sony Smartphone Sony Xperia L Preto Android 41...   \n",
       "544            sozer                             Nokia E51 Cep Telefonu   \n",
       "25   Amazon Customer  Honor 7 Smartphone 132 cm 52 Zoll Touchscreen ...   \n",
       "556       zehrabalta                          Samsung G810 Cep Telefonu   \n",
       "430          bumudur                             Nokia E51 Cep Telefonu   \n",
       "369            Scott       Sony Xperia Z3 UK SIMFree Smartphone  Copper   \n",
       "364           Samuel  Lenovo Motorola Moto G Smartphone Display HD 4...   \n",
       "475           javier  Samsung Galaxy J5  Smartphone de 5 Android 4G ...   \n",
       "487             kyef                             Nokia E51 Cep Telefonu   \n",
       "49           Anthony  Sim Free Samsung Galaxy S7 Edge Mobile Phone  ...   \n",
       "588             Егор                                Sony Xperia L белый   \n",
       "593             Илья                       Sony Xperia Z1 Compact белый   \n",
       "\n",
       "                                                 rec_2  \\\n",
       "3    HTC One M8 Windows 32GB Verizon 4G LTE Smartph...   \n",
       "516                        Nokia N97 mini Cep Telefonu   \n",
       "506                             Nokia E51 Cep Telefonu   \n",
       "276  Sim Free Apple iPhone 5S 16GB Mobile Phone  Sp...   \n",
       "266  Lenovo Moto G4  Smartphone libre Android 55 Fu...   \n",
       "374  Sim Free Apple iPhone 5S 16GB Mobile Phone  Sp...   \n",
       "464  Motorola Moto G 3 Generación  Carcasa Oficial ...   \n",
       "564               LG KP500 Cookie Gold Limited Edition   \n",
       "52   Sony Smartphone Sony Xperia L Preto Android 41...   \n",
       "544                        Nokia N95 8 GB Cep Telefonu   \n",
       "25   Huawei W1 Stainless Steel Classic Smartwatch w...   \n",
       "556                          Samsung G810 Cep Telefonu   \n",
       "430                       Nokia 8800 Arte Cep Telefonu   \n",
       "369  Samsung Galaxy J5 2016 Sim Free Mobile Phone  ...   \n",
       "364  Huawei Honor 8 32GB Smartphone Unlocked Midnig...   \n",
       "475  BQ Aquaris E5 LTE  Smartphone libre Android pa...   \n",
       "487                             Nokia E51 Cep Telefonu   \n",
       "49   Honor Huawei Honor 6X Dual Camera Unlocked Sma...   \n",
       "588                   Apple iPhone 5s 16GB серебристый   \n",
       "593                      Sony Xperia Z1 Compact черный   \n",
       "\n",
       "                                                 rec_3  \\\n",
       "3     HTC EVO V 4G Prepaid Android Phone Virgin Mobile   \n",
       "516                                               None   \n",
       "506                          Samsung G810 Cep Telefonu   \n",
       "276  Honor Huawei Honor 6X Dual Camera Unlocked Sma...   \n",
       "266  Sony Ericsson Xperia mini pro Smartphone 76 cm...   \n",
       "374  Huawei P8 lite Smartphone Display 50 IPS Dual ...   \n",
       "464                                 Sony Ericsson W380   \n",
       "564                               Sony Xperia J черный   \n",
       "52   Samsung Smartphone Samsung Galaxy Win Duos Dua...   \n",
       "544                        Nokia N95 8 GB Cep Telefonu   \n",
       "25   Huawei W1 Stainless Steel Classic Smartwatch w...   \n",
       "556                             Nokia 5630 XpressMusic   \n",
       "430                             Nokia N95 Cep Telefonu   \n",
       "369                       APPLE iPhone 7  Silver 32 GB   \n",
       "364  Lenovo Motorola Moto G 4G 2 Generazione Smartp...   \n",
       "475  Desconocido Xiaomi MI 4  Smartphone libre Andr...   \n",
       "487                            Nokia 5310 Cep Telefonu   \n",
       "49                     MOTCB Moto G Black Boost Mobile   \n",
       "588                   Apple iPhone 5s 16GB серебристый   \n",
       "593                   Apple iPhone 5s 16GB серебристый   \n",
       "\n",
       "                                                 rec_4  \\\n",
       "3    Huawei Ascend G510 Smartphone 114 cm 45 Zoll T...   \n",
       "516                                               None   \n",
       "506                          Samsung G810 Cep Telefonu   \n",
       "276  Lenovo Motorola Moto E 2a Generazione Smartpho...   \n",
       "266                                    Nokia Lumia 925   \n",
       "374                              Samsung Galaxy Note 3   \n",
       "464  Samsung Galaxy S7 Edge Factory Unlocked Phone ...   \n",
       "564               Samsung Galaxy S4 GTI9500 16GB белый   \n",
       "52   Samsung Smartphone Samsung Galaxy Win Duos Dua...   \n",
       "544                            Nokia 6131 Cep Telefonu   \n",
       "25   Huawei W1 Stainless Steel Classic Smartwatch w...   \n",
       "556                            Nokia 2630 Cep Telefonu   \n",
       "430                             Nokia N95 Cep Telefonu   \n",
       "369  Motorola Moto G 4G 5Inch 2nd Generation UK SIM...   \n",
       "364  Apple iPhone 6s 16 GB US Warranty Unlocked Cel...   \n",
       "475  Sony Xperia U  Smartphone libre Android pantal...   \n",
       "487                            Nokia 5610 Cep Telefonu   \n",
       "49                        APPLE iPhone 7  Silver 32 GB   \n",
       "588                               Sony Xperia C черный   \n",
       "593                   Apple iPhone 5s 16GB серебристый   \n",
       "\n",
       "                                                 rec_5  \n",
       "3                                   LG G2 TMobile D801  \n",
       "516                                               None  \n",
       "506                          Samsung G400 Cep Telefonu  \n",
       "276  Sim Free Samsung Galaxy S7 Edge Mobile Phone  ...  \n",
       "266                          Meizu M3S 16GB Gris libre  \n",
       "374                                Sony Xperia S White  \n",
       "464                                         Nokia 2610  \n",
       "564               HTC Desire 620G Dual SIM белоголубой  \n",
       "52   Samsung Galaxy S III Mini Desbloqueado Vivo Me...  \n",
       "544                            Nokia 6131 Cep Telefonu  \n",
       "25   Huawei W1 Stainless Steel Classic Smartwatch w...  \n",
       "556                      Samsung U900 1GB Cep Telefonu  \n",
       "430                             Nokia E65 Cep Telefonu  \n",
       "369                Samsung E2121 SIM Free Mobile Phone  \n",
       "364  Motorola Moto G 3 Generación  Carcasa Oficial ...  \n",
       "475            Sharp Aquos Crystal Silver Boost Mobile  \n",
       "487                  Samsung innov8 i8510 Cep Telefonu  \n",
       "49           Apple iPhone 5s ATT Cellphone 16GB Silver  \n",
       "588                Apple iPhone SE 16GB розовое золото  \n",
       "593                   Apple iPhone 5s 16GB серебристый  "
      ]
     },
     "execution_count": 79,
     "metadata": {},
     "output_type": "execute_result"
    }
   ],
   "source": [
    "gsSVD=gs.best_estimator['rmse'] # best model from gridsearch\n",
    "gsSVD.fit(trainset) #fit\n",
    "pred=gsSVD.test(testset) #predict\n",
    "\n",
    "# summarise results\n",
    "result=pd.DataFrame(testset,columns=[\"user\",\"item\",\"score\"])\n",
    "result[\"predicted_score\"]=[rec.est for rec in pred] # predicted ratings\n",
    "\n",
    "# create recommendations\n",
    "test_users=sorted(set(result[\"user\"])) #obtain user list\n",
    "recommendations=[]\n",
    "for user in test_users:\n",
    "    record=[user]\n",
    "    # obtain top 5 score estimates with top support\n",
    "    record.extend(list(result[result[\"user\"]==user].sort_values(by=[\"predicted_score\"],ascending=False).head(5).item))\n",
    "    recommendations.append(record)\n",
    "recoms=pd.DataFrame(recommendations,columns=[\"user\",\"rec_1\",\"rec_2\",\"rec_3\",\"rec_4\",\"rec_5\"])\n",
    "\n",
    "# display recommendations\n",
    "recoms.sample(20)"
   ]
  },
  {
   "cell_type": "code",
   "execution_count": 80,
   "id": "9450a1b0",
   "metadata": {
    "scrolled": true
   },
   "outputs": [
    {
     "name": "stdout",
     "output_type": "stream",
     "text": [
      "SVD CF Cross Validation scores for best model\n",
      "RMSE (testset)  mean 2.6080 ± 0.0202 at 95% confidence\n"
     ]
    }
   ],
   "source": [
    "# lets obtain the cross validation scores for the same algorithm\n",
    "svd_CV = cross_validate(gsSVD, data, measures=[u'rmse'], cv=10, return_train_measures=True,\n",
    "               n_jobs=-1, pre_dispatch=u'2*n_jobs', verbose=False)\n",
    "# summarise the score\n",
    "print(\"SVD CF Cross Validation scores for best model\")\n",
    "print(\"RMSE (testset)  mean %.4f %s %.4f at 95%% confidence\"%(svd_CV.get('test_rmse').mean(),\n",
    "                                                              chr(177),svd_CV.get('test_rmse').std()))"
   ]
  },
  {
   "cell_type": "markdown",
   "id": "79a457dc",
   "metadata": {},
   "source": [
    "the cross validation gave better estimates of RMSE scores<br>\n",
    "Grid Search achieved better performance of the SVD estimator"
   ]
  },
  {
   "cell_type": "markdown",
   "id": "2ffb740b",
   "metadata": {},
   "source": [
    "**Steps and tasks:**<br>\n",
    "10. In what business scenario you should use popularity based Recommendation Systems ?"
   ]
  },
  {
   "cell_type": "markdown",
   "id": "5d09e8a3",
   "metadata": {},
   "source": [
    "A popularity based recommender referes to only global ratings and not personalised to the user<br>\n",
    "While this benefits the recommender not to mandate user profile data, it also suffers from user specific recommendation<br>\n",
    "This method best suits when<br>\n",
    " i)  an anonymous user (with all data sharing disabled) approaches the business, (or)<br>\n",
    " ii) a first time business with no user profile database<br>\n",
    "the customer need not be left with no recommendation, but with suggestions from the global popular items"
   ]
  },
  {
   "cell_type": "markdown",
   "id": "3fd5900f",
   "metadata": {},
   "source": [
    "**Steps and tasks:**<br>\n",
    "11. In what business scenario you should use CF based Recommendation Systems ?"
   ]
  },
  {
   "cell_type": "markdown",
   "id": "f5a3aa1b",
   "metadata": {},
   "source": [
    "A Collaboration filtering based recommender utilises the inherent pshycology in the history of ratings provided a user and the inherent characteristics in the history of ratings received by an item.<br>\n",
    "Hence there is no requirement for user personal details or product description for generating suggestions<br>\n",
    "Yet the system would produce personalised suggestions for each user<br>\n",
    "This method best suits when several user ratings for several products are sufficiently available<br>\n",
    "and mostly this fits in a single product (more likely FMCG) use case, like user-movie-ratings, user-gadget-ratings, user-personal_care_product-ratings, etc.."
   ]
  },
  {
   "cell_type": "markdown",
   "id": "4886bc78",
   "metadata": {},
   "source": [
    "**Steps and tasks:**<br>\n",
    "12. What other possible methods can you think of which can further improve the recommendation for different users ?"
   ]
  },
  {
   "cell_type": "markdown",
   "id": "88b6babe",
   "metadata": {},
   "source": [
    "1. There are other methods like Content Based recosys, which doesnot require user data from other similar user, but requiring detailed description / content from the products<br>\n",
    "2. Also a Market Basket Analysis could suggest users with products from other categories that are irrelevant to current preference of the user, yet meaningfully connect with the user needs<br>\n",
    "3. Neverless, a hybrid combination of several recommenders ensembled with/without weightages could customise a business' offerings to the customer."
   ]
  },
  {
   "cell_type": "markdown",
   "id": "6e9568f9",
   "metadata": {},
   "source": [
    "with reference to current dataset in hand, the extract column provided reviews from the users, which could be made use for a NLP based user feel index, along with the product description in product field could be vectorized for a content based recommender<br>\n",
    "Also the datset contains a ratings data field, which could be used for suggesting newer models to the user"
   ]
  },
  {
   "cell_type": "code",
   "execution_count": null,
   "id": "d836d65c",
   "metadata": {},
   "outputs": [],
   "source": []
  }
 ],
 "metadata": {
  "kernelspec": {
   "display_name": "Python 3 (ipykernel)",
   "language": "python",
   "name": "python3"
  },
  "language_info": {
   "codemirror_mode": {
    "name": "ipython",
    "version": 3
   },
   "file_extension": ".py",
   "mimetype": "text/x-python",
   "name": "python",
   "nbconvert_exporter": "python",
   "pygments_lexer": "ipython3",
   "version": "3.9.7"
  }
 },
 "nbformat": 4,
 "nbformat_minor": 5
}
